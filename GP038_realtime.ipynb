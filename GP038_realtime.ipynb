{
 "cells": [
  {
   "cell_type": "code",
   "execution_count": 2,
   "metadata": {},
   "outputs": [
    {
     "name": "stdout",
     "output_type": "stream",
     "text": [
      "Model loaded\n",
      "Model: \"sequential_15\"\n",
      "_________________________________________________________________\n",
      " Layer (type)                Output Shape              Param #   \n",
      "=================================================================\n",
      " conv1d_30 (Conv1D)          (None, 1294, 12)          444       \n",
      "                                                                 \n",
      " average_pooling1d_30 (Avera  (None, 647, 12)          0         \n",
      " gePooling1D)                                                    \n",
      "                                                                 \n",
      " conv1d_31 (Conv1D)          (None, 647, 12)           444       \n",
      "                                                                 \n",
      " average_pooling1d_31 (Avera  (None, 323, 12)          0         \n",
      " gePooling1D)                                                    \n",
      "                                                                 \n",
      " lstm_15 (LSTM)              (None, 12)                1200      \n",
      "                                                                 \n",
      " flatten_15 (Flatten)        (None, 12)                0         \n",
      "                                                                 \n",
      " dense_15 (Dense)            (None, 2)                 26        \n",
      "                                                                 \n",
      "=================================================================\n",
      "Total params: 2,114\n",
      "Trainable params: 2,114\n",
      "Non-trainable params: 0\n",
      "_________________________________________________________________\n"
     ]
    }
   ],
   "source": [
    "import tensorflow as tf\n",
    "\n",
    "class GP038:\n",
    "    def __init__(self):\n",
    "        try:\n",
    "            self.__model = tf.keras.models.load_model('GP038.keras')\n",
    "            print(\"Model loaded\")\n",
    "            self.__model.summary()\n",
    "        except:\n",
    "            print(\"Load error\")\n",
    "        \n",
    "    def __padDat(self, data):\n",
    "        if len(data[0]) <= 1294:\n",
    "            ...\n",
    "    \n",
    "    def predCheat(self, data):\n",
    "        data = self.__padDat(data)\n",
    "        prediction = self.__model.predict(data)\n",
    "\n",
    "GP038 = GP038()"
   ]
  }
 ],
 "metadata": {
  "kernelspec": {
   "display_name": "base",
   "language": "python",
   "name": "python3"
  },
  "language_info": {
   "codemirror_mode": {
    "name": "ipython",
    "version": 3
   },
   "file_extension": ".py",
   "mimetype": "text/x-python",
   "name": "python",
   "nbconvert_exporter": "python",
   "pygments_lexer": "ipython3",
   "version": "3.10.9"
  }
 },
 "nbformat": 4,
 "nbformat_minor": 2
}
