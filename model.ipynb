{
 "cells": [
  {
   "cell_type": "code",
   "execution_count": 2,
   "metadata": {
    "tags": []
   },
   "outputs": [],
   "source": [
    "import pandas as pd\n",
    "import numpy  as np"
   ]
  },
  {
   "cell_type": "markdown",
   "metadata": {},
   "source": [
    "import data file"
   ]
  },
  {
   "cell_type": "code",
   "execution_count": 3,
   "metadata": {
    "tags": []
   },
   "outputs": [
    {
     "data": {
      "text/html": [
       "<div>\n",
       "<style scoped>\n",
       "    .dataframe tbody tr th:only-of-type {\n",
       "        vertical-align: middle;\n",
       "    }\n",
       "\n",
       "    .dataframe tbody tr th {\n",
       "        vertical-align: top;\n",
       "    }\n",
       "\n",
       "    .dataframe thead th {\n",
       "        text-align: right;\n",
       "    }\n",
       "</style>\n",
       "<table border=\"1\" class=\"dataframe\">\n",
       "  <thead>\n",
       "    <tr style=\"text-align: right;\">\n",
       "      <th></th>\n",
       "      <th>Label</th>\n",
       "    </tr>\n",
       "  </thead>\n",
       "  <tbody>\n",
       "    <tr>\n",
       "      <th>count</th>\n",
       "      <td>3239.000000</td>\n",
       "    </tr>\n",
       "    <tr>\n",
       "      <th>mean</th>\n",
       "      <td>0.502007</td>\n",
       "    </tr>\n",
       "    <tr>\n",
       "      <th>std</th>\n",
       "      <td>0.500073</td>\n",
       "    </tr>\n",
       "    <tr>\n",
       "      <th>min</th>\n",
       "      <td>0.000000</td>\n",
       "    </tr>\n",
       "    <tr>\n",
       "      <th>25%</th>\n",
       "      <td>0.000000</td>\n",
       "    </tr>\n",
       "    <tr>\n",
       "      <th>50%</th>\n",
       "      <td>1.000000</td>\n",
       "    </tr>\n",
       "    <tr>\n",
       "      <th>75%</th>\n",
       "      <td>1.000000</td>\n",
       "    </tr>\n",
       "    <tr>\n",
       "      <th>max</th>\n",
       "      <td>1.000000</td>\n",
       "    </tr>\n",
       "  </tbody>\n",
       "</table>\n",
       "</div>"
      ],
      "text/plain": [
       "             Label\n",
       "count  3239.000000\n",
       "mean      0.502007\n",
       "std       0.500073\n",
       "min       0.000000\n",
       "25%       0.000000\n",
       "50%       1.000000\n",
       "75%       1.000000\n",
       "max       1.000000"
      ]
     },
     "execution_count": 3,
     "metadata": {},
     "output_type": "execute_result"
    }
   ],
   "source": [
    "df = pd.read_csv('data_20s.csv')\n",
    "df.describe()"
   ]
  },
  {
   "cell_type": "markdown",
   "metadata": {},
   "source": [
    "parse data from string to numpy array"
   ]
  },
  {
   "cell_type": "code",
   "execution_count": 4,
   "metadata": {
    "tags": []
   },
   "outputs": [],
   "source": [
    "def parseData(series):\n",
    "    final_series = []\n",
    "    for ser in series:\n",
    "        temp = []\n",
    "        for x in \"[],\":\n",
    "            ser = ser.replace(x, \"\")\n",
    "        new_ser  = np.fromstring(ser, dtype=float, sep=\" \")\n",
    "        for i in range(0, len(new_ser), 3):\n",
    "            chunk = [new_ser[i], new_ser[i + 1], new_ser[i + 2]]\n",
    "            temp.append(chunk)\n",
    "        final_series.append(temp)\n",
    "    return np.array(final_series, dtype=object)"
   ]
  },
  {
   "cell_type": "markdown",
   "metadata": {},
   "source": [
    "get the longest sequence of vector in dataset"
   ]
  },
  {
   "cell_type": "code",
   "execution_count": 5,
   "metadata": {
    "tags": []
   },
   "outputs": [
    {
     "name": "stdout",
     "output_type": "stream",
     "text": [
      "599\n",
      "598 0\n",
      "597 1\n",
      "537 2\n",
      "451 7\n",
      "298 36\n",
      "98 58\n",
      "97 188\n",
      "97 302\n",
      "80 750\n",
      "44 1976\n",
      "0 1977\n",
      "0 1978\n",
      "0 1979\n",
      "0 1980\n",
      "0 [1977, 1978, 1979, 1980]\n"
     ]
    }
   ],
   "source": [
    "max_length = 0\n",
    "for lgaze in parseData(df['Left Gaze']):\n",
    "    if len(lgaze) > max_length:\n",
    "        max_length = len(lgaze)\n",
    "        \n",
    "print(max_length)\n",
    "\n",
    "min_length = max_length\n",
    "indices = []\n",
    "for idx, lgaze in enumerate(parseData(df['Left Gaze'])):\n",
    "    if len(lgaze) <= min_length:\n",
    "        min_length = len(lgaze)\n",
    "        print(min_length, idx)\n",
    "    if len(lgaze) == 0:\n",
    "        indices.append(idx)\n",
    "\n",
    "print(min_length, indices)"
   ]
  },
  {
   "cell_type": "code",
   "execution_count": 6,
   "metadata": {},
   "outputs": [],
   "source": [
    "# remove unsuable data\n",
    "df = df.drop(indices)\n",
    "df = df.drop([58, 188, 302, 80, 44])"
   ]
  },
  {
   "cell_type": "markdown",
   "metadata": {},
   "source": [
    "split data"
   ]
  },
  {
   "cell_type": "code",
   "execution_count": 7,
   "metadata": {
    "tags": []
   },
   "outputs": [
    {
     "name": "stdout",
     "output_type": "stream",
     "text": [
      "Non-cheat:  1609\n",
      "Cheat:  1621\n",
      "(2252, 966)\n"
     ]
    }
   ],
   "source": [
    "print(\"Non-cheat: \", len(df[df['Label']==0]))\n",
    "print(\"Cheat: \", len(df[df['Label']==1]))\n",
    "\n",
    "grouped = df.groupby(df.Label)\n",
    "df1 = grouped.get_group(1)\n",
    "df2 = grouped.get_group(0)\n",
    "\n",
    "df2_1 = df2.iloc[:1609,:]\n",
    "df2_2 = df2.iloc[1609:1626,:]\n",
    "\n",
    "df1_train = df1.iloc[:1126,:]\n",
    "df2_train = df2_1.iloc[:1126,:]\n",
    "\n",
    "df1_test = df1.iloc[1126:1609,:]\n",
    "df2_test = df2_1.iloc[1126:1609,:]\n",
    "\n",
    "train = pd.concat([df1_train, df2_train])\n",
    "test  = pd.concat([df1_test, df2_test, df2_2])\n",
    "\n",
    "# shuffle the train set\n",
    "train = train.sample(frac=1)\n",
    "\n",
    "print((len(train), len(test)))"
   ]
  },
  {
   "cell_type": "code",
   "execution_count": 8,
   "metadata": {},
   "outputs": [
    {
     "name": "stdout",
     "output_type": "stream",
     "text": [
      "Non-cheat in train:  1126\n",
      "Cheat in train:  1126\n"
     ]
    }
   ],
   "source": [
    "print(\"Non-cheat in train: \", len(train[train['Label']==0]))\n",
    "print(\"Cheat in train: \", len(train[train['Label']==1]))"
   ]
  },
  {
   "cell_type": "markdown",
   "metadata": {},
   "source": [
    "pad the dataset to the longest sequence size"
   ]
  },
  {
   "cell_type": "code",
   "execution_count": 9,
   "metadata": {
    "tags": []
   },
   "outputs": [],
   "source": [
    "import math\n",
    "\n",
    "def padData(series, length):\n",
    "    for idx, ser in enumerate(series):\n",
    "        times = math.floor(length / len(ser))\n",
    "        add = length % len(ser)\n",
    "        \n",
    "        temp = ser[::-1]\n",
    "        for _ in range(1, times):\n",
    "            series[idx] = np.append(series[idx], temp, axis=0)\n",
    "            temp = temp[::-1]\n",
    "        if add != 0:\n",
    "            series[idx] = np.append(series[idx], temp[0:add], axis=0)\n",
    "    return series"
   ]
  },
  {
   "cell_type": "markdown",
   "metadata": {},
   "source": [
    "Conv1D -> AveragePooling1D -> Conv1D -> LSTM -> Dense"
   ]
  },
  {
   "cell_type": "code",
   "execution_count": 20,
   "metadata": {
    "tags": []
   },
   "outputs": [],
   "source": [
    "from tensorflow.keras.models import Sequential\n",
    "from tensorflow.keras.layers import Conv1D, Flatten, Dense, AveragePooling1D, LSTM, Dropout\n",
    "from tensorflow.keras import optimizers\n",
    "from tensorflow.keras.callbacks import EarlyStopping, History\n",
    "\n",
    "import tensorflow as tf\n",
    "\n",
    "def init_model():\n",
    "    model = Sequential()\n",
    "    model.add(Conv1D(filters=12, kernel_size=3, padding=\"same\", activation='relu', input_shape=(max_length, 12)))\n",
    "    model.add(AveragePooling1D(pool_size=2))\n",
    "    model.add(Conv1D(filters=12, kernel_size=3, padding=\"same\", activation='relu', input_shape=(max_length, 12)))\n",
    "    \n",
    "    model.add(LSTM(12))\n",
    "    \n",
    "    model.add(Dropout(0.1))\n",
    "    \n",
    "    model.add(Flatten())\n",
    "    model.add(Dense(2, activation = 'softmax')) # We have only 2 classes: Non-cheat & Cheat\n",
    "    \n",
    "    adam = optimizers.Adam(learning_rate=0.005, beta_1=0.9, beta_2=0.999, epsilon=None, decay=0.0)\n",
    "    \n",
    "    model.compile(optimizer=adam,\n",
    "                  loss='categorical_crossentropy',\n",
    "                  metrics=['accuracy'])\n",
    "    \n",
    "    model.summary()\n",
    "    \n",
    "    return model"
   ]
  },
  {
   "cell_type": "code",
   "execution_count": 11,
   "metadata": {
    "tags": []
   },
   "outputs": [],
   "source": [
    "right_gaze_train = train[\"Right Gaze\"]\n",
    "left_gaze_train  = train[\"Left Gaze\"]\n",
    "right_head_train = train[\"Right HeadPose\"]\n",
    "left_head_train  = train[\"Left HeadPose\"]\n",
    "label_train = train['Label']\n",
    "\n",
    "right_gaze_train, left_gaze_train, right_head_train, left_head_train = parseData(right_gaze_train), parseData(left_gaze_train), parseData(right_head_train), parseData(left_head_train)"
   ]
  },
  {
   "cell_type": "markdown",
   "metadata": {},
   "source": [
    "initialize new data frame"
   ]
  },
  {
   "cell_type": "code",
   "execution_count": 12,
   "metadata": {
    "tags": []
   },
   "outputs": [],
   "source": [
    "left_head_train  = padData(left_head_train,  max_length)\n",
    "right_head_train = padData(right_head_train, max_length)\n",
    "left_gaze_train  = padData(left_gaze_train,  max_length)\n",
    "right_gaze_train = padData(right_gaze_train, max_length)"
   ]
  },
  {
   "cell_type": "code",
   "execution_count": 13,
   "metadata": {
    "tags": []
   },
   "outputs": [],
   "source": [
    "label_train = np.array(label_train)"
   ]
  },
  {
   "cell_type": "code",
   "execution_count": 14,
   "metadata": {
    "tags": []
   },
   "outputs": [],
   "source": [
    "y_train = []\n",
    "for i in range(len(label_train)):\n",
    "    y_train.append(\n",
    "        tf.convert_to_tensor(\n",
    "            np.reshape(tf.keras.utils.to_categorical(label_train[i], num_classes=2), (1, 2))                 \n",
    "                            )\n",
    "             )\n",
    "    \n",
    "y_train = tf.convert_to_tensor(np.vstack(y_train), dtype=tf.float32)"
   ]
  },
  {
   "cell_type": "code",
   "execution_count": 15,
   "metadata": {
    "tags": []
   },
   "outputs": [
    {
     "name": "stdout",
     "output_type": "stream",
     "text": [
      "tf.Tensor(\n",
      "[[[ 42.221   8.741  43.116 ...  38.869  -9.403  39.99 ]\n",
      "  [ 43.478   9.456  44.495 ...  39.628  -8.942  40.624]\n",
      "  [ 44.947   8.68   45.777 ...  41.212  -8.862  42.154]\n",
      "  ...\n",
      "  [  8.089  23.966  25.294 ...  18.8     5.389  19.557]\n",
      "  [  8.547  23.801  25.289 ...  19.556   4.436  20.053]\n",
      "  [  8.547  23.801  25.289 ...  19.556   4.436  20.053]]\n",
      "\n",
      " [[-53.613  16.166  55.997 ... -73.839   9.421  74.438]\n",
      "  [-48.408   8.25   49.106 ... -70.601   5.159  70.789]\n",
      "  [-43.077   5.556  43.434 ... -68.277   3.502  68.366]\n",
      "  ...\n",
      "  [ 83.049 -12.128  83.93  ...  76.056  -8.198  76.496]\n",
      "  [ 82.221 -10.262  82.859 ...  71.935  -4.558  72.08 ]\n",
      "  [ 82.221 -10.262  82.859 ...  71.935  -4.558  72.08 ]]\n",
      "\n",
      " [[-37.334  43.03   56.969 ... -22.002  36.211  42.371]\n",
      "  [-38.298  45.136  59.194 ... -22.62   34.616  41.351]\n",
      "  [-33.016  45.43   56.16  ... -18.224  35.693  40.076]\n",
      "  ...\n",
      "  [ -9.354   6.918  11.634 ...  -1.063  -8.267   8.335]\n",
      "  [-11.875   6.354  13.468 ...  -3.386  -7.835   8.536]\n",
      "  [-11.875   6.354  13.468 ...  -3.386  -7.835   8.536]]\n",
      "\n",
      " ...\n",
      "\n",
      " [[  4.385  43.407  43.628 ...  13.784  21.119  25.219]\n",
      "  [  4.613  43.471  43.715 ...  14.458  20.918  25.428]\n",
      "  [  6.094  42.456  42.891 ...  14.257  19.8    24.398]\n",
      "  ...\n",
      "  [  4.937  21.38   21.943 ...  -5.496  17.862  18.688]\n",
      "  [  6.024  20.707  21.565 ...  -4.374  16.748  17.309]\n",
      "  [  6.024  20.707  21.565 ...  -4.374  16.748  17.309]]\n",
      "\n",
      " [[ 20.035  14.055  24.473 ...  33.306  -8.741  34.434]\n",
      "  [ 20.361  14.215  24.832 ...  32.375  -9.551  33.754]\n",
      "  [ 17.967  15.87   23.973 ...  30.494  -8.808  31.741]\n",
      "  ...\n",
      "  [  0.669  13.486  13.502 ...  21.373  -7.751  22.735]\n",
      "  [  2.038  13.651  13.802 ...  22.413  -7.492  23.632]\n",
      "  [  2.038  13.651  13.802 ...  22.413  -7.492  23.632]]\n",
      "\n",
      " [[  5.463  52.819  53.1   ...  -7.414  49.772  50.321]\n",
      "  [ 10.541  52.008  53.065 ...  -4.477  49.051  49.254]\n",
      "  [ 10.412  52.323  53.349 ...  -3.481  49.629  49.751]\n",
      "  ...\n",
      "  [-29.779  -7.745  30.77  ... -36.124 -11.533  37.92 ]\n",
      "  [-27.769  -8.654  29.086 ... -33.74  -10.748  35.41 ]\n",
      "  [-22.007  -8.62   23.635 ... -28.187 -10.045  29.923]]], shape=(2252, 599, 12), dtype=float32)\n",
      "tf.Tensor(\n",
      "[[1. 0.]\n",
      " [0. 1.]\n",
      " [1. 0.]\n",
      " ...\n",
      " [1. 0.]\n",
      " [1. 0.]\n",
      " [0. 1.]], shape=(2252, 2), dtype=float32)\n"
     ]
    }
   ],
   "source": [
    "x_train = []\n",
    "\n",
    "for i in range(len(left_gaze_train)):\n",
    "    x_train.append(tf.convert_to_tensor([\n",
    "                                            np.hstack(\n",
    "                                                        (left_gaze_train[i], right_gaze_train[i], left_head_train[i], right_head_train[i])\n",
    "                                                     )\n",
    "                                            ], dtype=tf.float32))\n",
    "\n",
    "\n",
    "\n",
    "x_train = tf.convert_to_tensor(np.vstack(x_train), dtype=tf.float32)\n",
    "\n",
    "print(x_train)\n",
    "\n",
    "print(y_train)"
   ]
  },
  {
   "cell_type": "markdown",
   "metadata": {},
   "source": [
    "Train the model"
   ]
  },
  {
   "cell_type": "code",
   "execution_count": 16,
   "metadata": {
    "tags": []
   },
   "outputs": [],
   "source": [
    "right_gaze_test = test[\"Right Gaze\"]\n",
    "left_gaze_test  = test[\"Left Gaze\"]\n",
    "right_head_test = test[\"Right HeadPose\"]\n",
    "left_head_test  = test[\"Left HeadPose\"]\n",
    "label_test = test['Label']\n",
    "label_test = np.array(label_test)\n",
    "\n",
    "right_gaze_test, left_gaze_test, right_head_test, left_head_test = parseData(right_gaze_test), parseData(left_gaze_test), parseData(right_head_test), parseData(left_head_test)"
   ]
  },
  {
   "cell_type": "code",
   "execution_count": 17,
   "metadata": {
    "tags": []
   },
   "outputs": [],
   "source": [
    "left_head_test  = padData(left_head_test,  max_length)\n",
    "right_head_test = padData(right_head_test, max_length)\n",
    "left_gaze_test  = padData(left_gaze_test,  max_length)\n",
    "right_gaze_test = padData(right_gaze_test, max_length)"
   ]
  },
  {
   "cell_type": "code",
   "execution_count": 18,
   "metadata": {
    "tags": []
   },
   "outputs": [
    {
     "name": "stdout",
     "output_type": "stream",
     "text": [
      "(966, 599, 12) (966, 1)\n"
     ]
    }
   ],
   "source": [
    "x_test = []\n",
    "y_test = []\n",
    "for i in range(len(left_gaze_test)):\n",
    "    x_test.append(tf.convert_to_tensor([\n",
    "                                            np.hstack(\n",
    "                                                        (left_gaze_test[i], right_gaze_test[i], left_head_test[i], right_head_test[i])\n",
    "                                                     )\n",
    "                                            ], dtype=tf.float32))                                        \n",
    "for i in range(len(label_test)):\n",
    "    y_test.append(\n",
    "        tf.convert_to_tensor(np.reshape(tf.keras.utils.to_categorical(label_test[i], num_classes=2), (1, 2)))\n",
    "             )\n",
    "    \n",
    "x_test = tf.convert_to_tensor(np.vstack(x_test), dtype=tf.float32)\n",
    "y_test = tf.convert_to_tensor(np.vstack(label_test), dtype=tf.float32)\n",
    "print(x_test.shape, y_test.shape)"
   ]
  },
  {
   "cell_type": "code",
   "execution_count": 21,
   "metadata": {
    "tags": []
   },
   "outputs": [
    {
     "name": "stdout",
     "output_type": "stream",
     "text": [
      "Model: \"sequential_1\"\n",
      "_________________________________________________________________\n",
      " Layer (type)                Output Shape              Param #   \n",
      "=================================================================\n",
      " conv1d_2 (Conv1D)           (None, 599, 12)           444       \n",
      "                                                                 \n",
      " average_pooling1d_1 (Averag  (None, 299, 12)          0         \n",
      " ePooling1D)                                                     \n",
      "                                                                 \n",
      " conv1d_3 (Conv1D)           (None, 299, 12)           444       \n",
      "                                                                 \n",
      " lstm_1 (LSTM)               (None, 12)                1200      \n",
      "                                                                 \n",
      " dropout_1 (Dropout)         (None, 12)                0         \n",
      "                                                                 \n",
      " flatten_1 (Flatten)         (None, 12)                0         \n",
      "                                                                 \n",
      " dense_1 (Dense)             (None, 2)                 26        \n",
      "                                                                 \n",
      "=================================================================\n",
      "Total params: 2,114\n",
      "Trainable params: 2,114\n",
      "Non-trainable params: 0\n",
      "_________________________________________________________________\n",
      "Epoch 1/200\n",
      "32/32 [==============================] - 10s 180ms/step - loss: 0.6845 - accuracy: 0.5573 - val_loss: 0.6897 - val_accuracy: 0.5973\n",
      "Epoch 2/200\n",
      "32/32 [==============================] - 5s 151ms/step - loss: 0.6795 - accuracy: 0.5913 - val_loss: 0.6625 - val_accuracy: 0.6770\n",
      "Epoch 3/200\n",
      "32/32 [==============================] - 5s 150ms/step - loss: 0.6484 - accuracy: 0.6362 - val_loss: 0.6394 - val_accuracy: 0.6770\n",
      "Epoch 4/200\n",
      "32/32 [==============================] - 5s 147ms/step - loss: 0.6222 - accuracy: 0.6900 - val_loss: 0.6144 - val_accuracy: 0.6770\n",
      "Epoch 5/200\n",
      "32/32 [==============================] - 5s 146ms/step - loss: 0.6266 - accuracy: 0.6634 - val_loss: 0.6187 - val_accuracy: 0.6858\n",
      "Epoch 6/200\n",
      "32/32 [==============================] - 5s 147ms/step - loss: 0.6070 - accuracy: 0.6979 - val_loss: 0.6213 - val_accuracy: 0.6770\n",
      "Epoch 7/200\n",
      "32/32 [==============================] - 5s 146ms/step - loss: 0.6147 - accuracy: 0.6797 - val_loss: 0.6131 - val_accuracy: 0.6947\n",
      "Epoch 8/200\n",
      "32/32 [==============================] - 5s 145ms/step - loss: 0.6280 - accuracy: 0.6723 - val_loss: 0.6186 - val_accuracy: 0.6947\n",
      "Epoch 9/200\n",
      "32/32 [==============================] - 5s 146ms/step - loss: 0.6144 - accuracy: 0.6742 - val_loss: 0.6146 - val_accuracy: 0.6903\n",
      "Epoch 10/200\n",
      "32/32 [==============================] - 5s 147ms/step - loss: 0.6105 - accuracy: 0.6950 - val_loss: 0.6041 - val_accuracy: 0.6858\n",
      "Epoch 11/200\n",
      "32/32 [==============================] - 5s 145ms/step - loss: 0.6047 - accuracy: 0.6905 - val_loss: 0.5982 - val_accuracy: 0.7124\n",
      "Epoch 12/200\n",
      "32/32 [==============================] - 5s 146ms/step - loss: 0.5959 - accuracy: 0.7103 - val_loss: 0.5808 - val_accuracy: 0.7035\n",
      "Epoch 13/200\n",
      "32/32 [==============================] - 5s 148ms/step - loss: 0.5941 - accuracy: 0.7043 - val_loss: 0.5998 - val_accuracy: 0.6858\n",
      "Epoch 14/200\n",
      "32/32 [==============================] - 5s 146ms/step - loss: 0.5893 - accuracy: 0.7004 - val_loss: 0.6172 - val_accuracy: 0.6947\n",
      "Epoch 15/200\n",
      "32/32 [==============================] - 5s 145ms/step - loss: 0.6008 - accuracy: 0.7024 - val_loss: 0.6284 - val_accuracy: 0.6770\n",
      "Epoch 16/200\n",
      "32/32 [==============================] - 5s 146ms/step - loss: 0.6149 - accuracy: 0.6861 - val_loss: 0.5909 - val_accuracy: 0.6991\n",
      "Epoch 17/200\n",
      "32/32 [==============================] - 5s 146ms/step - loss: 0.5938 - accuracy: 0.7058 - val_loss: 0.5895 - val_accuracy: 0.7301\n",
      "Epoch 18/200\n",
      "32/32 [==============================] - 5s 146ms/step - loss: 0.5931 - accuracy: 0.7132 - val_loss: 0.5931 - val_accuracy: 0.7124\n",
      "Epoch 19/200\n",
      "32/32 [==============================] - 5s 145ms/step - loss: 0.5886 - accuracy: 0.7038 - val_loss: 0.5805 - val_accuracy: 0.7345\n",
      "Epoch 20/200\n",
      "32/32 [==============================] - 5s 146ms/step - loss: 0.5844 - accuracy: 0.7024 - val_loss: 0.5893 - val_accuracy: 0.6991\n",
      "Epoch 21/200\n",
      "32/32 [==============================] - 5s 147ms/step - loss: 0.5774 - accuracy: 0.7192 - val_loss: 0.5932 - val_accuracy: 0.7080\n",
      "Epoch 22/200\n",
      "32/32 [==============================] - 5s 146ms/step - loss: 0.5767 - accuracy: 0.7098 - val_loss: 0.5822 - val_accuracy: 0.7345\n",
      "Epoch 23/200\n",
      "32/32 [==============================] - 5s 146ms/step - loss: 0.5826 - accuracy: 0.7043 - val_loss: 0.5779 - val_accuracy: 0.7212\n",
      "Epoch 24/200\n",
      "32/32 [==============================] - 5s 147ms/step - loss: 0.5644 - accuracy: 0.7211 - val_loss: 0.6015 - val_accuracy: 0.6903\n",
      "Epoch 25/200\n",
      "32/32 [==============================] - 5s 147ms/step - loss: 0.5722 - accuracy: 0.7251 - val_loss: 0.5655 - val_accuracy: 0.7345\n",
      "Epoch 26/200\n",
      "32/32 [==============================] - 5s 147ms/step - loss: 0.5544 - accuracy: 0.7345 - val_loss: 0.5621 - val_accuracy: 0.7257\n",
      "Epoch 27/200\n",
      "32/32 [==============================] - 5s 146ms/step - loss: 0.5784 - accuracy: 0.7310 - val_loss: 0.6040 - val_accuracy: 0.7212\n",
      "Epoch 28/200\n",
      "32/32 [==============================] - 5s 146ms/step - loss: 0.5570 - accuracy: 0.7384 - val_loss: 0.5587 - val_accuracy: 0.7301\n",
      "Epoch 29/200\n",
      "32/32 [==============================] - 5s 147ms/step - loss: 0.5477 - accuracy: 0.7433 - val_loss: 0.5732 - val_accuracy: 0.7345\n",
      "Epoch 30/200\n",
      "32/32 [==============================] - 5s 146ms/step - loss: 0.5512 - accuracy: 0.7453 - val_loss: 0.5707 - val_accuracy: 0.7345\n",
      "Epoch 31/200\n",
      "32/32 [==============================] - 5s 147ms/step - loss: 0.5428 - accuracy: 0.7596 - val_loss: 0.5697 - val_accuracy: 0.7389\n",
      "Epoch 32/200\n",
      "32/32 [==============================] - 5s 146ms/step - loss: 0.5459 - accuracy: 0.7488 - val_loss: 0.5567 - val_accuracy: 0.7212\n",
      "Epoch 33/200\n",
      "32/32 [==============================] - 5s 145ms/step - loss: 0.5452 - accuracy: 0.7374 - val_loss: 0.5285 - val_accuracy: 0.7655\n",
      "Epoch 34/200\n",
      "32/32 [==============================] - 5s 146ms/step - loss: 0.5572 - accuracy: 0.7389 - val_loss: 0.5606 - val_accuracy: 0.7257\n",
      "Epoch 35/200\n",
      "32/32 [==============================] - 5s 147ms/step - loss: 0.5528 - accuracy: 0.7266 - val_loss: 0.5685 - val_accuracy: 0.7257\n",
      "Epoch 36/200\n",
      "32/32 [==============================] - 5s 147ms/step - loss: 0.5384 - accuracy: 0.7522 - val_loss: 0.5438 - val_accuracy: 0.7566\n",
      "Epoch 37/200\n",
      "32/32 [==============================] - 5s 148ms/step - loss: 0.5387 - accuracy: 0.7512 - val_loss: 0.5664 - val_accuracy: 0.7345\n",
      "Epoch 38/200\n",
      "32/32 [==============================] - 5s 146ms/step - loss: 0.5488 - accuracy: 0.7414 - val_loss: 0.5346 - val_accuracy: 0.7566\n",
      "Epoch 39/200\n",
      "32/32 [==============================] - 5s 145ms/step - loss: 0.5284 - accuracy: 0.7586 - val_loss: 0.5567 - val_accuracy: 0.7389\n",
      "Epoch 40/200\n",
      "32/32 [==============================] - 5s 147ms/step - loss: 0.5313 - accuracy: 0.7532 - val_loss: 0.5401 - val_accuracy: 0.7389\n",
      "Epoch 41/200\n",
      "32/32 [==============================] - 5s 145ms/step - loss: 0.5169 - accuracy: 0.7572 - val_loss: 0.5347 - val_accuracy: 0.7345\n",
      "Epoch 42/200\n",
      "32/32 [==============================] - 5s 145ms/step - loss: 0.5862 - accuracy: 0.7256 - val_loss: 0.6139 - val_accuracy: 0.6726\n",
      "Epoch 43/200\n",
      "32/32 [==============================] - 5s 143ms/step - loss: 0.5689 - accuracy: 0.7325 - val_loss: 0.5631 - val_accuracy: 0.7080\n",
      "Epoch 44/200\n",
      "32/32 [==============================] - 5s 147ms/step - loss: 0.5394 - accuracy: 0.7616 - val_loss: 0.5342 - val_accuracy: 0.7212\n",
      "Epoch 45/200\n",
      "32/32 [==============================] - 5s 147ms/step - loss: 0.5400 - accuracy: 0.7552 - val_loss: 0.5411 - val_accuracy: 0.6991\n",
      "Epoch 46/200\n",
      "32/32 [==============================] - 5s 147ms/step - loss: 0.5476 - accuracy: 0.7428 - val_loss: 0.5609 - val_accuracy: 0.7168\n",
      "Epoch 47/200\n",
      "32/32 [==============================] - 5s 147ms/step - loss: 0.5332 - accuracy: 0.7502 - val_loss: 0.5349 - val_accuracy: 0.7389\n",
      "Epoch 48/200\n",
      "32/32 [==============================] - 5s 146ms/step - loss: 0.5232 - accuracy: 0.7675 - val_loss: 0.5474 - val_accuracy: 0.7434\n",
      "Epoch 49/200\n",
      "32/32 [==============================] - 5s 148ms/step - loss: 0.5276 - accuracy: 0.7581 - val_loss: 0.5710 - val_accuracy: 0.7168\n",
      "Epoch 50/200\n",
      "32/32 [==============================] - 5s 146ms/step - loss: 0.5051 - accuracy: 0.7665 - val_loss: 0.5370 - val_accuracy: 0.7257\n",
      "Epoch 51/200\n",
      "32/32 [==============================] - 5s 146ms/step - loss: 0.5117 - accuracy: 0.7651 - val_loss: 0.5415 - val_accuracy: 0.7124\n",
      "Epoch 52/200\n",
      "32/32 [==============================] - 5s 148ms/step - loss: 0.5071 - accuracy: 0.7690 - val_loss: 0.5263 - val_accuracy: 0.7301\n",
      "Epoch 53/200\n",
      "32/32 [==============================] - 5s 145ms/step - loss: 0.4961 - accuracy: 0.7651 - val_loss: 0.5306 - val_accuracy: 0.7301\n",
      "Epoch 54/200\n",
      "32/32 [==============================] - 5s 147ms/step - loss: 0.4991 - accuracy: 0.7774 - val_loss: 0.5390 - val_accuracy: 0.7434\n",
      "Epoch 55/200\n",
      "32/32 [==============================] - 5s 147ms/step - loss: 0.4989 - accuracy: 0.7818 - val_loss: 0.5389 - val_accuracy: 0.7212\n",
      "Epoch 56/200\n",
      "32/32 [==============================] - 5s 146ms/step - loss: 0.4961 - accuracy: 0.7804 - val_loss: 0.5398 - val_accuracy: 0.7080\n",
      "Epoch 57/200\n",
      "32/32 [==============================] - 5s 147ms/step - loss: 0.4996 - accuracy: 0.7749 - val_loss: 0.5249 - val_accuracy: 0.7301\n",
      "Epoch 58/200\n",
      "32/32 [==============================] - 5s 147ms/step - loss: 0.4924 - accuracy: 0.7848 - val_loss: 0.5166 - val_accuracy: 0.7566\n",
      "Epoch 59/200\n",
      "32/32 [==============================] - 5s 145ms/step - loss: 0.4913 - accuracy: 0.7754 - val_loss: 0.5201 - val_accuracy: 0.7478\n",
      "Epoch 60/200\n",
      "32/32 [==============================] - 5s 146ms/step - loss: 0.5057 - accuracy: 0.7730 - val_loss: 0.4978 - val_accuracy: 0.7699\n",
      "Epoch 61/200\n",
      "32/32 [==============================] - 5s 146ms/step - loss: 0.5092 - accuracy: 0.7710 - val_loss: 0.5235 - val_accuracy: 0.7345\n",
      "Epoch 62/200\n",
      "32/32 [==============================] - 5s 145ms/step - loss: 0.4973 - accuracy: 0.7774 - val_loss: 0.4979 - val_accuracy: 0.7434\n",
      "Epoch 63/200\n",
      "32/32 [==============================] - 5s 145ms/step - loss: 0.4682 - accuracy: 0.7892 - val_loss: 0.4732 - val_accuracy: 0.7434\n",
      "Epoch 64/200\n",
      "32/32 [==============================] - 5s 145ms/step - loss: 0.4731 - accuracy: 0.7878 - val_loss: 0.4670 - val_accuracy: 0.7522\n",
      "Epoch 65/200\n",
      "32/32 [==============================] - 5s 146ms/step - loss: 0.4704 - accuracy: 0.7902 - val_loss: 0.4936 - val_accuracy: 0.7434\n",
      "Epoch 66/200\n",
      "32/32 [==============================] - 5s 145ms/step - loss: 0.4744 - accuracy: 0.7932 - val_loss: 0.4771 - val_accuracy: 0.7434\n",
      "Epoch 67/200\n",
      "32/32 [==============================] - 5s 147ms/step - loss: 0.4655 - accuracy: 0.7863 - val_loss: 0.4789 - val_accuracy: 0.7566\n",
      "Epoch 68/200\n",
      "32/32 [==============================] - 5s 146ms/step - loss: 0.4746 - accuracy: 0.7843 - val_loss: 0.4685 - val_accuracy: 0.7699\n",
      "Epoch 69/200\n",
      "32/32 [==============================] - 5s 147ms/step - loss: 0.4656 - accuracy: 0.7917 - val_loss: 0.5145 - val_accuracy: 0.7699\n",
      "Epoch 70/200\n",
      "32/32 [==============================] - 5s 147ms/step - loss: 0.4659 - accuracy: 0.7843 - val_loss: 0.4842 - val_accuracy: 0.7301\n",
      "Epoch 71/200\n",
      "32/32 [==============================] - 5s 145ms/step - loss: 0.4666 - accuracy: 0.7858 - val_loss: 0.4947 - val_accuracy: 0.7611\n",
      "Epoch 72/200\n",
      "32/32 [==============================] - 5s 145ms/step - loss: 0.4839 - accuracy: 0.7848 - val_loss: 0.4946 - val_accuracy: 0.7566\n",
      "Epoch 73/200\n",
      "32/32 [==============================] - 5s 146ms/step - loss: 0.4660 - accuracy: 0.7873 - val_loss: 0.4697 - val_accuracy: 0.7743\n",
      "Epoch 74/200\n",
      "32/32 [==============================] - 5s 147ms/step - loss: 0.4774 - accuracy: 0.7868 - val_loss: 0.4982 - val_accuracy: 0.7522\n",
      "Epoch 75/200\n",
      "32/32 [==============================] - 5s 146ms/step - loss: 0.4700 - accuracy: 0.7966 - val_loss: 0.4753 - val_accuracy: 0.7434\n",
      "Epoch 76/200\n",
      "32/32 [==============================] - 5s 146ms/step - loss: 0.4937 - accuracy: 0.7779 - val_loss: 0.4911 - val_accuracy: 0.7301\n",
      "Epoch 77/200\n",
      "32/32 [==============================] - 5s 148ms/step - loss: 0.5377 - accuracy: 0.7354 - val_loss: 0.4807 - val_accuracy: 0.7788\n",
      "Epoch 78/200\n",
      "32/32 [==============================] - 5s 146ms/step - loss: 0.5021 - accuracy: 0.7690 - val_loss: 0.4789 - val_accuracy: 0.7566\n",
      "Epoch 79/200\n",
      "32/32 [==============================] - 5s 147ms/step - loss: 0.5029 - accuracy: 0.7631 - val_loss: 0.4756 - val_accuracy: 0.7522\n",
      "Epoch 80/200\n",
      "32/32 [==============================] - 5s 146ms/step - loss: 0.4695 - accuracy: 0.7927 - val_loss: 0.4473 - val_accuracy: 0.7876\n",
      "Epoch 81/200\n",
      "32/32 [==============================] - 5s 146ms/step - loss: 0.4751 - accuracy: 0.7868 - val_loss: 0.4656 - val_accuracy: 0.7965\n",
      "Epoch 82/200\n",
      "32/32 [==============================] - 5s 146ms/step - loss: 0.4578 - accuracy: 0.7927 - val_loss: 0.4682 - val_accuracy: 0.7965\n",
      "Epoch 83/200\n",
      "32/32 [==============================] - 5s 146ms/step - loss: 0.4851 - accuracy: 0.7818 - val_loss: 0.4678 - val_accuracy: 0.7743\n",
      "Epoch 84/200\n",
      "32/32 [==============================] - 5s 146ms/step - loss: 0.4985 - accuracy: 0.7685 - val_loss: 0.4618 - val_accuracy: 0.7832\n",
      "Epoch 85/200\n",
      "32/32 [==============================] - 5s 146ms/step - loss: 0.4770 - accuracy: 0.7774 - val_loss: 0.4438 - val_accuracy: 0.7876\n",
      "Epoch 86/200\n",
      "32/32 [==============================] - 5s 147ms/step - loss: 0.4775 - accuracy: 0.7878 - val_loss: 0.4391 - val_accuracy: 0.7832\n",
      "Epoch 87/200\n",
      "32/32 [==============================] - 5s 146ms/step - loss: 0.4964 - accuracy: 0.7828 - val_loss: 0.4446 - val_accuracy: 0.8009\n",
      "Epoch 88/200\n",
      "32/32 [==============================] - 5s 146ms/step - loss: 0.5003 - accuracy: 0.7670 - val_loss: 0.4975 - val_accuracy: 0.7655\n",
      "Epoch 89/200\n",
      "32/32 [==============================] - 5s 146ms/step - loss: 0.4900 - accuracy: 0.7833 - val_loss: 0.4704 - val_accuracy: 0.7920\n",
      "Epoch 90/200\n",
      "32/32 [==============================] - 5s 146ms/step - loss: 0.4858 - accuracy: 0.7784 - val_loss: 0.4614 - val_accuracy: 0.8009\n",
      "Epoch 91/200\n",
      "32/32 [==============================] - 5s 148ms/step - loss: 0.4870 - accuracy: 0.7804 - val_loss: 0.4449 - val_accuracy: 0.8142\n",
      "Epoch 92/200\n",
      "32/32 [==============================] - 5s 146ms/step - loss: 0.4671 - accuracy: 0.7912 - val_loss: 0.4413 - val_accuracy: 0.7788\n",
      "Epoch 93/200\n",
      "32/32 [==============================] - 5s 146ms/step - loss: 0.4585 - accuracy: 0.7927 - val_loss: 0.4351 - val_accuracy: 0.8053\n",
      "Epoch 94/200\n",
      "32/32 [==============================] - 5s 146ms/step - loss: 0.4521 - accuracy: 0.7996 - val_loss: 0.4648 - val_accuracy: 0.7699\n",
      "Epoch 95/200\n",
      "32/32 [==============================] - 5s 147ms/step - loss: 0.4647 - accuracy: 0.7981 - val_loss: 0.4225 - val_accuracy: 0.8230\n",
      "Epoch 96/200\n",
      "32/32 [==============================] - 5s 145ms/step - loss: 0.4512 - accuracy: 0.8050 - val_loss: 0.4651 - val_accuracy: 0.7965\n",
      "Epoch 97/200\n",
      "32/32 [==============================] - 5s 146ms/step - loss: 0.4731 - accuracy: 0.7922 - val_loss: 0.4650 - val_accuracy: 0.7920\n",
      "Epoch 98/200\n",
      "32/32 [==============================] - 5s 147ms/step - loss: 0.4492 - accuracy: 0.8055 - val_loss: 0.4725 - val_accuracy: 0.7699\n",
      "Epoch 99/200\n",
      "32/32 [==============================] - 5s 148ms/step - loss: 0.4568 - accuracy: 0.7991 - val_loss: 0.4201 - val_accuracy: 0.8274\n",
      "Epoch 100/200\n",
      "32/32 [==============================] - 5s 147ms/step - loss: 0.4666 - accuracy: 0.7927 - val_loss: 0.4457 - val_accuracy: 0.8053\n",
      "Epoch 101/200\n",
      "32/32 [==============================] - 5s 146ms/step - loss: 0.4542 - accuracy: 0.7986 - val_loss: 0.4415 - val_accuracy: 0.7876\n",
      "Epoch 102/200\n",
      "32/32 [==============================] - 5s 146ms/step - loss: 0.4498 - accuracy: 0.8001 - val_loss: 0.4426 - val_accuracy: 0.7832\n",
      "Epoch 103/200\n",
      "32/32 [==============================] - 5s 148ms/step - loss: 0.4441 - accuracy: 0.8050 - val_loss: 0.4481 - val_accuracy: 0.8097\n",
      "Epoch 104/200\n",
      "32/32 [==============================] - 5s 146ms/step - loss: 0.4454 - accuracy: 0.8026 - val_loss: 0.4192 - val_accuracy: 0.8274\n",
      "Epoch 105/200\n",
      "32/32 [==============================] - 5s 146ms/step - loss: 0.4413 - accuracy: 0.8021 - val_loss: 0.4680 - val_accuracy: 0.7743\n",
      "Epoch 106/200\n",
      "32/32 [==============================] - 5s 148ms/step - loss: 0.4428 - accuracy: 0.8100 - val_loss: 0.4227 - val_accuracy: 0.8142\n",
      "Epoch 107/200\n",
      "32/32 [==============================] - 5s 154ms/step - loss: 0.4430 - accuracy: 0.7962 - val_loss: 0.4091 - val_accuracy: 0.8274\n",
      "Epoch 108/200\n",
      "32/32 [==============================] - 5s 150ms/step - loss: 0.4542 - accuracy: 0.8006 - val_loss: 0.4275 - val_accuracy: 0.8053\n",
      "Epoch 109/200\n",
      "32/32 [==============================] - 5s 147ms/step - loss: 0.4820 - accuracy: 0.7764 - val_loss: 0.4808 - val_accuracy: 0.7743\n",
      "Epoch 110/200\n",
      "32/32 [==============================] - 5s 144ms/step - loss: 0.4680 - accuracy: 0.7878 - val_loss: 0.4752 - val_accuracy: 0.7743\n",
      "Epoch 111/200\n",
      "32/32 [==============================] - 5s 144ms/step - loss: 0.5024 - accuracy: 0.7734 - val_loss: 0.5027 - val_accuracy: 0.7434\n",
      "Epoch 112/200\n",
      "32/32 [==============================] - 5s 143ms/step - loss: 0.4773 - accuracy: 0.7774 - val_loss: 0.4572 - val_accuracy: 0.7655\n",
      "Epoch 113/200\n",
      "32/32 [==============================] - 5s 143ms/step - loss: 0.4456 - accuracy: 0.8001 - val_loss: 0.4138 - val_accuracy: 0.8186\n",
      "Epoch 114/200\n",
      "32/32 [==============================] - 5s 143ms/step - loss: 0.4354 - accuracy: 0.8065 - val_loss: 0.4379 - val_accuracy: 0.7876\n",
      "Epoch 115/200\n",
      "32/32 [==============================] - 5s 142ms/step - loss: 0.4396 - accuracy: 0.8065 - val_loss: 0.4321 - val_accuracy: 0.8009\n",
      "Epoch 116/200\n",
      "32/32 [==============================] - 5s 142ms/step - loss: 0.4359 - accuracy: 0.8085 - val_loss: 0.4869 - val_accuracy: 0.7522\n",
      "Epoch 117/200\n",
      "32/32 [==============================] - 5s 142ms/step - loss: 0.4520 - accuracy: 0.8060 - val_loss: 0.4573 - val_accuracy: 0.8009\n",
      "Epoch 118/200\n",
      "32/32 [==============================] - 5s 142ms/step - loss: 0.4815 - accuracy: 0.7897 - val_loss: 0.4607 - val_accuracy: 0.7743\n",
      "Epoch 119/200\n",
      "32/32 [==============================] - 5s 143ms/step - loss: 0.4612 - accuracy: 0.7917 - val_loss: 0.4330 - val_accuracy: 0.8142\n",
      "Epoch 120/200\n",
      "32/32 [==============================] - 5s 158ms/step - loss: 0.4530 - accuracy: 0.7996 - val_loss: 0.4812 - val_accuracy: 0.7788\n",
      "Epoch 121/200\n",
      "32/32 [==============================] - 5s 148ms/step - loss: 0.4613 - accuracy: 0.7976 - val_loss: 0.4910 - val_accuracy: 0.7566\n",
      "Epoch 122/200\n",
      "32/32 [==============================] - 5s 144ms/step - loss: 0.4731 - accuracy: 0.7853 - val_loss: 0.4751 - val_accuracy: 0.7743\n",
      "Epoch 123/200\n",
      "32/32 [==============================] - 5s 145ms/step - loss: 0.4713 - accuracy: 0.7858 - val_loss: 0.4755 - val_accuracy: 0.7743\n",
      "Epoch 124/200\n",
      "32/32 [==============================] - 5s 145ms/step - loss: 0.4506 - accuracy: 0.7981 - val_loss: 0.4922 - val_accuracy: 0.7611\n",
      "Epoch 125/200\n",
      "32/32 [==============================] - 5s 146ms/step - loss: 0.4497 - accuracy: 0.8016 - val_loss: 0.4702 - val_accuracy: 0.7743\n",
      "Epoch 126/200\n",
      "32/32 [==============================] - 5s 147ms/step - loss: 0.4475 - accuracy: 0.8001 - val_loss: 0.4448 - val_accuracy: 0.7920\n",
      "Epoch 127/200\n",
      "32/32 [==============================] - 5s 146ms/step - loss: 0.4491 - accuracy: 0.7976 - val_loss: 0.4162 - val_accuracy: 0.8053\n",
      "Epoch 128/200\n",
      "32/32 [==============================] - 5s 152ms/step - loss: 0.4316 - accuracy: 0.8110 - val_loss: 0.4166 - val_accuracy: 0.8407\n",
      "Epoch 129/200\n",
      "32/32 [==============================] - 5s 149ms/step - loss: 0.4598 - accuracy: 0.7932 - val_loss: 0.4280 - val_accuracy: 0.8186\n",
      "Epoch 130/200\n",
      "32/32 [==============================] - 5s 148ms/step - loss: 0.5006 - accuracy: 0.7665 - val_loss: 0.4912 - val_accuracy: 0.7788\n",
      "Epoch 131/200\n",
      "32/32 [==============================] - 5s 144ms/step - loss: 0.5122 - accuracy: 0.7527 - val_loss: 0.4386 - val_accuracy: 0.7876\n",
      "Epoch 132/200\n",
      "32/32 [==============================] - 5s 143ms/step - loss: 0.5212 - accuracy: 0.7349 - val_loss: 0.4995 - val_accuracy: 0.7699\n",
      "Epoch 133/200\n",
      "32/32 [==============================] - 5s 142ms/step - loss: 0.5045 - accuracy: 0.7591 - val_loss: 0.4650 - val_accuracy: 0.7920\n",
      "Epoch 134/200\n",
      "32/32 [==============================] - 5s 144ms/step - loss: 0.4907 - accuracy: 0.7720 - val_loss: 0.4846 - val_accuracy: 0.7655\n",
      "Epoch 135/200\n",
      "32/32 [==============================] - 5s 143ms/step - loss: 0.4941 - accuracy: 0.7685 - val_loss: 0.4528 - val_accuracy: 0.7655\n",
      "Epoch 136/200\n",
      "32/32 [==============================] - 5s 144ms/step - loss: 0.4867 - accuracy: 0.7799 - val_loss: 0.4589 - val_accuracy: 0.7655\n",
      "Epoch 137/200\n",
      "32/32 [==============================] - 5s 142ms/step - loss: 0.4867 - accuracy: 0.7739 - val_loss: 0.4422 - val_accuracy: 0.7965\n",
      "Epoch 138/200\n",
      "32/32 [==============================] - 5s 143ms/step - loss: 0.4712 - accuracy: 0.7932 - val_loss: 0.4483 - val_accuracy: 0.7788\n",
      "Epoch 139/200\n",
      "32/32 [==============================] - 5s 143ms/step - loss: 0.4582 - accuracy: 0.7952 - val_loss: 0.4420 - val_accuracy: 0.8053\n",
      "Epoch 140/200\n",
      "32/32 [==============================] - 5s 144ms/step - loss: 0.4501 - accuracy: 0.8070 - val_loss: 0.4369 - val_accuracy: 0.8186\n",
      "Epoch 141/200\n",
      "32/32 [==============================] - 5s 143ms/step - loss: 0.4515 - accuracy: 0.8016 - val_loss: 0.4399 - val_accuracy: 0.7965\n",
      "Epoch 142/200\n",
      "32/32 [==============================] - 5s 143ms/step - loss: 0.4423 - accuracy: 0.8100 - val_loss: 0.4756 - val_accuracy: 0.7920\n",
      "Epoch 143/200\n",
      "32/32 [==============================] - 5s 143ms/step - loss: 0.4377 - accuracy: 0.8085 - val_loss: 0.4061 - val_accuracy: 0.8363\n",
      "Epoch 144/200\n",
      "32/32 [==============================] - 5s 144ms/step - loss: 0.4338 - accuracy: 0.8149 - val_loss: 0.4206 - val_accuracy: 0.8097\n",
      "Epoch 145/200\n",
      "32/32 [==============================] - 5s 144ms/step - loss: 0.4602 - accuracy: 0.7937 - val_loss: 0.5079 - val_accuracy: 0.7566\n",
      "Epoch 146/200\n",
      "32/32 [==============================] - 5s 144ms/step - loss: 0.4813 - accuracy: 0.7883 - val_loss: 0.4481 - val_accuracy: 0.8053\n",
      "Epoch 147/200\n",
      "32/32 [==============================] - 5s 145ms/step - loss: 0.4880 - accuracy: 0.7808 - val_loss: 0.5083 - val_accuracy: 0.7434\n",
      "Epoch 148/200\n",
      "32/32 [==============================] - 5s 145ms/step - loss: 0.4970 - accuracy: 0.7655 - val_loss: 0.4681 - val_accuracy: 0.7965\n",
      "Epoch 149/200\n",
      "32/32 [==============================] - 5s 145ms/step - loss: 0.4849 - accuracy: 0.7695 - val_loss: 0.4994 - val_accuracy: 0.7566\n",
      "Epoch 150/200\n",
      "32/32 [==============================] - 5s 145ms/step - loss: 0.4895 - accuracy: 0.7808 - val_loss: 0.4587 - val_accuracy: 0.7788\n",
      "Epoch 151/200\n",
      "32/32 [==============================] - 5s 146ms/step - loss: 0.4682 - accuracy: 0.7873 - val_loss: 0.4555 - val_accuracy: 0.7788\n",
      "Epoch 152/200\n",
      "32/32 [==============================] - 5s 145ms/step - loss: 0.4552 - accuracy: 0.7952 - val_loss: 0.4625 - val_accuracy: 0.7832\n",
      "Epoch 153/200\n",
      "32/32 [==============================] - 5s 144ms/step - loss: 0.4591 - accuracy: 0.8080 - val_loss: 0.4572 - val_accuracy: 0.8097\n",
      "Epoch 154/200\n",
      "32/32 [==============================] - 5s 144ms/step - loss: 0.4588 - accuracy: 0.8001 - val_loss: 0.4453 - val_accuracy: 0.8053\n",
      "Epoch 155/200\n",
      "32/32 [==============================] - 5s 144ms/step - loss: 0.4533 - accuracy: 0.7932 - val_loss: 0.4734 - val_accuracy: 0.7566\n",
      "Epoch 156/200\n",
      "32/32 [==============================] - 5s 146ms/step - loss: 0.4530 - accuracy: 0.8090 - val_loss: 0.4673 - val_accuracy: 0.8097\n",
      "Epoch 157/200\n",
      "32/32 [==============================] - 5s 148ms/step - loss: 0.4541 - accuracy: 0.8065 - val_loss: 0.4393 - val_accuracy: 0.8407\n",
      "Epoch 158/200\n",
      "32/32 [==============================] - 5s 146ms/step - loss: 0.4709 - accuracy: 0.7996 - val_loss: 0.4528 - val_accuracy: 0.8097\n",
      "Epoch 159/200\n",
      "32/32 [==============================] - 5s 146ms/step - loss: 0.4466 - accuracy: 0.8045 - val_loss: 0.4229 - val_accuracy: 0.8053\n",
      "Epoch 160/200\n",
      "32/32 [==============================] - 5s 145ms/step - loss: 0.4351 - accuracy: 0.8100 - val_loss: 0.4135 - val_accuracy: 0.8319\n",
      "Epoch 161/200\n",
      "32/32 [==============================] - 5s 145ms/step - loss: 0.4438 - accuracy: 0.8040 - val_loss: 0.4373 - val_accuracy: 0.8009\n",
      "Epoch 162/200\n",
      "32/32 [==============================] - 5s 146ms/step - loss: 0.4646 - accuracy: 0.7947 - val_loss: 0.4988 - val_accuracy: 0.7788\n",
      "Epoch 163/200\n",
      "32/32 [==============================] - 5s 146ms/step - loss: 0.4668 - accuracy: 0.7853 - val_loss: 0.4924 - val_accuracy: 0.7743\n",
      "Epoch 164/200\n",
      "32/32 [==============================] - 5s 146ms/step - loss: 0.4574 - accuracy: 0.7932 - val_loss: 0.4663 - val_accuracy: 0.7788\n",
      "Epoch 165/200\n",
      "32/32 [==============================] - 5s 147ms/step - loss: 0.4817 - accuracy: 0.7883 - val_loss: 0.5612 - val_accuracy: 0.7168\n",
      "Epoch 166/200\n",
      "32/32 [==============================] - 5s 146ms/step - loss: 0.5572 - accuracy: 0.7285 - val_loss: 0.5279 - val_accuracy: 0.7699\n",
      "Epoch 167/200\n",
      "32/32 [==============================] - 5s 144ms/step - loss: 0.5179 - accuracy: 0.7759 - val_loss: 0.6893 - val_accuracy: 0.6593\n",
      "Epoch 168/200\n",
      "32/32 [==============================] - 5s 144ms/step - loss: 0.5806 - accuracy: 0.7345 - val_loss: 0.5724 - val_accuracy: 0.7080\n",
      "Epoch 169/200\n",
      "32/32 [==============================] - 5s 145ms/step - loss: 0.5480 - accuracy: 0.7483 - val_loss: 0.5352 - val_accuracy: 0.7168\n",
      "Epoch 170/200\n",
      "32/32 [==============================] - 5s 142ms/step - loss: 0.6121 - accuracy: 0.6673 - val_loss: 0.5740 - val_accuracy: 0.6770\n",
      "Epoch 171/200\n",
      "32/32 [==============================] - 5s 143ms/step - loss: 0.5588 - accuracy: 0.7157 - val_loss: 0.5279 - val_accuracy: 0.7301\n",
      "Epoch 172/200\n",
      "32/32 [==============================] - 5s 144ms/step - loss: 0.5389 - accuracy: 0.7433 - val_loss: 0.5343 - val_accuracy: 0.7257\n",
      "Epoch 173/200\n",
      "32/32 [==============================] - 5s 143ms/step - loss: 0.5287 - accuracy: 0.7532 - val_loss: 0.5684 - val_accuracy: 0.7212\n",
      "Epoch 174/200\n",
      "32/32 [==============================] - 5s 144ms/step - loss: 0.5254 - accuracy: 0.7443 - val_loss: 0.5350 - val_accuracy: 0.7478\n",
      "Epoch 175/200\n",
      "32/32 [==============================] - 5s 143ms/step - loss: 0.5050 - accuracy: 0.7655 - val_loss: 0.4761 - val_accuracy: 0.7566\n",
      "Epoch 176/200\n",
      "32/32 [==============================] - 5s 143ms/step - loss: 0.5141 - accuracy: 0.7621 - val_loss: 0.4765 - val_accuracy: 0.7611\n",
      "Epoch 177/200\n",
      "32/32 [==============================] - 5s 144ms/step - loss: 0.4971 - accuracy: 0.7764 - val_loss: 0.4664 - val_accuracy: 0.7611\n",
      "Epoch 178/200\n",
      "32/32 [==============================] - 5s 144ms/step - loss: 0.5031 - accuracy: 0.7655 - val_loss: 0.4569 - val_accuracy: 0.7965\n",
      "Epoch 179/200\n",
      "32/32 [==============================] - 5s 144ms/step - loss: 0.4971 - accuracy: 0.7759 - val_loss: 0.4685 - val_accuracy: 0.7788\n",
      "Epoch 180/200\n",
      "32/32 [==============================] - 5s 146ms/step - loss: 0.4759 - accuracy: 0.7833 - val_loss: 0.4680 - val_accuracy: 0.7478\n",
      "Epoch 181/200\n",
      "32/32 [==============================] - 5s 146ms/step - loss: 0.5013 - accuracy: 0.7695 - val_loss: 0.4640 - val_accuracy: 0.7788\n",
      "Epoch 182/200\n",
      "32/32 [==============================] - 5s 146ms/step - loss: 0.4785 - accuracy: 0.7794 - val_loss: 0.4974 - val_accuracy: 0.7611\n",
      "Epoch 183/200\n",
      "32/32 [==============================] - 5s 144ms/step - loss: 0.5152 - accuracy: 0.7646 - val_loss: 0.5168 - val_accuracy: 0.7345\n",
      "Epoch 184/200\n",
      "32/32 [==============================] - 5s 144ms/step - loss: 0.5909 - accuracy: 0.6856 - val_loss: 0.6360 - val_accuracy: 0.6504\n",
      "Epoch 185/200\n",
      "32/32 [==============================] - 5s 146ms/step - loss: 0.5588 - accuracy: 0.7201 - val_loss: 0.5838 - val_accuracy: 0.7168\n",
      "Epoch 186/200\n",
      "32/32 [==============================] - 5s 146ms/step - loss: 0.5471 - accuracy: 0.7414 - val_loss: 0.5823 - val_accuracy: 0.7345\n",
      "Epoch 187/200\n",
      "32/32 [==============================] - 5s 146ms/step - loss: 0.5737 - accuracy: 0.7147 - val_loss: 0.5525 - val_accuracy: 0.7124\n",
      "Epoch 188/200\n",
      "32/32 [==============================] - 5s 145ms/step - loss: 0.5612 - accuracy: 0.7063 - val_loss: 0.5290 - val_accuracy: 0.7522\n",
      "Epoch 189/200\n",
      "32/32 [==============================] - 5s 145ms/step - loss: 0.5079 - accuracy: 0.7695 - val_loss: 0.4999 - val_accuracy: 0.7522\n",
      "Epoch 190/200\n",
      "32/32 [==============================] - 5s 145ms/step - loss: 0.5051 - accuracy: 0.7710 - val_loss: 0.5013 - val_accuracy: 0.7301\n",
      "Epoch 191/200\n",
      "32/32 [==============================] - 5s 145ms/step - loss: 0.5161 - accuracy: 0.7754 - val_loss: 0.5013 - val_accuracy: 0.7699\n",
      "Epoch 192/200\n",
      "32/32 [==============================] - 5s 145ms/step - loss: 0.5358 - accuracy: 0.7611 - val_loss: 0.4960 - val_accuracy: 0.7876\n",
      "Epoch 193/200\n",
      "32/32 [==============================] - 5s 145ms/step - loss: 0.5004 - accuracy: 0.7823 - val_loss: 0.4632 - val_accuracy: 0.7965\n",
      "Epoch 194/200\n",
      "32/32 [==============================] - 5s 144ms/step - loss: 0.5227 - accuracy: 0.7670 - val_loss: 0.4610 - val_accuracy: 0.8319\n",
      "Epoch 195/200\n",
      "32/32 [==============================] - 5s 143ms/step - loss: 0.5108 - accuracy: 0.7779 - val_loss: 0.4476 - val_accuracy: 0.8053\n",
      "Epoch 196/200\n",
      "32/32 [==============================] - 5s 144ms/step - loss: 0.4938 - accuracy: 0.7952 - val_loss: 0.4406 - val_accuracy: 0.8186\n",
      "Epoch 197/200\n",
      "32/32 [==============================] - 5s 143ms/step - loss: 0.4869 - accuracy: 0.7996 - val_loss: 0.4834 - val_accuracy: 0.7876\n",
      "Epoch 198/200\n",
      "32/32 [==============================] - 5s 144ms/step - loss: 0.4952 - accuracy: 0.7828 - val_loss: 0.4352 - val_accuracy: 0.8097\n",
      "Epoch 199/200\n",
      "32/32 [==============================] - 5s 143ms/step - loss: 0.5609 - accuracy: 0.7325 - val_loss: 0.5224 - val_accuracy: 0.7832\n",
      "Epoch 200/200\n",
      "32/32 [==============================] - 5s 146ms/step - loss: 0.5332 - accuracy: 0.7438 - val_loss: 0.4736 - val_accuracy: 0.7655\n"
     ]
    }
   ],
   "source": [
    "model = init_model()\n",
    "# callbacks = [EarlyStopping(monitor='val_loss', patience=3), History()]\n",
    "callbacks = [History()]\n",
    "history = model.fit(x_train, y_train,validation_split=0.1, epochs=200, batch_size=64, callbacks=callbacks)"
   ]
  },
  {
   "cell_type": "markdown",
   "metadata": {},
   "source": [
    "Predict test set"
   ]
  },
  {
   "cell_type": "code",
   "execution_count": 22,
   "metadata": {
    "tags": []
   },
   "outputs": [
    {
     "name": "stdout",
     "output_type": "stream",
     "text": [
      "8/8 [==============================] - 1s 41ms/step - loss: 0.9389 - accuracy: 0.5124\n",
      "[0.9389437437057495, 0.5124223828315735]\n",
      "31/31 [==============================] - 2s 28ms/step\n",
      "[1 1 0 1 1 0 0 1 1 1 1 1 1 1 1 1 1 1 1 1 1 0 0 1 1 0 1 1 0 0 0 0 1 0 1 1 0\n",
      " 0 1 0 1 0 0 0 0 1 0 0 0 0 0 1 1 1 0 0 1 1 1 1 0 1 1 1 0 1 1 0 1 1 1 1 1 1\n",
      " 1 1 1 1 1 1 1 1 1 1 1 1 1 1 1 1 1 1 1 1 1 1 1 1 1 1 1 0 1 1 0 0 1 1 1 0 1\n",
      " 1 1 1 1 1 1 1 1 1 1 1 0 1 1 1 1 1 1 1 1 1 1 0 1 1 1 1 1 1 1 1 1 1 1 1 1 1\n",
      " 0 0 1 1 1 1 1 1 1 1 1 1 0 1 0 0 1 1 0 1 1 0 1 1 1 1 1 1 1 1 1 1 1 1 1 1 1\n",
      " 1 1 1 1 1 1 0 0 1 1 0 1 1 1 1 1 1 1 1 1 1 1 1 1 1 1 1 1 1 1 1 1 1 1 1 1 0\n",
      " 0 0 0 0 0 0 1 1 1 1 1 1 0 1 1 1 1 1 1 1 1 1 1 1 1 1 1 1 1 1 1 1 1 1 1 1 1\n",
      " 1 0 0 1 1 1 1 0 0 1 1 1 0 1 1 1 1 1 1 1 1 1 1 1 1 1 1 0 1 1 1 1 1 0 1 0 1\n",
      " 0 1 1 1 1 0 0 1 1 1 1 1 1 1 1 0 1 1 1 1 1 1 1 1 1 1 1 0 1 1 1 1 0 0 1 1 0\n",
      " 0 1 0 1 0 1 1 1 0 0 1 1 1 1 0 1 1 1 0 1 1 0 1 1 0 1 1 1 1 1 0 0 0 1 1 0 1\n",
      " 1 1 0 1 0 1 1 1 0 0 1 1 0 0 0 0 1 1 1 0 1 1 1 1 1 1 1 1 1 1 1 1 1 1 1 1 0\n",
      " 0 0 0 0 0 0 0 1 0 1 0 0 1 0 0 0 1 1 0 1 0 1 0 0 1 0 0 1 1 1 1 1 1 1 1 1 0\n",
      " 1 1 1 1 1 1 0 1 1 1 1 1 1 1 1 1 1 0 1 1 1 0 1 1 1 1 0 1 0 0 1 1 0 1 1 0 1\n",
      " 0 1 0 1 0 1 1 0 0 0 0 0 0 0 0 0 0 0 0 0 0 0 0 0 0 0 0 0 0 0 0 1 0 0 0 0 0\n",
      " 0 0 0 0 0 0 0 0 0 0 0 0 0 0 0 0 0 0 0 0 0 0 0 0 0 0 0 0 0 0 0 0 0 1 0 0 0\n",
      " 0 0 0 0 0 0 0 0 0 0 0 0 0 1 0 0 0 0 0 0 0 0 0 0 0 1 0 1 0 1 0 0 0 1 0 0 0\n",
      " 0 1 0 0 1 0 1 0 0 0 1 0 0 1 0 0 0 0 1 1 0 0 0 0 1 1 0 0 0 0 0 1 0 0 0 0 1\n",
      " 1 1 1 1 0 1 1 0 0 0 0 0 0 0 0 0 0 0 1 1 0 0 0 0 1 0 0 0 1 0 1 0 1 1 1 0 1\n",
      " 0 0 1 0 0 1 0 1 0 0 0 0 0 0 1 1 0 0 0 0 0 0 1 0 0 0 0 0 0 0 0 0 0 0 0 0 0\n",
      " 1 0 0 0 0 1 0 0 0 0 0 0 0 0 1 1 1 0 0 1 1 1 1 0 0 1 0 0 1 0 0 0 0 0 0 0 0\n",
      " 0 0 0 1 0 0 0 0 0 1 0 0 1 0 1 0 0 0 1 1 1 1 1 1 0 0 0 1 0 1 1 1 0 1 0 0 0\n",
      " 0 0 0 1 0 1 1 0 0 1 1 1 1 0 1 0 0 0 0 0 0 0 0 0 0 0 0 0 0 0 0 0 0 0 0 0 0\n",
      " 0 0 0 0 0 0 0 0 0 1 0 0 0 0 0 0 1 1 0 1 0 0 0 0 0 0 0 1 0 0 1 0 0 0 1 0 0\n",
      " 0 0 1 0 0 0 1 0 0 0 0 0 1 0 0 0 0 0 0 1 1 0 0 0 1 1 1 1 0 0 1 0 0 0 0 0 0\n",
      " 0 0 0 0 0 0 0 0 0 0 0 0 0 0 0 0 0 0 0 0 0 0 0 0 0 0 0 1 0 0 1 0 0 1 0 0 1\n",
      " 0 0 0 0 0 1 1 0 0 0 0 0 1 0 0 0 1 0 0 0 0 0 0 1 1 0 0 1 0 0 0 0 1 0 0 0 1\n",
      " 1 0 0 1]\n",
      "[1 1 1 1 1 1 1 1 1 1 1 1 1 1 1 1 1 1 1 1 1 1 1 1 1 1 1 1 1 1 1 1 1 1 1 1 1\n",
      " 1 1 1 1 1 1 1 1 1 1 1 1 1 1 1 1 1 1 1 1 1 1 1 1 1 1 1 1 1 1 1 1 1 1 1 1 1\n",
      " 1 1 1 1 1 1 1 1 1 1 1 1 1 1 1 1 1 1 1 1 1 1 1 1 1 1 1 1 1 1 1 1 1 1 1 1 1\n",
      " 1 1 1 1 1 1 1 1 1 1 1 1 1 1 1 1 1 1 1 1 1 1 1 1 1 1 1 1 1 1 1 1 1 1 1 1 1\n",
      " 1 1 1 1 1 1 1 1 1 1 1 1 1 1 1 1 1 1 1 1 1 1 1 1 1 1 1 1 1 1 1 1 1 1 1 1 1\n",
      " 1 1 1 1 1 1 1 1 1 1 1 1 1 1 1 1 1 1 1 1 1 1 1 1 1 1 1 1 1 1 1 1 1 1 1 1 1\n",
      " 1 1 1 1 1 1 1 1 1 1 1 1 1 1 1 1 1 1 1 1 1 1 1 1 1 1 1 1 1 1 1 1 1 1 1 1 1\n",
      " 1 1 1 1 1 1 1 1 1 1 1 1 1 1 1 1 1 1 1 1 1 1 1 1 1 1 1 1 1 1 1 1 1 1 1 1 1\n",
      " 1 1 1 1 1 1 1 1 1 1 1 1 1 1 1 1 1 1 1 1 1 1 1 1 1 1 1 1 1 1 1 1 1 1 1 1 1\n",
      " 1 1 1 1 1 1 1 1 1 1 1 1 1 1 1 1 1 1 1 1 1 1 1 1 1 1 1 1 1 1 1 1 1 1 1 1 1\n",
      " 1 1 1 1 1 1 1 1 1 1 1 1 1 1 1 1 1 1 1 1 1 1 1 1 1 1 1 1 1 1 1 1 1 1 1 1 1\n",
      " 1 1 1 1 1 1 1 1 1 1 1 1 1 1 1 1 1 1 1 1 1 1 1 1 1 1 1 1 1 1 1 1 1 1 1 1 1\n",
      " 1 1 1 1 1 1 1 1 1 1 1 1 1 1 1 1 1 1 1 1 1 1 1 1 1 1 1 1 1 1 1 1 1 1 1 1 1\n",
      " 1 1 0 0 0 0 0 0 0 0 0 0 0 0 0 0 0 0 0 0 0 0 0 0 0 0 0 0 0 0 0 0 0 0 0 0 0\n",
      " 0 0 0 0 0 0 0 0 0 0 0 0 0 0 0 0 0 0 0 0 0 0 0 0 0 0 0 0 0 0 0 0 0 0 0 0 0\n",
      " 0 0 0 0 0 0 0 0 0 0 0 0 0 0 0 0 0 0 0 0 0 0 0 0 0 0 0 0 0 0 0 0 0 0 0 0 0\n",
      " 0 0 0 0 0 0 0 0 0 0 0 0 0 0 0 0 0 0 0 0 0 0 0 0 0 0 0 0 0 0 0 0 0 0 0 0 0\n",
      " 0 0 0 0 0 0 0 0 0 0 0 0 0 0 0 0 0 0 0 0 0 0 0 0 0 0 0 0 0 0 0 0 0 0 0 0 0\n",
      " 0 0 0 0 0 0 0 0 0 0 0 0 0 0 0 0 0 0 0 0 0 0 0 0 0 0 0 0 0 0 0 0 0 0 0 0 0\n",
      " 0 0 0 0 0 0 0 0 0 0 0 0 0 0 0 0 0 0 0 0 0 0 0 0 0 0 0 0 0 0 0 0 0 0 0 0 0\n",
      " 0 0 0 0 0 0 0 0 0 0 0 0 0 0 0 0 0 0 0 0 0 0 0 0 0 0 0 0 0 0 0 0 0 0 0 0 0\n",
      " 0 0 0 0 0 0 0 0 0 0 0 0 0 0 0 0 0 0 0 0 0 0 0 0 0 0 0 0 0 0 0 0 0 0 0 0 0\n",
      " 0 0 0 0 0 0 0 0 0 0 0 0 0 0 0 0 0 0 0 0 0 0 0 0 0 0 0 0 0 0 0 0 0 0 0 0 0\n",
      " 0 0 0 0 0 0 0 0 0 0 0 0 0 0 0 0 0 0 0 0 0 0 0 0 0 0 0 0 0 0 0 0 0 0 0 0 0\n",
      " 0 0 0 0 0 0 0 0 0 0 0 0 0 0 0 0 0 0 0 0 0 0 0 0 0 0 0 0 0 0 0 0 0 0 0 0 0\n",
      " 0 0 0 0 0 0 0 0 0 0 0 0 0 0 0 0 0 0 0 0 0 0 0 0 0 0 0 0 0 0 0 0 0 0 0 0 0\n",
      " 0 0 0 0]\n",
      "Accuracy on test set:  0.7639751552795031\n"
     ]
    }
   ],
   "source": [
    "results = model.evaluate(x_test, y_test, batch_size=128)\n",
    "print(results)\n",
    "predictions = model.predict(x_test)\n",
    "\n",
    "label_predictions = []\n",
    "\n",
    "# convert from category to label\n",
    "for prediction in predictions:\n",
    "    if prediction[0] > prediction[1]:\n",
    "        label_predictions.append(0)\n",
    "    else: label_predictions.append(1)\n",
    "    \n",
    "label_predictions = np.array(label_predictions)\n",
    "label_test = np.array(label_test)\n",
    "\n",
    "print(label_predictions)\n",
    "print(label_test)\n",
    "\n",
    "# calc acc\n",
    "true_count = 0\n",
    "for idx, label in enumerate(label_predictions):\n",
    "    if label == label_test[idx]:\n",
    "        true_count += 1\n",
    "        \n",
    "print(\"Accuracy on test set: \", true_count/(len(label_test)))"
   ]
  },
  {
   "cell_type": "code",
   "execution_count": 23,
   "metadata": {
    "tags": []
   },
   "outputs": [
    {
     "name": "stdout",
     "output_type": "stream",
     "text": [
      "dict_keys(['loss', 'accuracy', 'val_loss', 'val_accuracy'])\n"
     ]
    }
   ],
   "source": [
    "print(history.history.keys())"
   ]
  },
  {
   "cell_type": "code",
   "execution_count": 24,
   "metadata": {
    "tags": []
   },
   "outputs": [],
   "source": [
    "import os\n",
    "os.environ['KMP_DUPLICATE_LIB_OK'] = 'TRUE'"
   ]
  },
  {
   "cell_type": "markdown",
   "metadata": {},
   "source": [
    "plot the loss and acc from training process"
   ]
  },
  {
   "cell_type": "code",
   "execution_count": 25,
   "metadata": {
    "tags": []
   },
   "outputs": [
    {
     "data": {
      "image/png": "[encoded data removed]",
      "text/plain": [
       "<Figure size 640x480 with 1 Axes>"
      ]
     },
     "metadata": {},
     "output_type": "display_data"
    },
    {
     "data": {
      "image/png": "[encoded data removed]",
      "text/plain": [
       "<Figure size 640x480 with 1 Axes>"
      ]
     },
     "metadata": {},
     "output_type": "display_data"
    }
   ],
   "source": [
    "from matplotlib import pyplot as plt\n",
    "# Plot accuracy\n",
    "plt.subplot(2,1,1)\n",
    "plt.plot(history.history['accuracy'])\n",
    "plt.plot(history.history['val_accuracy'])\n",
    "plt.title('Model Accuracy')\n",
    "plt.xlabel('Epoch')\n",
    "plt.ylabel('Accuracy')\n",
    "plt.legend(['train', 'test'], loc='upper left')\n",
    "plt.show()\n",
    "\n",
    "# Plot loss\n",
    "plt.subplot(2,1,2)\n",
    "plt.plot(history.history['loss'])\n",
    "plt.plot(history.history['val_loss'])\n",
    "plt.title('Model Loss')\n",
    "plt.xlabel('Epoch')\n",
    "plt.ylabel('Loss')\n",
    "plt.legend(['train', 'test'], loc='upper left')\n",
    "plt.show()"
   ]
  },
  {
   "cell_type": "code",
   "execution_count": null,
   "metadata": {},
   "outputs": [],
   "source": [
    "model.save(\"GP046.keras\")"
   ]
  }
 ],
 "metadata": {
  "kernelspec": {
   "display_name": "Python 3 (ipykernel)",
   "language": "python",
   "name": "python3"
  },
  "language_info": {
   "codemirror_mode": {
    "name": "ipython",
    "version": 3
   },
   "file_extension": ".py",
   "mimetype": "text/x-python",
   "name": "python",
   "nbconvert_exporter": "python",
   "pygments_lexer": "ipython3",
   "version": "3.10.9"
  }
 },
 "nbformat": 4,
 "nbformat_minor": 4
}
