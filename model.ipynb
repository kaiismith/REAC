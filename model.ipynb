{
 "cells": [
  {
   "cell_type": "code",
   "execution_count": 24,
   "metadata": {
    "tags": []
   },
   "outputs": [],
   "source": [
    "import pandas as pd\n",
    "import numpy  as np"
   ]
  },
  {
   "cell_type": "markdown",
   "metadata": {},
   "source": [
    "import data file"
   ]
  },
  {
   "cell_type": "code",
   "execution_count": 25,
   "metadata": {
    "tags": []
   },
   "outputs": [
    {
     "data": {
      "text/html": [
       "<div>\n",
       "<style scoped>\n",
       "    .dataframe tbody tr th:only-of-type {\n",
       "        vertical-align: middle;\n",
       "    }\n",
       "\n",
       "    .dataframe tbody tr th {\n",
       "        vertical-align: top;\n",
       "    }\n",
       "\n",
       "    .dataframe thead th {\n",
       "        text-align: right;\n",
       "    }\n",
       "</style>\n",
       "<table border=\"1\" class=\"dataframe\">\n",
       "  <thead>\n",
       "    <tr style=\"text-align: right;\">\n",
       "      <th></th>\n",
       "      <th>Label</th>\n",
       "    </tr>\n",
       "  </thead>\n",
       "  <tbody>\n",
       "    <tr>\n",
       "      <th>count</th>\n",
       "      <td>3239.000000</td>\n",
       "    </tr>\n",
       "    <tr>\n",
       "      <th>mean</th>\n",
       "      <td>0.502007</td>\n",
       "    </tr>\n",
       "    <tr>\n",
       "      <th>std</th>\n",
       "      <td>0.500073</td>\n",
       "    </tr>\n",
       "    <tr>\n",
       "      <th>min</th>\n",
       "      <td>0.000000</td>\n",
       "    </tr>\n",
       "    <tr>\n",
       "      <th>25%</th>\n",
       "      <td>0.000000</td>\n",
       "    </tr>\n",
       "    <tr>\n",
       "      <th>50%</th>\n",
       "      <td>1.000000</td>\n",
       "    </tr>\n",
       "    <tr>\n",
       "      <th>75%</th>\n",
       "      <td>1.000000</td>\n",
       "    </tr>\n",
       "    <tr>\n",
       "      <th>max</th>\n",
       "      <td>1.000000</td>\n",
       "    </tr>\n",
       "  </tbody>\n",
       "</table>\n",
       "</div>"
      ],
      "text/plain": [
       "             Label\n",
       "count  3239.000000\n",
       "mean      0.502007\n",
       "std       0.500073\n",
       "min       0.000000\n",
       "25%       0.000000\n",
       "50%       1.000000\n",
       "75%       1.000000\n",
       "max       1.000000"
      ]
     },
     "execution_count": 25,
     "metadata": {},
     "output_type": "execute_result"
    }
   ],
   "source": [
    "df = pd.read_csv('data_20s.csv')\n",
    "df.describe()"
   ]
  },
  {
   "cell_type": "markdown",
   "metadata": {},
   "source": [
    "parse data from string to numpy array"
   ]
  },
  {
   "cell_type": "code",
   "execution_count": 26,
   "metadata": {
    "tags": []
   },
   "outputs": [],
   "source": [
    "def parseData(series):\n",
    "    final_series = []\n",
    "    for ser in series:\n",
    "        temp = []\n",
    "        for x in \"[],\":\n",
    "            ser = ser.replace(x, \"\")\n",
    "        new_ser  = np.fromstring(ser, dtype=float, sep=\" \")\n",
    "        for i in range(0, len(new_ser), 3):\n",
    "            chunk = [new_ser[i], new_ser[i + 1], new_ser[i + 2]]\n",
    "            temp.append(chunk)\n",
    "        final_series.append(temp)\n",
    "    return np.array(final_series, dtype=object)"
   ]
  },
  {
   "cell_type": "markdown",
   "metadata": {},
   "source": [
    "get the longest sequence of vector in dataset"
   ]
  },
  {
   "cell_type": "code",
   "execution_count": 27,
   "metadata": {
    "tags": []
   },
   "outputs": [
    {
     "name": "stdout",
     "output_type": "stream",
     "text": [
      "599\n",
      "598 0\n",
      "597 1\n",
      "537 2\n",
      "451 7\n",
      "298 36\n",
      "98 58\n",
      "97 188\n",
      "97 302\n",
      "80 750\n",
      "44 1976\n",
      "0 1977\n",
      "0 1978\n",
      "0 1979\n",
      "0 1980\n",
      "0 [1977, 1978, 1979, 1980]\n"
     ]
    }
   ],
   "source": [
    "max_length = 0\n",
    "for lgaze in parseData(df['Left Gaze']):\n",
    "    if len(lgaze) > max_length:\n",
    "        max_length = len(lgaze)\n",
    "        \n",
    "print(max_length)\n",
    "\n",
    "min_length = max_length\n",
    "indices = []\n",
    "for idx, lgaze in enumerate(parseData(df['Left Gaze'])):\n",
    "    if len(lgaze) <= min_length:\n",
    "        min_length = len(lgaze)\n",
    "        print(min_length, idx)\n",
    "    if len(lgaze) == 0:\n",
    "        indices.append(idx)\n",
    "\n",
    "print(min_length, indices)"
   ]
  },
  {
   "cell_type": "code",
   "execution_count": 28,
   "metadata": {},
   "outputs": [],
   "source": [
    "# remove unsuable data\n",
    "df = df.drop(indices)\n",
    "df = df.drop([58, 188, 302, 80, 44])"
   ]
  },
  {
   "cell_type": "markdown",
   "metadata": {},
   "source": [
    "split data"
   ]
  },
  {
   "cell_type": "code",
   "execution_count": 29,
   "metadata": {
    "tags": []
   },
   "outputs": [
    {
     "name": "stdout",
     "output_type": "stream",
     "text": [
      "Non-cheat:  1609\n",
      "Cheat:  1621\n",
      "(2252, 966)\n"
     ]
    }
   ],
   "source": [
    "print(\"Non-cheat: \", len(df[df['Label']==0]))\n",
    "print(\"Cheat: \", len(df[df['Label']==1]))\n",
    "\n",
    "grouped = df.groupby(df.Label)\n",
    "df1 = grouped.get_group(1)\n",
    "df2 = grouped.get_group(0)\n",
    "\n",
    "df2_1 = df2.iloc[:1609,:]\n",
    "df2_2 = df2.iloc[1609:1626,:]\n",
    "\n",
    "df1_train = df1.iloc[:1126,:]\n",
    "df2_train = df2_1.iloc[:1126,:]\n",
    "\n",
    "df1_test = df1.iloc[1126:1609,:]\n",
    "df2_test = df2_1.iloc[1126:1609,:]\n",
    "\n",
    "train = pd.concat([df1_train, df2_train])\n",
    "test  = pd.concat([df1_test, df2_test, df2_2])\n",
    "\n",
    "# shuffle the train set\n",
    "train = train.sample(frac=1)\n",
    "\n",
    "print((len(train), len(test)))"
   ]
  },
  {
   "cell_type": "code",
   "execution_count": 30,
   "metadata": {},
   "outputs": [
    {
     "name": "stdout",
     "output_type": "stream",
     "text": [
      "Non-cheat in train:  1126\n",
      "Cheat in train:  1126\n"
     ]
    }
   ],
   "source": [
    "print(\"Non-cheat in train: \", len(train[train['Label']==0]))\n",
    "print(\"Cheat in train: \", len(train[train['Label']==1]))"
   ]
  },
  {
   "cell_type": "markdown",
   "metadata": {},
   "source": [
    "pad the dataset to the longest sequence size"
   ]
  },
  {
   "cell_type": "code",
   "execution_count": 31,
   "metadata": {
    "tags": []
   },
   "outputs": [],
   "source": [
    "import math\n",
    "\n",
    "def padData(series, length):\n",
    "    for idx, ser in enumerate(series):\n",
    "        times = math.floor(length / len(ser))\n",
    "        add = length % len(ser)\n",
    "        \n",
    "        temp = ser[::-1]\n",
    "        for _ in range(1, times):\n",
    "            series[idx] = np.append(series[idx], temp, axis=0)\n",
    "            temp = temp[::-1]\n",
    "        if add != 0:\n",
    "            series[idx] = np.append(series[idx], temp[0:add], axis=0)\n",
    "    return series"
   ]
  },
  {
   "cell_type": "markdown",
   "metadata": {},
   "source": [
    "Conv1D -> AveragePooling1D -> Conv1D -> LSTM -> Dense"
   ]
  },
  {
   "cell_type": "code",
   "execution_count": 32,
   "metadata": {
    "tags": []
   },
   "outputs": [],
   "source": [
    "from tensorflow.keras.models import Sequential\n",
    "from tensorflow.keras.layers import Conv1D, Flatten, Dense, AveragePooling1D, LSTM, Dropout\n",
    "from tensorflow.keras import optimizers\n",
    "from tensorflow.keras.callbacks import EarlyStopping, History\n",
    "\n",
    "import tensorflow as tf\n",
    "\n",
    "def init_model():\n",
    "    model = Sequential()\n",
    "    model.add(Conv1D(filters=12, kernel_size=3, padding=\"same\", activation='relu', input_shape=(max_length, 12)))\n",
    "    model.add(AveragePooling1D(pool_size=2))\n",
    "    model.add(Conv1D(filters=12, kernel_size=3, padding=\"same\", activation='relu', input_shape=(max_length, 12)))\n",
    "    \n",
    "    model.add(LSTM(12))\n",
    "    \n",
    "    model.add(Dropout(0.1))\n",
    "    \n",
    "    model.add(Flatten())\n",
    "    model.add(Dense(2, activation = 'softmax')) # We have only 2 classes: Non-cheat & Cheat\n",
    "    \n",
    "    adam = optimizers.Adam(learning_rate=0.005, beta_1=0.9, beta_2=0.999, epsilon=None, decay=0.0)\n",
    "    \n",
    "    model.compile(optimizer=adam,\n",
    "                  loss='categorical_crossentropy',\n",
    "                  metrics=['accuracy'])\n",
    "    \n",
    "    model.summary()\n",
    "    \n",
    "    return model"
   ]
  },
  {
   "cell_type": "code",
   "execution_count": 33,
   "metadata": {
    "tags": []
   },
   "outputs": [],
   "source": [
    "right_gaze_train = train[\"Right Gaze\"]\n",
    "left_gaze_train  = train[\"Left Gaze\"]\n",
    "right_head_train = train[\"Right HeadPose\"]\n",
    "left_head_train  = train[\"Left HeadPose\"]\n",
    "label_train = train['Label']\n",
    "\n",
    "right_gaze_train, left_gaze_train, right_head_train, left_head_train = parseData(right_gaze_train), parseData(left_gaze_train), parseData(right_head_train), parseData(left_head_train)"
   ]
  },
  {
   "cell_type": "markdown",
   "metadata": {},
   "source": [
    "initialize new data frame"
   ]
  },
  {
   "cell_type": "code",
   "execution_count": 34,
   "metadata": {
    "tags": []
   },
   "outputs": [],
   "source": [
    "left_head_train  = padData(left_head_train,  max_length)\n",
    "right_head_train = padData(right_head_train, max_length)\n",
    "left_gaze_train  = padData(left_gaze_train,  max_length)\n",
    "right_gaze_train = padData(right_gaze_train, max_length)"
   ]
  },
  {
   "cell_type": "code",
   "execution_count": 35,
   "metadata": {
    "tags": []
   },
   "outputs": [],
   "source": [
    "label_train = np.array(label_train)"
   ]
  },
  {
   "cell_type": "code",
   "execution_count": 36,
   "metadata": {
    "tags": []
   },
   "outputs": [],
   "source": [
    "y_train = []\n",
    "for i in range(len(label_train)):\n",
    "    y_train.append(\n",
    "        tf.convert_to_tensor(\n",
    "            np.reshape(tf.keras.utils.to_categorical(label_train[i], num_classes=2), (1, 2))                 \n",
    "                            )\n",
    "             )\n",
    "    \n",
    "y_train = tf.convert_to_tensor(np.vstack(y_train), dtype=tf.float32)"
   ]
  },
  {
   "cell_type": "code",
   "execution_count": 37,
   "metadata": {
    "tags": []
   },
   "outputs": [
    {
     "name": "stdout",
     "output_type": "stream",
     "text": [
      "tf.Tensor(\n",
      "[[[ 74.809  28.713  80.13  ...  73.985   3.632  74.074]\n",
      "  [ 82.417  25.855  86.377 ...  79.192   2.073  79.22 ]\n",
      "  [ 83.168  24.984  86.839 ...  79.349   2.157  79.378]\n",
      "  ...\n",
      "  [124.931  -7.32  125.145 ... 101.95  -32.661 107.054]\n",
      "  [123.263  -5.472 123.384 ... 100.714 -30.923 105.354]\n",
      "  [123.263  -5.472 123.384 ... 100.714 -30.923 105.354]]\n",
      "\n",
      " [[-40.69   49.926  64.407 ... -35.105  15.052  38.196]\n",
      "  [-21.39   55.903  59.855 ... -15.073  17.194  22.865]\n",
      "  [ -5.19   60.172  60.395 ...   3.074  22.316  22.527]\n",
      "  ...\n",
      "  [129.328  25.141 131.749 ... 111.008  -9.609 111.423]\n",
      "  [120.678  29.854 124.316 ... 111.192  -3.197 111.238]\n",
      "  [120.678  29.854 124.316 ... 111.192  -3.197 111.238]]\n",
      "\n",
      " [[-42.844 -70.493  82.492 ... -70.203  40.757  81.176]\n",
      "  [-44.114 -60.606  74.96  ... -63.791  46.986  79.227]\n",
      "  [-58.822 -63.968  86.902 ... -74.718  35.828  82.864]\n",
      "  ...\n",
      "  [-26.561 -39.749  47.807 ... -68.197  38.555  78.341]\n",
      "  [-33.809 -41.931  53.863 ... -73.122  52.284  89.891]\n",
      "  [-33.809 -41.931  53.863 ... -73.122  52.284  89.891]]\n",
      "\n",
      " ...\n",
      "\n",
      " [[-25.631  23.6    34.841 ... -22.488   5.809  23.226]\n",
      "  [-25.428  23.556  34.662 ... -22.112   7.39   23.314]\n",
      "  [-22.782  23.415  32.67  ... -17.972   6.591  19.143]\n",
      "  ...\n",
      "  [-16.927  10.353  19.842 ... -41.31   17.925  45.032]\n",
      "  [-16.927  10.353  19.842 ... -41.31   17.925  45.032]\n",
      "  [-17.249  11.246  20.591 ... -41.167  18.507  45.136]]\n",
      "\n",
      " [[ 19.881  82.793  85.146 ...  -0.412  84.88   84.881]\n",
      "  [ 19.085  82.757  84.929 ...  -0.821  85.629  85.633]\n",
      "  [ 20.365  81.468  83.975 ...  -1.465  84.485  84.498]\n",
      "  ...\n",
      "  [ 26.849  78.081  82.568 ...   4.521  78.365  78.495]\n",
      "  [ 29.127  77.356  82.658 ...   6.261  76.763  77.018]\n",
      "  [ 29.127  77.356  82.658 ...   6.261  76.763  77.018]]\n",
      "\n",
      " [[-10.489  47.937  49.071 ... -29.707  36.479  47.045]\n",
      "  [-10.01   48.643  49.662 ... -28.137  36.633  46.191]\n",
      "  [-13.489  49.79   51.585 ... -31.154  38.916  49.851]\n",
      "  ...\n",
      "  [  3.443  80.287  80.36  ...  17.934  59.82   62.451]\n",
      "  [  5.173  77.965  78.136 ...  19.432  56.019  59.293]\n",
      "  [  5.173  77.965  78.136 ...  19.432  56.019  59.293]]], shape=(2252, 599, 12), dtype=float32)\n",
      "tf.Tensor(\n",
      "[[1. 0.]\n",
      " [0. 1.]\n",
      " [0. 1.]\n",
      " ...\n",
      " [0. 1.]\n",
      " [0. 1.]\n",
      " [1. 0.]], shape=(2252, 2), dtype=float32)\n"
     ]
    }
   ],
   "source": [
    "x_train = []\n",
    "\n",
    "for i in range(len(left_gaze_train)):\n",
    "    x_train.append(tf.convert_to_tensor([\n",
    "                                            np.hstack(\n",
    "                                                        (left_gaze_train[i], right_gaze_train[i], left_head_train[i], right_head_train[i])\n",
    "                                                     )\n",
    "                                            ], dtype=tf.float32))\n",
    "\n",
    "\n",
    "\n",
    "x_train = tf.convert_to_tensor(np.vstack(x_train), dtype=tf.float32)\n",
    "\n",
    "print(x_train)\n",
    "\n",
    "print(y_train)"
   ]
  },
  {
   "cell_type": "markdown",
   "metadata": {},
   "source": [
    "Train the model"
   ]
  },
  {
   "cell_type": "code",
   "execution_count": 38,
   "metadata": {
    "tags": []
   },
   "outputs": [],
   "source": [
    "right_gaze_test = test[\"Right Gaze\"]\n",
    "left_gaze_test  = test[\"Left Gaze\"]\n",
    "right_head_test = test[\"Right HeadPose\"]\n",
    "left_head_test  = test[\"Left HeadPose\"]\n",
    "label_test = test['Label']\n",
    "label_test = np.array(label_test)\n",
    "\n",
    "right_gaze_test, left_gaze_test, right_head_test, left_head_test = parseData(right_gaze_test), parseData(left_gaze_test), parseData(right_head_test), parseData(left_head_test)"
   ]
  },
  {
   "cell_type": "code",
   "execution_count": 39,
   "metadata": {
    "tags": []
   },
   "outputs": [],
   "source": [
    "left_head_test  = padData(left_head_test,  max_length)\n",
    "right_head_test = padData(right_head_test, max_length)\n",
    "left_gaze_test  = padData(left_gaze_test,  max_length)\n",
    "right_gaze_test = padData(right_gaze_test, max_length)"
   ]
  },
  {
   "cell_type": "code",
   "execution_count": 40,
   "metadata": {
    "tags": []
   },
   "outputs": [
    {
     "name": "stdout",
     "output_type": "stream",
     "text": [
      "(966, 599, 12) (966, 1)\n"
     ]
    }
   ],
   "source": [
    "x_test = []\n",
    "y_test = []\n",
    "for i in range(len(left_gaze_test)):\n",
    "    x_test.append(tf.convert_to_tensor([\n",
    "                                            np.hstack(\n",
    "                                                        (left_gaze_test[i], right_gaze_test[i], left_head_test[i], right_head_test[i])\n",
    "                                                     )\n",
    "                                            ], dtype=tf.float32))                                        \n",
    "for i in range(len(label_test)):\n",
    "    y_test.append(\n",
    "        tf.convert_to_tensor(np.reshape(tf.keras.utils.to_categorical(label_test[i], num_classes=2), (1, 2)))\n",
    "             )\n",
    "    \n",
    "x_test = tf.convert_to_tensor(np.vstack(x_test), dtype=tf.float32)\n",
    "y_test = tf.convert_to_tensor(np.vstack(label_test), dtype=tf.float32)\n",
    "print(x_test.shape, y_test.shape)"
   ]
  },
  {
   "cell_type": "code",
   "execution_count": 41,
   "metadata": {
    "tags": []
   },
   "outputs": [
    {
     "name": "stdout",
     "output_type": "stream",
     "text": [
      "Model: \"sequential_1\"\n",
      "_________________________________________________________________\n",
      " Layer (type)                Output Shape              Param #   \n",
      "=================================================================\n",
      " conv1d_2 (Conv1D)           (None, 599, 12)           444       \n",
      "                                                                 \n",
      " average_pooling1d_1 (Averag  (None, 299, 12)          0         \n",
      " ePooling1D)                                                     \n",
      "                                                                 \n",
      " conv1d_3 (Conv1D)           (None, 299, 12)           444       \n",
      "                                                                 \n",
      " lstm_1 (LSTM)               (None, 12)                1200      \n",
      "                                                                 \n",
      " dropout_1 (Dropout)         (None, 12)                0         \n",
      "                                                                 \n",
      " flatten_1 (Flatten)         (None, 12)                0         \n",
      "                                                                 \n",
      " dense_1 (Dense)             (None, 2)                 26        \n",
      "                                                                 \n",
      "=================================================================\n",
      "Total params: 2,114\n",
      "Trainable params: 2,114\n",
      "Non-trainable params: 0\n",
      "_________________________________________________________________\n",
      "Epoch 1/200\n",
      "32/32 [==============================] - 7s 134ms/step - loss: 0.6927 - accuracy: 0.5326 - val_loss: 0.6695 - val_accuracy: 0.6195\n",
      "Epoch 2/200\n",
      "32/32 [==============================] - 4s 135ms/step - loss: 0.6759 - accuracy: 0.5790 - val_loss: 0.6779 - val_accuracy: 0.5796\n",
      "Epoch 3/200\n",
      "32/32 [==============================] - 4s 137ms/step - loss: 0.6580 - accuracy: 0.5913 - val_loss: 0.6520 - val_accuracy: 0.5929\n",
      "Epoch 4/200\n",
      "32/32 [==============================] - 4s 137ms/step - loss: 0.6694 - accuracy: 0.5770 - val_loss: 0.6407 - val_accuracy: 0.6150\n",
      "Epoch 5/200\n",
      "32/32 [==============================] - 4s 134ms/step - loss: 0.6642 - accuracy: 0.5829 - val_loss: 0.6530 - val_accuracy: 0.6150\n",
      "Epoch 6/200\n",
      "32/32 [==============================] - 4s 129ms/step - loss: 0.6550 - accuracy: 0.5972 - val_loss: 0.6526 - val_accuracy: 0.5973\n",
      "Epoch 7/200\n",
      "32/32 [==============================] - 4s 131ms/step - loss: 0.6498 - accuracy: 0.5814 - val_loss: 0.6330 - val_accuracy: 0.6195\n",
      "Epoch 8/200\n",
      "32/32 [==============================] - 4s 124ms/step - loss: 0.6309 - accuracy: 0.6224 - val_loss: 0.6177 - val_accuracy: 0.6947\n",
      "Epoch 9/200\n",
      "32/32 [==============================] - 4s 136ms/step - loss: 0.6194 - accuracy: 0.6782 - val_loss: 0.5868 - val_accuracy: 0.7478\n",
      "Epoch 10/200\n",
      "32/32 [==============================] - 4s 137ms/step - loss: 0.5941 - accuracy: 0.6930 - val_loss: 0.5712 - val_accuracy: 0.7611\n",
      "Epoch 11/200\n",
      "32/32 [==============================] - 4s 132ms/step - loss: 0.6093 - accuracy: 0.6683 - val_loss: 0.5356 - val_accuracy: 0.7655\n",
      "Epoch 12/200\n",
      "32/32 [==============================] - 4s 132ms/step - loss: 0.5868 - accuracy: 0.7004 - val_loss: 0.6046 - val_accuracy: 0.6991\n",
      "Epoch 13/200\n",
      "32/32 [==============================] - 4s 128ms/step - loss: 0.6092 - accuracy: 0.6811 - val_loss: 0.5978 - val_accuracy: 0.6947\n",
      "Epoch 14/200\n",
      "32/32 [==============================] - 4s 125ms/step - loss: 0.5976 - accuracy: 0.6950 - val_loss: 0.5397 - val_accuracy: 0.7522\n",
      "Epoch 15/200\n",
      "32/32 [==============================] - 4s 122ms/step - loss: 0.6012 - accuracy: 0.6856 - val_loss: 0.5685 - val_accuracy: 0.7522\n",
      "Epoch 16/200\n",
      "32/32 [==============================] - 4s 125ms/step - loss: 0.5912 - accuracy: 0.7029 - val_loss: 0.5222 - val_accuracy: 0.7832\n",
      "Epoch 17/200\n",
      "32/32 [==============================] - 4s 126ms/step - loss: 0.5843 - accuracy: 0.7117 - val_loss: 0.5639 - val_accuracy: 0.7743\n",
      "Epoch 18/200\n",
      "32/32 [==============================] - 4s 127ms/step - loss: 0.5700 - accuracy: 0.7300 - val_loss: 0.5222 - val_accuracy: 0.7699\n",
      "Epoch 19/200\n",
      "32/32 [==============================] - 4s 124ms/step - loss: 0.5642 - accuracy: 0.7261 - val_loss: 0.5201 - val_accuracy: 0.7743\n",
      "Epoch 20/200\n",
      "32/32 [==============================] - 4s 122ms/step - loss: 0.5660 - accuracy: 0.7275 - val_loss: 0.5270 - val_accuracy: 0.7920\n",
      "Epoch 21/200\n",
      "32/32 [==============================] - 4s 124ms/step - loss: 0.5586 - accuracy: 0.7310 - val_loss: 0.5193 - val_accuracy: 0.7876\n",
      "Epoch 22/200\n",
      "32/32 [==============================] - 4s 124ms/step - loss: 0.5513 - accuracy: 0.7325 - val_loss: 0.5109 - val_accuracy: 0.7611\n",
      "Epoch 23/200\n",
      "32/32 [==============================] - 4s 125ms/step - loss: 0.5446 - accuracy: 0.7448 - val_loss: 0.5029 - val_accuracy: 0.7920\n",
      "Epoch 24/200\n",
      "32/32 [==============================] - 4s 124ms/step - loss: 0.5723 - accuracy: 0.7221 - val_loss: 0.5051 - val_accuracy: 0.7655\n",
      "Epoch 25/200\n",
      "32/32 [==============================] - 4s 126ms/step - loss: 0.5354 - accuracy: 0.7423 - val_loss: 0.5044 - val_accuracy: 0.7832\n",
      "Epoch 26/200\n",
      "32/32 [==============================] - 4s 128ms/step - loss: 0.5455 - accuracy: 0.7428 - val_loss: 0.4888 - val_accuracy: 0.7832\n",
      "Epoch 27/200\n",
      "32/32 [==============================] - 4s 134ms/step - loss: 0.5443 - accuracy: 0.7399 - val_loss: 0.5052 - val_accuracy: 0.7611\n",
      "Epoch 28/200\n",
      "32/32 [==============================] - 5s 142ms/step - loss: 0.5422 - accuracy: 0.7414 - val_loss: 0.4926 - val_accuracy: 0.7743\n",
      "Epoch 29/200\n",
      "32/32 [==============================] - 4s 137ms/step - loss: 0.5335 - accuracy: 0.7498 - val_loss: 0.4795 - val_accuracy: 0.8142\n",
      "Epoch 30/200\n",
      "32/32 [==============================] - 4s 136ms/step - loss: 0.5315 - accuracy: 0.7414 - val_loss: 0.4891 - val_accuracy: 0.7743\n",
      "Epoch 31/200\n",
      "32/32 [==============================] - 4s 135ms/step - loss: 0.5277 - accuracy: 0.7572 - val_loss: 0.4710 - val_accuracy: 0.8230\n",
      "Epoch 32/200\n",
      "32/32 [==============================] - 4s 127ms/step - loss: 0.5350 - accuracy: 0.7527 - val_loss: 0.4713 - val_accuracy: 0.8097\n",
      "Epoch 33/200\n",
      "32/32 [==============================] - 4s 128ms/step - loss: 0.5241 - accuracy: 0.7606 - val_loss: 0.4886 - val_accuracy: 0.8142\n",
      "Epoch 34/200\n",
      "32/32 [==============================] - 4s 127ms/step - loss: 0.5395 - accuracy: 0.7542 - val_loss: 0.4745 - val_accuracy: 0.8097\n",
      "Epoch 35/200\n",
      "32/32 [==============================] - 4s 125ms/step - loss: 0.5161 - accuracy: 0.7655 - val_loss: 0.4505 - val_accuracy: 0.8142\n",
      "Epoch 36/200\n",
      "32/32 [==============================] - 4s 127ms/step - loss: 0.4986 - accuracy: 0.7774 - val_loss: 0.4413 - val_accuracy: 0.8230\n",
      "Epoch 37/200\n",
      "32/32 [==============================] - 4s 131ms/step - loss: 0.4981 - accuracy: 0.7670 - val_loss: 0.4672 - val_accuracy: 0.7965\n",
      "Epoch 38/200\n",
      "32/32 [==============================] - 4s 135ms/step - loss: 0.5162 - accuracy: 0.7532 - val_loss: 0.4545 - val_accuracy: 0.7920\n",
      "Epoch 39/200\n",
      "32/32 [==============================] - 4s 132ms/step - loss: 0.4992 - accuracy: 0.7660 - val_loss: 0.4449 - val_accuracy: 0.8009\n",
      "Epoch 40/200\n",
      "32/32 [==============================] - 4s 128ms/step - loss: 0.5047 - accuracy: 0.7715 - val_loss: 0.4613 - val_accuracy: 0.8053\n",
      "Epoch 41/200\n",
      "32/32 [==============================] - 4s 129ms/step - loss: 0.4988 - accuracy: 0.7680 - val_loss: 0.4597 - val_accuracy: 0.7920\n",
      "Epoch 42/200\n",
      "32/32 [==============================] - 5s 142ms/step - loss: 0.5085 - accuracy: 0.7641 - val_loss: 0.4485 - val_accuracy: 0.7920\n",
      "Epoch 43/200\n",
      "32/32 [==============================] - 4s 136ms/step - loss: 0.4891 - accuracy: 0.7784 - val_loss: 0.4484 - val_accuracy: 0.8142\n",
      "Epoch 44/200\n",
      "32/32 [==============================] - 5s 142ms/step - loss: 0.4871 - accuracy: 0.7685 - val_loss: 0.4309 - val_accuracy: 0.8186\n",
      "Epoch 45/200\n",
      "32/32 [==============================] - 4s 132ms/step - loss: 0.4805 - accuracy: 0.7799 - val_loss: 0.4462 - val_accuracy: 0.8097\n",
      "Epoch 46/200\n",
      "32/32 [==============================] - 4s 132ms/step - loss: 0.4831 - accuracy: 0.7843 - val_loss: 0.4428 - val_accuracy: 0.8097\n",
      "Epoch 47/200\n",
      "32/32 [==============================] - 4s 129ms/step - loss: 0.4894 - accuracy: 0.7725 - val_loss: 0.4601 - val_accuracy: 0.8009\n",
      "Epoch 48/200\n",
      "32/32 [==============================] - 4s 126ms/step - loss: 0.4819 - accuracy: 0.7828 - val_loss: 0.4507 - val_accuracy: 0.8186\n",
      "Epoch 49/200\n",
      "32/32 [==============================] - 4s 126ms/step - loss: 0.4987 - accuracy: 0.7705 - val_loss: 0.4943 - val_accuracy: 0.7965\n",
      "Epoch 50/200\n",
      "32/32 [==============================] - 4s 125ms/step - loss: 0.4798 - accuracy: 0.7813 - val_loss: 0.4264 - val_accuracy: 0.8053\n",
      "Epoch 51/200\n",
      "32/32 [==============================] - 4s 124ms/step - loss: 0.4826 - accuracy: 0.7754 - val_loss: 0.4254 - val_accuracy: 0.8230\n",
      "Epoch 52/200\n",
      "32/32 [==============================] - 4s 128ms/step - loss: 0.4816 - accuracy: 0.7779 - val_loss: 0.4637 - val_accuracy: 0.7699\n",
      "Epoch 53/200\n",
      "32/32 [==============================] - 4s 125ms/step - loss: 0.4787 - accuracy: 0.7848 - val_loss: 0.4341 - val_accuracy: 0.8053\n",
      "Epoch 54/200\n",
      "32/32 [==============================] - 4s 131ms/step - loss: 0.4812 - accuracy: 0.7883 - val_loss: 0.4668 - val_accuracy: 0.7876\n",
      "Epoch 55/200\n",
      "32/32 [==============================] - 4s 125ms/step - loss: 0.4588 - accuracy: 0.7937 - val_loss: 0.4335 - val_accuracy: 0.7876\n",
      "Epoch 56/200\n",
      "32/32 [==============================] - 4s 126ms/step - loss: 0.4623 - accuracy: 0.7873 - val_loss: 0.4017 - val_accuracy: 0.8496\n",
      "Epoch 57/200\n",
      "32/32 [==============================] - 4s 130ms/step - loss: 0.4807 - accuracy: 0.7779 - val_loss: 0.5139 - val_accuracy: 0.7522\n",
      "Epoch 58/200\n",
      "32/32 [==============================] - 4s 131ms/step - loss: 0.5018 - accuracy: 0.7823 - val_loss: 0.4907 - val_accuracy: 0.7965\n",
      "Epoch 59/200\n",
      "32/32 [==============================] - 4s 128ms/step - loss: 0.5079 - accuracy: 0.7744 - val_loss: 0.4273 - val_accuracy: 0.8186\n",
      "Epoch 60/200\n",
      "32/32 [==============================] - 4s 127ms/step - loss: 0.4815 - accuracy: 0.7804 - val_loss: 0.4269 - val_accuracy: 0.8097\n",
      "Epoch 61/200\n",
      "32/32 [==============================] - 4s 126ms/step - loss: 0.4835 - accuracy: 0.7823 - val_loss: 0.4370 - val_accuracy: 0.7965\n",
      "Epoch 62/200\n",
      "32/32 [==============================] - 4s 128ms/step - loss: 0.4647 - accuracy: 0.7883 - val_loss: 0.4624 - val_accuracy: 0.7832\n",
      "Epoch 63/200\n",
      "32/32 [==============================] - 4s 127ms/step - loss: 0.4805 - accuracy: 0.7799 - val_loss: 0.4131 - val_accuracy: 0.8274\n",
      "Epoch 64/200\n",
      "32/32 [==============================] - 4s 134ms/step - loss: 0.4731 - accuracy: 0.7828 - val_loss: 0.4268 - val_accuracy: 0.8142\n",
      "Epoch 65/200\n",
      "32/32 [==============================] - 4s 134ms/step - loss: 0.4667 - accuracy: 0.7892 - val_loss: 0.4139 - val_accuracy: 0.8274\n",
      "Epoch 66/200\n",
      "32/32 [==============================] - 4s 131ms/step - loss: 0.4766 - accuracy: 0.7843 - val_loss: 0.4463 - val_accuracy: 0.7876\n",
      "Epoch 67/200\n",
      "32/32 [==============================] - 4s 127ms/step - loss: 0.4680 - accuracy: 0.7848 - val_loss: 0.4122 - val_accuracy: 0.8319\n",
      "Epoch 68/200\n",
      "32/32 [==============================] - 4s 128ms/step - loss: 0.4765 - accuracy: 0.7813 - val_loss: 0.4180 - val_accuracy: 0.8097\n",
      "Epoch 69/200\n",
      "32/32 [==============================] - 4s 127ms/step - loss: 0.4427 - accuracy: 0.8090 - val_loss: 0.4426 - val_accuracy: 0.7965\n",
      "Epoch 70/200\n",
      "32/32 [==============================] - 4s 125ms/step - loss: 0.4749 - accuracy: 0.7749 - val_loss: 0.4544 - val_accuracy: 0.8097\n",
      "Epoch 71/200\n",
      "32/32 [==============================] - 4s 127ms/step - loss: 0.4494 - accuracy: 0.7976 - val_loss: 0.4234 - val_accuracy: 0.8186\n",
      "Epoch 72/200\n",
      "32/32 [==============================] - 4s 126ms/step - loss: 0.4330 - accuracy: 0.8090 - val_loss: 0.4286 - val_accuracy: 0.8097\n",
      "Epoch 73/200\n",
      "32/32 [==============================] - 4s 126ms/step - loss: 0.4360 - accuracy: 0.8070 - val_loss: 0.4222 - val_accuracy: 0.8230\n",
      "Epoch 74/200\n",
      "32/32 [==============================] - 4s 130ms/step - loss: 0.4129 - accuracy: 0.8119 - val_loss: 0.4522 - val_accuracy: 0.7965\n",
      "Epoch 75/200\n",
      "32/32 [==============================] - 4s 131ms/step - loss: 0.4508 - accuracy: 0.7976 - val_loss: 0.4360 - val_accuracy: 0.8097\n",
      "Epoch 76/200\n",
      "32/32 [==============================] - 4s 134ms/step - loss: 0.4543 - accuracy: 0.8021 - val_loss: 0.4461 - val_accuracy: 0.8142\n",
      "Epoch 77/200\n",
      "32/32 [==============================] - 4s 139ms/step - loss: 0.4304 - accuracy: 0.8139 - val_loss: 0.4689 - val_accuracy: 0.7699\n",
      "Epoch 78/200\n",
      "32/32 [==============================] - 5s 144ms/step - loss: 0.4586 - accuracy: 0.7942 - val_loss: 0.4329 - val_accuracy: 0.7876\n",
      "Epoch 79/200\n",
      "32/32 [==============================] - 4s 127ms/step - loss: 0.4238 - accuracy: 0.8169 - val_loss: 0.4458 - val_accuracy: 0.7743\n",
      "Epoch 80/200\n",
      "32/32 [==============================] - 4s 141ms/step - loss: 0.4061 - accuracy: 0.8282 - val_loss: 0.4593 - val_accuracy: 0.8097\n",
      "Epoch 81/200\n",
      "32/32 [==============================] - 4s 137ms/step - loss: 0.4262 - accuracy: 0.8189 - val_loss: 0.4306 - val_accuracy: 0.8097\n",
      "Epoch 82/200\n",
      "32/32 [==============================] - 4s 128ms/step - loss: 0.4324 - accuracy: 0.8110 - val_loss: 0.4599 - val_accuracy: 0.8230\n",
      "Epoch 83/200\n",
      "32/32 [==============================] - 4s 126ms/step - loss: 0.5018 - accuracy: 0.7646 - val_loss: 0.4563 - val_accuracy: 0.7876\n",
      "Epoch 84/200\n",
      "32/32 [==============================] - 4s 127ms/step - loss: 0.4561 - accuracy: 0.7917 - val_loss: 0.4818 - val_accuracy: 0.7743\n",
      "Epoch 85/200\n",
      "32/32 [==============================] - 4s 127ms/step - loss: 0.4368 - accuracy: 0.8045 - val_loss: 0.4543 - val_accuracy: 0.7788\n",
      "Epoch 86/200\n",
      "32/32 [==============================] - 4s 127ms/step - loss: 0.4419 - accuracy: 0.7947 - val_loss: 0.4828 - val_accuracy: 0.7876\n",
      "Epoch 87/200\n",
      "32/32 [==============================] - 4s 128ms/step - loss: 0.4421 - accuracy: 0.8026 - val_loss: 0.4559 - val_accuracy: 0.7876\n",
      "Epoch 88/200\n",
      "32/32 [==============================] - 4s 128ms/step - loss: 0.4182 - accuracy: 0.8154 - val_loss: 0.5004 - val_accuracy: 0.8186\n",
      "Epoch 89/200\n",
      "32/32 [==============================] - 4s 127ms/step - loss: 0.4704 - accuracy: 0.7675 - val_loss: 0.4855 - val_accuracy: 0.7876\n",
      "Epoch 90/200\n",
      "32/32 [==============================] - 4s 127ms/step - loss: 0.4651 - accuracy: 0.7779 - val_loss: 0.4564 - val_accuracy: 0.7876\n",
      "Epoch 91/200\n",
      "32/32 [==============================] - 4s 128ms/step - loss: 0.4480 - accuracy: 0.8040 - val_loss: 0.4919 - val_accuracy: 0.7832\n",
      "Epoch 92/200\n",
      "32/32 [==============================] - 4s 127ms/step - loss: 0.4402 - accuracy: 0.7947 - val_loss: 0.4539 - val_accuracy: 0.7965\n",
      "Epoch 93/200\n",
      "32/32 [==============================] - 4s 128ms/step - loss: 0.4210 - accuracy: 0.8149 - val_loss: 0.4741 - val_accuracy: 0.7832\n",
      "Epoch 94/200\n",
      "32/32 [==============================] - 4s 126ms/step - loss: 0.4244 - accuracy: 0.8085 - val_loss: 0.4616 - val_accuracy: 0.7832\n",
      "Epoch 95/200\n",
      "32/32 [==============================] - 4s 128ms/step - loss: 0.4295 - accuracy: 0.8075 - val_loss: 0.4608 - val_accuracy: 0.7788\n",
      "Epoch 96/200\n",
      "32/32 [==============================] - 5s 141ms/step - loss: 0.4344 - accuracy: 0.8045 - val_loss: 0.4666 - val_accuracy: 0.7876\n",
      "Epoch 97/200\n",
      "32/32 [==============================] - 5s 144ms/step - loss: 0.4244 - accuracy: 0.8134 - val_loss: 0.4920 - val_accuracy: 0.7832\n",
      "Epoch 98/200\n",
      "32/32 [==============================] - 5s 149ms/step - loss: 0.3993 - accuracy: 0.8223 - val_loss: 0.4646 - val_accuracy: 0.8097\n",
      "Epoch 99/200\n",
      "32/32 [==============================] - 5s 141ms/step - loss: 0.4272 - accuracy: 0.8110 - val_loss: 0.4589 - val_accuracy: 0.7920\n",
      "Epoch 100/200\n",
      "32/32 [==============================] - 4s 141ms/step - loss: 0.4256 - accuracy: 0.8105 - val_loss: 0.4897 - val_accuracy: 0.7920\n",
      "Epoch 101/200\n",
      "32/32 [==============================] - 4s 126ms/step - loss: 0.4131 - accuracy: 0.8110 - val_loss: 0.4783 - val_accuracy: 0.7788\n",
      "Epoch 102/200\n",
      "32/32 [==============================] - 4s 131ms/step - loss: 0.4009 - accuracy: 0.8174 - val_loss: 0.5594 - val_accuracy: 0.7788\n",
      "Epoch 103/200\n",
      "32/32 [==============================] - 4s 135ms/step - loss: 0.4053 - accuracy: 0.8277 - val_loss: 0.4987 - val_accuracy: 0.7788\n",
      "Epoch 104/200\n",
      "32/32 [==============================] - 4s 129ms/step - loss: 0.3865 - accuracy: 0.8386 - val_loss: 0.4790 - val_accuracy: 0.7876\n",
      "Epoch 105/200\n",
      "32/32 [==============================] - 4s 136ms/step - loss: 0.4014 - accuracy: 0.8208 - val_loss: 0.4943 - val_accuracy: 0.7788\n",
      "Epoch 106/200\n",
      "32/32 [==============================] - 4s 127ms/step - loss: 0.3822 - accuracy: 0.8322 - val_loss: 0.5114 - val_accuracy: 0.7743\n",
      "Epoch 107/200\n",
      "32/32 [==============================] - 4s 125ms/step - loss: 0.3849 - accuracy: 0.8337 - val_loss: 0.5012 - val_accuracy: 0.8097\n",
      "Epoch 108/200\n",
      "32/32 [==============================] - 4s 127ms/step - loss: 0.3952 - accuracy: 0.8307 - val_loss: 0.4961 - val_accuracy: 0.7920\n",
      "Epoch 109/200\n",
      "32/32 [==============================] - 5s 147ms/step - loss: 0.3953 - accuracy: 0.8287 - val_loss: 0.4724 - val_accuracy: 0.7965\n",
      "Epoch 110/200\n",
      "32/32 [==============================] - 4s 131ms/step - loss: 0.3842 - accuracy: 0.8337 - val_loss: 0.4828 - val_accuracy: 0.7876\n",
      "Epoch 111/200\n",
      "32/32 [==============================] - 4s 125ms/step - loss: 0.3782 - accuracy: 0.8371 - val_loss: 0.5299 - val_accuracy: 0.7788\n",
      "Epoch 112/200\n",
      "32/32 [==============================] - 4s 126ms/step - loss: 0.4967 - accuracy: 0.7784 - val_loss: 0.4776 - val_accuracy: 0.7699\n",
      "Epoch 113/200\n",
      "32/32 [==============================] - 4s 126ms/step - loss: 0.4679 - accuracy: 0.7952 - val_loss: 0.4799 - val_accuracy: 0.7611\n",
      "Epoch 114/200\n",
      "32/32 [==============================] - 4s 125ms/step - loss: 0.4537 - accuracy: 0.7966 - val_loss: 0.4563 - val_accuracy: 0.8009\n",
      "Epoch 115/200\n",
      "32/32 [==============================] - 4s 125ms/step - loss: 0.4519 - accuracy: 0.8026 - val_loss: 0.4425 - val_accuracy: 0.8053\n",
      "Epoch 116/200\n",
      "32/32 [==============================] - 4s 127ms/step - loss: 0.4237 - accuracy: 0.8119 - val_loss: 0.4517 - val_accuracy: 0.7965\n",
      "Epoch 117/200\n",
      "32/32 [==============================] - 4s 126ms/step - loss: 0.4208 - accuracy: 0.8075 - val_loss: 0.4466 - val_accuracy: 0.8009\n",
      "Epoch 118/200\n",
      "32/32 [==============================] - 4s 131ms/step - loss: 0.3991 - accuracy: 0.8277 - val_loss: 0.4584 - val_accuracy: 0.8009\n",
      "Epoch 119/200\n",
      "32/32 [==============================] - 4s 131ms/step - loss: 0.3962 - accuracy: 0.8312 - val_loss: 0.4584 - val_accuracy: 0.8053\n",
      "Epoch 120/200\n",
      "32/32 [==============================] - 4s 137ms/step - loss: 0.3867 - accuracy: 0.8421 - val_loss: 0.4404 - val_accuracy: 0.8097\n",
      "Epoch 121/200\n",
      "32/32 [==============================] - 4s 133ms/step - loss: 0.4021 - accuracy: 0.8263 - val_loss: 0.4444 - val_accuracy: 0.8097\n",
      "Epoch 122/200\n",
      "32/32 [==============================] - 4s 132ms/step - loss: 0.3844 - accuracy: 0.8302 - val_loss: 0.4953 - val_accuracy: 0.7832\n",
      "Epoch 123/200\n",
      "32/32 [==============================] - 4s 140ms/step - loss: 0.3699 - accuracy: 0.8425 - val_loss: 0.4740 - val_accuracy: 0.7876\n",
      "Epoch 124/200\n",
      "32/32 [==============================] - 4s 134ms/step - loss: 0.3849 - accuracy: 0.8381 - val_loss: 0.4939 - val_accuracy: 0.7920\n",
      "Epoch 125/200\n",
      "32/32 [==============================] - 4s 135ms/step - loss: 0.3909 - accuracy: 0.8416 - val_loss: 0.4742 - val_accuracy: 0.8009\n",
      "Epoch 126/200\n",
      "32/32 [==============================] - 4s 135ms/step - loss: 0.4416 - accuracy: 0.7966 - val_loss: 0.5051 - val_accuracy: 0.7832\n",
      "Epoch 127/200\n",
      "32/32 [==============================] - 4s 134ms/step - loss: 0.4452 - accuracy: 0.7981 - val_loss: 0.6359 - val_accuracy: 0.7345\n",
      "Epoch 128/200\n",
      "32/32 [==============================] - 4s 128ms/step - loss: 0.4650 - accuracy: 0.7952 - val_loss: 0.4768 - val_accuracy: 0.8097\n",
      "Epoch 129/200\n",
      "32/32 [==============================] - 4s 128ms/step - loss: 0.4150 - accuracy: 0.8179 - val_loss: 0.4586 - val_accuracy: 0.7965\n",
      "Epoch 130/200\n",
      "32/32 [==============================] - 4s 130ms/step - loss: 0.3989 - accuracy: 0.8258 - val_loss: 0.4803 - val_accuracy: 0.7876\n",
      "Epoch 131/200\n",
      "32/32 [==============================] - 4s 129ms/step - loss: 0.4045 - accuracy: 0.8213 - val_loss: 0.5002 - val_accuracy: 0.7965\n",
      "Epoch 132/200\n",
      "32/32 [==============================] - 4s 129ms/step - loss: 0.4634 - accuracy: 0.7878 - val_loss: 0.4689 - val_accuracy: 0.7876\n",
      "Epoch 133/200\n",
      "32/32 [==============================] - 4s 127ms/step - loss: 0.4451 - accuracy: 0.8031 - val_loss: 0.4781 - val_accuracy: 0.7832\n",
      "Epoch 134/200\n",
      "32/32 [==============================] - 4s 127ms/step - loss: 0.4329 - accuracy: 0.8105 - val_loss: 0.4987 - val_accuracy: 0.7655\n",
      "Epoch 135/200\n",
      "32/32 [==============================] - 4s 128ms/step - loss: 0.4099 - accuracy: 0.8189 - val_loss: 0.4696 - val_accuracy: 0.8097\n",
      "Epoch 136/200\n",
      "32/32 [==============================] - 4s 129ms/step - loss: 0.4021 - accuracy: 0.8302 - val_loss: 0.4712 - val_accuracy: 0.8009\n",
      "Epoch 137/200\n",
      "32/32 [==============================] - 4s 130ms/step - loss: 0.3862 - accuracy: 0.8411 - val_loss: 0.5016 - val_accuracy: 0.7876\n",
      "Epoch 138/200\n",
      "32/32 [==============================] - 4s 130ms/step - loss: 0.4167 - accuracy: 0.8184 - val_loss: 0.4574 - val_accuracy: 0.8186\n",
      "Epoch 139/200\n",
      "32/32 [==============================] - 4s 132ms/step - loss: 0.3879 - accuracy: 0.8272 - val_loss: 0.5012 - val_accuracy: 0.7788\n",
      "Epoch 140/200\n",
      "32/32 [==============================] - 4s 129ms/step - loss: 0.4055 - accuracy: 0.8342 - val_loss: 0.4344 - val_accuracy: 0.8142\n",
      "Epoch 141/200\n",
      "32/32 [==============================] - 4s 126ms/step - loss: 0.3815 - accuracy: 0.8346 - val_loss: 0.4539 - val_accuracy: 0.8009\n",
      "Epoch 142/200\n",
      "32/32 [==============================] - 4s 124ms/step - loss: 0.3825 - accuracy: 0.8381 - val_loss: 0.4706 - val_accuracy: 0.7743\n",
      "Epoch 143/200\n",
      "32/32 [==============================] - 4s 131ms/step - loss: 0.3873 - accuracy: 0.8307 - val_loss: 0.4763 - val_accuracy: 0.8053\n",
      "Epoch 144/200\n",
      "32/32 [==============================] - 4s 133ms/step - loss: 0.3813 - accuracy: 0.8322 - val_loss: 0.4526 - val_accuracy: 0.8097\n",
      "Epoch 145/200\n",
      "32/32 [==============================] - 4s 133ms/step - loss: 0.3733 - accuracy: 0.8450 - val_loss: 0.4847 - val_accuracy: 0.7788\n",
      "Epoch 146/200\n",
      "32/32 [==============================] - 4s 133ms/step - loss: 0.3851 - accuracy: 0.8272 - val_loss: 0.4623 - val_accuracy: 0.8009\n",
      "Epoch 147/200\n",
      "32/32 [==============================] - 4s 136ms/step - loss: 0.3774 - accuracy: 0.8302 - val_loss: 0.4661 - val_accuracy: 0.8097\n",
      "Epoch 148/200\n",
      "32/32 [==============================] - 4s 135ms/step - loss: 0.3866 - accuracy: 0.8312 - val_loss: 0.4769 - val_accuracy: 0.8097\n",
      "Epoch 149/200\n",
      "32/32 [==============================] - 4s 132ms/step - loss: 0.3797 - accuracy: 0.8366 - val_loss: 0.4778 - val_accuracy: 0.7965\n",
      "Epoch 150/200\n",
      "32/32 [==============================] - 4s 135ms/step - loss: 0.3661 - accuracy: 0.8465 - val_loss: 0.4472 - val_accuracy: 0.8274\n",
      "Epoch 151/200\n",
      "32/32 [==============================] - 5s 142ms/step - loss: 0.3843 - accuracy: 0.8391 - val_loss: 0.4748 - val_accuracy: 0.7788\n",
      "Epoch 152/200\n",
      "32/32 [==============================] - 4s 138ms/step - loss: 0.3917 - accuracy: 0.8258 - val_loss: 0.4572 - val_accuracy: 0.7920\n",
      "Epoch 153/200\n",
      "32/32 [==============================] - 5s 142ms/step - loss: 0.3780 - accuracy: 0.8366 - val_loss: 0.4729 - val_accuracy: 0.7876\n",
      "Epoch 154/200\n",
      "32/32 [==============================] - 4s 140ms/step - loss: 0.3583 - accuracy: 0.8470 - val_loss: 0.4671 - val_accuracy: 0.8097\n",
      "Epoch 155/200\n",
      "32/32 [==============================] - 4s 135ms/step - loss: 0.3795 - accuracy: 0.8312 - val_loss: 0.4433 - val_accuracy: 0.8053\n",
      "Epoch 156/200\n",
      "32/32 [==============================] - 4s 136ms/step - loss: 0.3791 - accuracy: 0.8277 - val_loss: 0.4447 - val_accuracy: 0.7920\n",
      "Epoch 157/200\n",
      "32/32 [==============================] - 4s 136ms/step - loss: 0.3659 - accuracy: 0.8361 - val_loss: 0.4562 - val_accuracy: 0.7699\n",
      "Epoch 158/200\n",
      "32/32 [==============================] - 5s 141ms/step - loss: 0.3543 - accuracy: 0.8524 - val_loss: 0.4623 - val_accuracy: 0.7876\n",
      "Epoch 159/200\n",
      "32/32 [==============================] - 4s 135ms/step - loss: 0.3657 - accuracy: 0.8396 - val_loss: 0.4486 - val_accuracy: 0.8053\n",
      "Epoch 160/200\n",
      "32/32 [==============================] - 4s 137ms/step - loss: 0.3730 - accuracy: 0.8416 - val_loss: 0.4535 - val_accuracy: 0.7920\n",
      "Epoch 161/200\n",
      "32/32 [==============================] - 4s 135ms/step - loss: 0.3681 - accuracy: 0.8406 - val_loss: 0.4743 - val_accuracy: 0.7920\n",
      "Epoch 162/200\n",
      "32/32 [==============================] - 4s 134ms/step - loss: 0.3394 - accuracy: 0.8549 - val_loss: 0.4335 - val_accuracy: 0.7920\n",
      "Epoch 163/200\n",
      "32/32 [==============================] - 4s 139ms/step - loss: 0.3517 - accuracy: 0.8539 - val_loss: 0.6028 - val_accuracy: 0.7655\n",
      "Epoch 164/200\n",
      "32/32 [==============================] - 4s 137ms/step - loss: 0.4043 - accuracy: 0.8346 - val_loss: 0.4508 - val_accuracy: 0.7965\n",
      "Epoch 165/200\n",
      "32/32 [==============================] - 4s 137ms/step - loss: 0.3685 - accuracy: 0.8470 - val_loss: 0.4228 - val_accuracy: 0.7832\n",
      "Epoch 166/200\n",
      "32/32 [==============================] - 4s 137ms/step - loss: 0.3580 - accuracy: 0.8504 - val_loss: 0.4503 - val_accuracy: 0.8053\n",
      "Epoch 167/200\n",
      "32/32 [==============================] - 4s 131ms/step - loss: 0.3632 - accuracy: 0.8504 - val_loss: 0.4624 - val_accuracy: 0.7876\n",
      "Epoch 168/200\n",
      "32/32 [==============================] - 4s 139ms/step - loss: 0.3545 - accuracy: 0.8519 - val_loss: 0.4651 - val_accuracy: 0.7788\n",
      "Epoch 169/200\n",
      "32/32 [==============================] - 4s 134ms/step - loss: 0.3467 - accuracy: 0.8495 - val_loss: 0.4531 - val_accuracy: 0.7920\n",
      "Epoch 170/200\n",
      "32/32 [==============================] - 4s 134ms/step - loss: 0.3404 - accuracy: 0.8554 - val_loss: 0.4495 - val_accuracy: 0.8009\n",
      "Epoch 171/200\n",
      "32/32 [==============================] - 4s 130ms/step - loss: 0.3328 - accuracy: 0.8662 - val_loss: 0.4793 - val_accuracy: 0.8230\n",
      "Epoch 172/200\n",
      "32/32 [==============================] - 4s 131ms/step - loss: 0.3702 - accuracy: 0.8361 - val_loss: 0.5413 - val_accuracy: 0.8009\n",
      "Epoch 173/200\n",
      "32/32 [==============================] - 4s 125ms/step - loss: 0.4284 - accuracy: 0.8134 - val_loss: 0.4781 - val_accuracy: 0.8097\n",
      "Epoch 174/200\n",
      "32/32 [==============================] - 4s 130ms/step - loss: 0.5098 - accuracy: 0.7675 - val_loss: 0.4498 - val_accuracy: 0.7876\n",
      "Epoch 175/200\n",
      "32/32 [==============================] - 4s 128ms/step - loss: 0.4805 - accuracy: 0.7784 - val_loss: 0.4057 - val_accuracy: 0.8319\n",
      "Epoch 176/200\n",
      "32/32 [==============================] - 4s 133ms/step - loss: 0.4538 - accuracy: 0.7947 - val_loss: 0.4526 - val_accuracy: 0.8053\n",
      "Epoch 177/200\n",
      "32/32 [==============================] - 4s 127ms/step - loss: 0.4381 - accuracy: 0.8036 - val_loss: 0.4178 - val_accuracy: 0.8274\n",
      "Epoch 178/200\n",
      "32/32 [==============================] - 4s 129ms/step - loss: 0.4177 - accuracy: 0.8134 - val_loss: 0.4603 - val_accuracy: 0.8142\n",
      "Epoch 179/200\n",
      "32/32 [==============================] - 4s 126ms/step - loss: 0.3673 - accuracy: 0.8416 - val_loss: 0.4887 - val_accuracy: 0.8053\n",
      "Epoch 180/200\n",
      "32/32 [==============================] - 4s 127ms/step - loss: 0.3750 - accuracy: 0.8435 - val_loss: 0.4608 - val_accuracy: 0.8097\n",
      "Epoch 181/200\n",
      "32/32 [==============================] - 4s 131ms/step - loss: 0.3947 - accuracy: 0.8287 - val_loss: 0.4571 - val_accuracy: 0.8097\n",
      "Epoch 182/200\n",
      "32/32 [==============================] - 4s 136ms/step - loss: 0.3952 - accuracy: 0.8193 - val_loss: 0.4768 - val_accuracy: 0.7920\n",
      "Epoch 183/200\n",
      "32/32 [==============================] - 4s 133ms/step - loss: 0.4097 - accuracy: 0.8149 - val_loss: 0.4980 - val_accuracy: 0.7788\n",
      "Epoch 184/200\n",
      "32/32 [==============================] - 4s 132ms/step - loss: 0.4735 - accuracy: 0.7981 - val_loss: 0.4517 - val_accuracy: 0.7965\n",
      "Epoch 185/200\n",
      "32/32 [==============================] - 4s 131ms/step - loss: 0.4188 - accuracy: 0.8243 - val_loss: 0.4182 - val_accuracy: 0.8097\n",
      "Epoch 186/200\n",
      "32/32 [==============================] - 4s 130ms/step - loss: 0.4123 - accuracy: 0.8312 - val_loss: 0.4248 - val_accuracy: 0.7965\n",
      "Epoch 187/200\n",
      "32/32 [==============================] - 4s 130ms/step - loss: 0.4086 - accuracy: 0.8193 - val_loss: 0.4382 - val_accuracy: 0.8009\n",
      "Epoch 188/200\n",
      "32/32 [==============================] - 4s 135ms/step - loss: 0.4368 - accuracy: 0.8184 - val_loss: 0.4500 - val_accuracy: 0.7876\n",
      "Epoch 189/200\n",
      "32/32 [==============================] - 4s 136ms/step - loss: 0.4219 - accuracy: 0.8139 - val_loss: 0.4406 - val_accuracy: 0.8009\n",
      "Epoch 190/200\n",
      "32/32 [==============================] - 5s 143ms/step - loss: 0.4474 - accuracy: 0.8070 - val_loss: 0.4526 - val_accuracy: 0.8009\n",
      "Epoch 191/200\n",
      "32/32 [==============================] - 4s 133ms/step - loss: 0.4292 - accuracy: 0.8164 - val_loss: 0.4159 - val_accuracy: 0.8142\n",
      "Epoch 192/200\n",
      "32/32 [==============================] - 4s 135ms/step - loss: 0.4588 - accuracy: 0.7971 - val_loss: 0.4186 - val_accuracy: 0.8142\n",
      "Epoch 193/200\n",
      "32/32 [==============================] - 4s 128ms/step - loss: 0.4287 - accuracy: 0.8075 - val_loss: 0.4088 - val_accuracy: 0.8230\n",
      "Epoch 194/200\n",
      "32/32 [==============================] - 4s 128ms/step - loss: 0.4405 - accuracy: 0.8031 - val_loss: 0.4045 - val_accuracy: 0.8053\n",
      "Epoch 195/200\n",
      "32/32 [==============================] - 4s 135ms/step - loss: 0.4123 - accuracy: 0.8203 - val_loss: 0.4177 - val_accuracy: 0.8230\n",
      "Epoch 196/200\n",
      "32/32 [==============================] - 4s 134ms/step - loss: 0.4203 - accuracy: 0.8110 - val_loss: 0.4042 - val_accuracy: 0.8230\n",
      "Epoch 197/200\n",
      "32/32 [==============================] - 4s 133ms/step - loss: 0.4188 - accuracy: 0.8134 - val_loss: 0.3770 - val_accuracy: 0.8274\n",
      "Epoch 198/200\n",
      "32/32 [==============================] - 4s 135ms/step - loss: 0.4006 - accuracy: 0.8292 - val_loss: 0.3875 - val_accuracy: 0.8274\n",
      "Epoch 199/200\n",
      "32/32 [==============================] - 5s 148ms/step - loss: 0.4260 - accuracy: 0.8193 - val_loss: 0.3829 - val_accuracy: 0.8407\n",
      "Epoch 200/200\n",
      "32/32 [==============================] - 4s 138ms/step - loss: 0.4348 - accuracy: 0.8119 - val_loss: 0.3940 - val_accuracy: 0.8319\n"
     ]
    }
   ],
   "source": [
    "model = init_model()\n",
    "# callbacks = [EarlyStopping(monitor='val_loss', patience=3), History()]\n",
    "callbacks = [History()]\n",
    "history = model.fit(x_train, y_train,validation_split=0.1, epochs=200, batch_size=64, callbacks=callbacks)"
   ]
  },
  {
   "cell_type": "markdown",
   "metadata": {},
   "source": [
    "Predict test set"
   ]
  },
  {
   "cell_type": "code",
   "execution_count": 42,
   "metadata": {
    "tags": []
   },
   "outputs": [
    {
     "name": "stdout",
     "output_type": "stream",
     "text": [
      "8/8 [==============================] - 2s 35ms/step - loss: 1.1496 - accuracy: 0.5248\n",
      "[1.149603247642517, 0.5248447060585022]\n",
      "31/31 [==============================] - 2s 23ms/step\n",
      "[1 1 1 0 1 1 0 1 1 1 1 1 1 1 0 1 1 1 1 1 1 0 1 1 1 1 1 0 1 1 0 0 0 0 1 1 0\n",
      " 0 0 1 1 0 0 0 0 0 0 0 0 0 1 1 1 1 0 1 1 1 1 1 0 1 1 1 0 1 1 1 1 1 1 1 1 1\n",
      " 1 1 1 1 1 1 1 1 1 1 1 1 1 1 1 1 1 1 1 1 1 1 1 1 1 0 0 0 1 1 0 1 0 1 1 0 1\n",
      " 1 0 1 1 1 1 1 1 1 1 1 1 1 1 1 1 1 1 1 1 1 1 1 1 1 1 1 1 1 1 1 1 1 1 1 1 1\n",
      " 0 0 1 1 1 1 1 0 1 1 1 1 0 1 1 0 1 1 1 1 1 1 0 1 1 1 1 1 0 1 1 1 1 1 1 1 1\n",
      " 1 1 1 1 1 1 0 1 1 1 0 0 1 1 1 1 1 1 1 1 1 1 1 1 1 1 1 1 1 1 1 1 1 1 1 1 0\n",
      " 0 0 1 1 1 0 0 1 1 1 1 1 0 1 1 1 0 1 1 1 1 1 1 1 1 1 1 1 1 1 1 1 0 1 1 1 1\n",
      " 0 0 0 1 0 1 1 1 0 1 1 1 1 1 0 0 0 1 1 1 0 1 1 1 0 1 1 0 1 0 1 1 0 0 0 0 0\n",
      " 1 1 1 1 1 0 0 1 1 1 1 0 1 1 1 0 1 0 1 0 1 1 1 1 0 1 1 0 1 1 1 1 0 0 1 1 0\n",
      " 0 1 0 1 0 1 1 1 0 1 1 1 1 1 0 1 1 1 0 1 1 0 1 1 1 1 1 1 1 1 1 1 0 1 1 0 1\n",
      " 1 1 0 1 1 1 1 1 1 1 1 1 1 0 0 1 1 1 1 0 1 1 1 1 1 1 1 1 1 1 1 1 1 1 1 1 0\n",
      " 0 0 0 0 0 0 0 0 1 1 1 1 0 1 1 0 0 1 0 1 1 1 0 0 1 0 0 1 1 1 1 1 1 1 0 0 0\n",
      " 1 1 1 1 1 0 0 1 0 1 1 1 1 1 1 0 1 1 1 1 1 1 1 1 0 1 0 1 1 1 1 1 1 0 1 0 1\n",
      " 1 1 0 0 0 0 1 0 0 0 1 0 0 0 1 0 0 0 1 0 1 0 1 0 0 0 0 0 0 0 0 1 0 0 0 0 0\n",
      " 1 0 0 0 0 0 0 0 0 0 0 0 1 0 0 0 0 0 0 0 0 0 0 0 0 0 0 0 0 0 0 0 0 0 0 0 0\n",
      " 0 0 0 0 0 0 0 0 0 0 0 0 0 0 0 0 0 0 1 0 1 0 0 0 0 0 0 1 0 0 0 0 0 0 0 0 0\n",
      " 0 0 0 0 1 0 1 0 0 0 1 0 0 1 0 0 0 1 1 1 0 0 0 0 1 1 0 0 0 0 0 1 0 1 0 0 0\n",
      " 1 1 1 0 1 1 1 0 0 0 0 0 0 0 0 0 0 0 1 0 0 0 0 0 1 0 0 0 0 0 1 1 0 0 0 0 1\n",
      " 0 0 1 0 0 1 0 1 0 0 0 0 0 0 0 0 0 0 1 0 0 0 1 1 0 0 0 0 0 0 0 0 0 0 0 0 0\n",
      " 1 0 0 0 0 1 0 0 0 1 0 0 0 0 0 1 1 0 0 0 1 1 1 1 0 1 0 1 1 0 0 0 0 0 0 0 0\n",
      " 0 0 0 0 0 0 0 0 0 0 0 0 1 0 0 0 1 0 0 1 1 0 1 0 0 0 0 0 0 1 1 0 0 0 1 1 0\n",
      " 0 1 0 0 0 1 1 0 0 0 0 1 1 0 1 0 0 0 0 0 0 0 0 0 0 0 0 0 0 0 0 0 0 0 0 0 0\n",
      " 0 0 0 0 0 0 0 0 0 0 0 0 0 0 0 0 1 1 0 1 0 0 0 0 0 0 0 1 1 0 1 0 0 0 0 0 0\n",
      " 0 0 0 0 0 0 1 0 1 0 0 0 0 0 0 0 0 0 0 1 1 0 0 0 1 0 1 1 0 0 1 0 1 0 0 0 0\n",
      " 0 0 0 0 0 0 0 0 0 0 0 0 0 0 0 0 0 0 0 0 0 0 0 0 0 0 0 0 0 1 0 0 0 0 0 1 1\n",
      " 0 1 1 0 0 1 1 0 0 0 0 1 0 0 0 0 1 0 0 0 0 0 0 1 1 0 0 1 0 0 0 0 0 0 0 0 0\n",
      " 0 0 0 0]\n",
      "[1 1 1 1 1 1 1 1 1 1 1 1 1 1 1 1 1 1 1 1 1 1 1 1 1 1 1 1 1 1 1 1 1 1 1 1 1\n",
      " 1 1 1 1 1 1 1 1 1 1 1 1 1 1 1 1 1 1 1 1 1 1 1 1 1 1 1 1 1 1 1 1 1 1 1 1 1\n",
      " 1 1 1 1 1 1 1 1 1 1 1 1 1 1 1 1 1 1 1 1 1 1 1 1 1 1 1 1 1 1 1 1 1 1 1 1 1\n",
      " 1 1 1 1 1 1 1 1 1 1 1 1 1 1 1 1 1 1 1 1 1 1 1 1 1 1 1 1 1 1 1 1 1 1 1 1 1\n",
      " 1 1 1 1 1 1 1 1 1 1 1 1 1 1 1 1 1 1 1 1 1 1 1 1 1 1 1 1 1 1 1 1 1 1 1 1 1\n",
      " 1 1 1 1 1 1 1 1 1 1 1 1 1 1 1 1 1 1 1 1 1 1 1 1 1 1 1 1 1 1 1 1 1 1 1 1 1\n",
      " 1 1 1 1 1 1 1 1 1 1 1 1 1 1 1 1 1 1 1 1 1 1 1 1 1 1 1 1 1 1 1 1 1 1 1 1 1\n",
      " 1 1 1 1 1 1 1 1 1 1 1 1 1 1 1 1 1 1 1 1 1 1 1 1 1 1 1 1 1 1 1 1 1 1 1 1 1\n",
      " 1 1 1 1 1 1 1 1 1 1 1 1 1 1 1 1 1 1 1 1 1 1 1 1 1 1 1 1 1 1 1 1 1 1 1 1 1\n",
      " 1 1 1 1 1 1 1 1 1 1 1 1 1 1 1 1 1 1 1 1 1 1 1 1 1 1 1 1 1 1 1 1 1 1 1 1 1\n",
      " 1 1 1 1 1 1 1 1 1 1 1 1 1 1 1 1 1 1 1 1 1 1 1 1 1 1 1 1 1 1 1 1 1 1 1 1 1\n",
      " 1 1 1 1 1 1 1 1 1 1 1 1 1 1 1 1 1 1 1 1 1 1 1 1 1 1 1 1 1 1 1 1 1 1 1 1 1\n",
      " 1 1 1 1 1 1 1 1 1 1 1 1 1 1 1 1 1 1 1 1 1 1 1 1 1 1 1 1 1 1 1 1 1 1 1 1 1\n",
      " 1 1 0 0 0 0 0 0 0 0 0 0 0 0 0 0 0 0 0 0 0 0 0 0 0 0 0 0 0 0 0 0 0 0 0 0 0\n",
      " 0 0 0 0 0 0 0 0 0 0 0 0 0 0 0 0 0 0 0 0 0 0 0 0 0 0 0 0 0 0 0 0 0 0 0 0 0\n",
      " 0 0 0 0 0 0 0 0 0 0 0 0 0 0 0 0 0 0 0 0 0 0 0 0 0 0 0 0 0 0 0 0 0 0 0 0 0\n",
      " 0 0 0 0 0 0 0 0 0 0 0 0 0 0 0 0 0 0 0 0 0 0 0 0 0 0 0 0 0 0 0 0 0 0 0 0 0\n",
      " 0 0 0 0 0 0 0 0 0 0 0 0 0 0 0 0 0 0 0 0 0 0 0 0 0 0 0 0 0 0 0 0 0 0 0 0 0\n",
      " 0 0 0 0 0 0 0 0 0 0 0 0 0 0 0 0 0 0 0 0 0 0 0 0 0 0 0 0 0 0 0 0 0 0 0 0 0\n",
      " 0 0 0 0 0 0 0 0 0 0 0 0 0 0 0 0 0 0 0 0 0 0 0 0 0 0 0 0 0 0 0 0 0 0 0 0 0\n",
      " 0 0 0 0 0 0 0 0 0 0 0 0 0 0 0 0 0 0 0 0 0 0 0 0 0 0 0 0 0 0 0 0 0 0 0 0 0\n",
      " 0 0 0 0 0 0 0 0 0 0 0 0 0 0 0 0 0 0 0 0 0 0 0 0 0 0 0 0 0 0 0 0 0 0 0 0 0\n",
      " 0 0 0 0 0 0 0 0 0 0 0 0 0 0 0 0 0 0 0 0 0 0 0 0 0 0 0 0 0 0 0 0 0 0 0 0 0\n",
      " 0 0 0 0 0 0 0 0 0 0 0 0 0 0 0 0 0 0 0 0 0 0 0 0 0 0 0 0 0 0 0 0 0 0 0 0 0\n",
      " 0 0 0 0 0 0 0 0 0 0 0 0 0 0 0 0 0 0 0 0 0 0 0 0 0 0 0 0 0 0 0 0 0 0 0 0 0\n",
      " 0 0 0 0 0 0 0 0 0 0 0 0 0 0 0 0 0 0 0 0 0 0 0 0 0 0 0 0 0 0 0 0 0 0 0 0 0\n",
      " 0 0 0 0]\n",
      "Accuracy on test set:  0.7805383022774327\n"
     ]
    }
   ],
   "source": [
    "results = model.evaluate(x_test, y_test, batch_size=128)\n",
    "print(results)\n",
    "predictions = model.predict(x_test)\n",
    "\n",
    "label_predictions = []\n",
    "\n",
    "# convert from category to label\n",
    "for prediction in predictions:\n",
    "    if prediction[0] > prediction[1]:\n",
    "        label_predictions.append(0)\n",
    "    else: label_predictions.append(1)\n",
    "    \n",
    "label_predictions = np.array(label_predictions)\n",
    "label_test = np.array(label_test)\n",
    "\n",
    "print(label_predictions)\n",
    "print(label_test)\n",
    "\n",
    "# calc acc\n",
    "true_count = 0\n",
    "for idx, label in enumerate(label_predictions):\n",
    "    if label == label_test[idx]:\n",
    "        true_count += 1\n",
    "        \n",
    "print(\"Accuracy on test set: \", true_count/(len(label_test)))"
   ]
  },
  {
   "cell_type": "code",
   "execution_count": 43,
   "metadata": {
    "tags": []
   },
   "outputs": [
    {
     "name": "stdout",
     "output_type": "stream",
     "text": [
      "dict_keys(['loss', 'accuracy', 'val_loss', 'val_accuracy'])\n"
     ]
    }
   ],
   "source": [
    "print(history.history.keys())"
   ]
  },
  {
   "cell_type": "code",
   "execution_count": 44,
   "metadata": {
    "tags": []
   },
   "outputs": [],
   "source": [
    "import os\n",
    "os.environ['KMP_DUPLICATE_LIB_OK'] = 'TRUE'"
   ]
  },
  {
   "cell_type": "markdown",
   "metadata": {},
   "source": [
    "plot the loss and acc from training process"
   ]
  },
  {
   "cell_type": "code",
   "execution_count": 45,
   "metadata": {
    "tags": []
   },
   "outputs": [
    {
     "data": {
      "image/png": "[encoded data removed]",
      "text/plain": [
       "<Figure size 640x480 with 1 Axes>"
      ]
     },
     "metadata": {},
     "output_type": "display_data"
    },
    {
     "data": {
      "image/png": "[encoded data removed]",
      "text/plain": [
       "<Figure size 640x480 with 1 Axes>"
      ]
     },
     "metadata": {},
     "output_type": "display_data"
    }
   ],
   "source": [
    "from matplotlib import pyplot as plt\n",
    "# Plot accuracy\n",
    "plt.subplot(2,1,1)\n",
    "plt.plot(history.history['accuracy'])\n",
    "plt.plot(history.history['val_accuracy'])\n",
    "plt.title('Model Accuracy')\n",
    "plt.xlabel('Epoch')\n",
    "plt.ylabel('Accuracy')\n",
    "plt.legend(['train', 'test'], loc='upper left')\n",
    "plt.show()\n",
    "\n",
    "# Plot loss\n",
    "plt.subplot(2,1,2)\n",
    "plt.plot(history.history['loss'])\n",
    "plt.plot(history.history['val_loss'])\n",
    "plt.title('Model Loss')\n",
    "plt.xlabel('Epoch')\n",
    "plt.ylabel('Loss')\n",
    "plt.legend(['train', 'test'], loc='upper left')\n",
    "plt.show()"
   ]
  },
  {
   "cell_type": "code",
   "execution_count": 46,
   "metadata": {},
   "outputs": [],
   "source": [
    "model.save(\"GP046.keras\")"
   ]
  }
 ],
 "metadata": {
  "kernelspec": {
   "display_name": "Python 3 (ipykernel)",
   "language": "python",
   "name": "python3"
  },
  "language_info": {
   "codemirror_mode": {
    "name": "ipython",
    "version": 3
   },
   "file_extension": ".py",
   "mimetype": "text/x-python",
   "name": "python",
   "nbconvert_exporter": "python",
   "pygments_lexer": "ipython3",
   "version": "3.10.9"
  }
 },
 "nbformat": 4,
 "nbformat_minor": 4
}
