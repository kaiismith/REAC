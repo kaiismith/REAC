{
 "cells": [
  {
   "cell_type": "code",
   "execution_count": 372,
   "metadata": {},
   "outputs": [],
   "source": [
    "import pandas as pd\n",
    "import numpy  as np"
   ]
  },
  {
   "cell_type": "markdown",
   "metadata": {},
   "source": [
    "import data file"
   ]
  },
  {
   "cell_type": "code",
   "execution_count": 373,
   "metadata": {},
   "outputs": [
    {
     "data": {
      "text/html": [
       "<div>\n",
       "<style scoped>\n",
       "    .dataframe tbody tr th:only-of-type {\n",
       "        vertical-align: middle;\n",
       "    }\n",
       "\n",
       "    .dataframe tbody tr th {\n",
       "        vertical-align: top;\n",
       "    }\n",
       "\n",
       "    .dataframe thead th {\n",
       "        text-align: right;\n",
       "    }\n",
       "</style>\n",
       "<table border=\"1\" class=\"dataframe\">\n",
       "  <thead>\n",
       "    <tr style=\"text-align: right;\">\n",
       "      <th></th>\n",
       "      <th>Label</th>\n",
       "    </tr>\n",
       "  </thead>\n",
       "  <tbody>\n",
       "    <tr>\n",
       "      <th>count</th>\n",
       "      <td>329.000000</td>\n",
       "    </tr>\n",
       "    <tr>\n",
       "      <th>mean</th>\n",
       "      <td>0.589666</td>\n",
       "    </tr>\n",
       "    <tr>\n",
       "      <th>std</th>\n",
       "      <td>0.492644</td>\n",
       "    </tr>\n",
       "    <tr>\n",
       "      <th>min</th>\n",
       "      <td>0.000000</td>\n",
       "    </tr>\n",
       "    <tr>\n",
       "      <th>25%</th>\n",
       "      <td>0.000000</td>\n",
       "    </tr>\n",
       "    <tr>\n",
       "      <th>50%</th>\n",
       "      <td>1.000000</td>\n",
       "    </tr>\n",
       "    <tr>\n",
       "      <th>75%</th>\n",
       "      <td>1.000000</td>\n",
       "    </tr>\n",
       "    <tr>\n",
       "      <th>max</th>\n",
       "      <td>1.000000</td>\n",
       "    </tr>\n",
       "  </tbody>\n",
       "</table>\n",
       "</div>"
      ],
      "text/plain": [
       "            Label\n",
       "count  329.000000\n",
       "mean     0.589666\n",
       "std      0.492644\n",
       "min      0.000000\n",
       "25%      0.000000\n",
       "50%      1.000000\n",
       "75%      1.000000\n",
       "max      1.000000"
      ]
     },
     "execution_count": 373,
     "metadata": {},
     "output_type": "execute_result"
    }
   ],
   "source": [
    "df = pd.read_csv('data_new.csv')\n",
    "df.describe()"
   ]
  },
  {
   "cell_type": "markdown",
   "metadata": {},
   "source": [
    "split data"
   ]
  },
  {
   "cell_type": "code",
   "execution_count": 374,
   "metadata": {},
   "outputs": [
    {
     "name": "stdout",
     "output_type": "stream",
     "text": [
      "Non-cheat:  135\n",
      "Cheat:  194\n",
      "(222, 107)\n"
     ]
    }
   ],
   "source": [
    "print(\"Non-cheat: \", len(df[df['Label']==0]))\n",
    "print(\"Cheat: \", len(df[df['Label']==1]))\n",
    "\n",
    "# diff = abs(len(df[df['Label']==0]) - len(df[df['Label']==1]))\n",
    "\n",
    "grouped = df.groupby(df.Label)\n",
    "df1 = grouped.get_group(1)\n",
    "df2 = grouped.get_group(0)\n",
    "\n",
    "df2_1 = df.iloc[:135,:]\n",
    "df2_2 = df.iloc[135:194,:]\n",
    "\n",
    "df1_train = df1.iloc[:111,:]\n",
    "df2_train = df2_1.iloc[:111,:]\n",
    "\n",
    "df1_test = df1.iloc[111:135,:]\n",
    "df2_test = df2_1.iloc[111:135,:]\n",
    "\n",
    "train = pd.concat([df1_train, df2_train])\n",
    "test  = pd.concat([df1_test, df2_test, df2_2])\n",
    "\n",
    "print((len(train), len(test)))"
   ]
  },
  {
   "cell_type": "markdown",
   "metadata": {},
   "source": [
    "parse data from string to numpy array"
   ]
  },
  {
   "cell_type": "code",
   "execution_count": 375,
   "metadata": {},
   "outputs": [],
   "source": [
    "def parseData(series):\n",
    "    final_series = []\n",
    "    for ser in series:\n",
    "        temp = []\n",
    "        for x in \"[],\":\n",
    "            ser = ser.replace(x, \"\")\n",
    "        new_ser  = np.fromstring(ser, dtype=float, sep=\" \")\n",
    "        for i in range(0, len(new_ser), 3):\n",
    "            chunk = [new_ser[i], new_ser[i + 1], new_ser[i + 2]]\n",
    "            temp.append(chunk)\n",
    "        final_series.append(temp)\n",
    "    return np.array(final_series, dtype=object)"
   ]
  },
  {
   "cell_type": "markdown",
   "metadata": {},
   "source": [
    "get the longest sequence of vector in dataset"
   ]
  },
  {
   "cell_type": "code",
   "execution_count": 376,
   "metadata": {},
   "outputs": [
    {
     "data": {
      "text/plain": [
       "1294"
      ]
     },
     "execution_count": 376,
     "metadata": {},
     "output_type": "execute_result"
    }
   ],
   "source": [
    "max_length = 0\n",
    "for lgaze in parseData(df['Left Gaze']):\n",
    "    if len(lgaze) > max_length:\n",
    "        max_length = len(lgaze)\n",
    "        \n",
    "max_length"
   ]
  },
  {
   "cell_type": "markdown",
   "metadata": {},
   "source": [
    "pad the dataset to the longest sequence size"
   ]
  },
  {
   "cell_type": "code",
   "execution_count": 377,
   "metadata": {},
   "outputs": [],
   "source": [
    "import math\n",
    "\n",
    "def padData(series, length):\n",
    "    for idx, ser in enumerate(series):\n",
    "        times = math.floor(length / len(ser))\n",
    "        add = length % len(ser)\n",
    "        \n",
    "        temp = ser[::-1]\n",
    "        for _ in range(1, times):\n",
    "            series[idx] = np.append(series[idx], temp, axis=0)\n",
    "            temp = temp[::-1]\n",
    "        if add != 0:\n",
    "            series[idx] = np.append(series[idx], temp[0:add], axis=0)\n",
    "    return series"
   ]
  },
  {
   "cell_type": "markdown",
   "metadata": {},
   "source": [
    "Conv1D -> AveragePooling1D -> Conv1D -> AveragePooling1D -> LSTM -> Dense"
   ]
  },
  {
   "cell_type": "code",
   "execution_count": 378,
   "metadata": {},
   "outputs": [],
   "source": [
    "from tensorflow.keras.models import Sequential\n",
    "from tensorflow.keras.layers import Conv1D, Flatten, Dense, AveragePooling1D, LSTM, Dropout\n",
    "from tensorflow.keras import optimizers\n",
    "from tensorflow.keras.callbacks import EarlyStopping, History\n",
    "\n",
    "import tensorflow as tf\n",
    "\n",
    "def init_model(): \n",
    "        alexnet = Sequential()\n",
    "        alexnet.add(Conv1D(filters=96, kernel_size=11, padding='same', strides=4, activation='relu', input_shape=(max_length,12)))\n",
    "        alexnet.add(AveragePooling1D(pool_size=3, strides=2, padding='same'))\n",
    "        alexnet.add(Conv1D(filters=256, kernel_size=5, padding='same', activation='relu'))\n",
    "        alexnet.add(AveragePooling1D(pool_size=3, strides=2))\n",
    "        alexnet.add(Conv1D(filters=384, kernel_size=3, padding='same', activation='relu'))\n",
    "        alexnet.add(Conv1D(filters=384, kernel_size=3, padding='same', activation='relu'))\n",
    "        alexnet.add(Conv1D(filters=256, kernel_size=3, padding='same', activation='relu'))\n",
    "        alexnet.add(AveragePooling1D(pool_size=3, strides=2))\n",
    "        alexnet.add(LSTM(256))\n",
    "        alexnet.add(Flatten())\n",
    "\n",
    "        # Fully connected layers\n",
    "        alexnet.add(Dense(units=8, activation='relu'))\n",
    "        alexnet.add(Dropout(0.5))\n",
    "        alexnet.add(Dense(units=8, activation='relu'))\n",
    "        alexnet.add(Dropout(0.5))\n",
    "\n",
    "        alexnet.add(Dense(units=2, activation='softmax'))\n",
    "        \n",
    "        adam = optimizers.Adam(lr=0.01, beta_1=0.9, beta_2=0.999, epsilon=None, decay=0.0)\n",
    "        alexnet.compile(optimizer=adam,\n",
    "                  loss='categorical_crossentropy',\n",
    "                  metrics=['accuracy'])\n",
    "\n",
    "        return alexnet\n"
   ]
  },
  {
   "cell_type": "code",
   "execution_count": 379,
   "metadata": {},
   "outputs": [],
   "source": [
    "right_gaze_train = train[\"Right Gaze\"]\n",
    "left_gaze_train  = train[\"Left Gaze\"]\n",
    "right_head_train = train[\"Right HeadPose\"]\n",
    "left_head_train  = train[\"Left HeadPose\"]\n",
    "\n",
    "label_train = train['Label']\n",
    "\n",
    "right_gaze_train, left_gaze_train, right_head_train, left_head_train = parseData(right_gaze_train), parseData(left_gaze_train), parseData(right_head_train), parseData(left_head_train)"
   ]
  },
  {
   "cell_type": "markdown",
   "metadata": {},
   "source": [
    "initialize new data frame"
   ]
  },
  {
   "cell_type": "code",
   "execution_count": 380,
   "metadata": {},
   "outputs": [],
   "source": [
    "left_head_train  = padData(left_head_train,  max_length)\n",
    "right_head_train = padData(right_head_train, max_length)\n",
    "left_gaze_train  = padData(left_gaze_train,  max_length)\n",
    "right_gaze_train = padData(right_gaze_train, max_length)"
   ]
  },
  {
   "cell_type": "code",
   "execution_count": 381,
   "metadata": {},
   "outputs": [],
   "source": [
    "label_train = np.array(label_train)"
   ]
  },
  {
   "cell_type": "code",
   "execution_count": 382,
   "metadata": {},
   "outputs": [],
   "source": [
    "y_train = []\n",
    "for i in range(len(label_train)):\n",
    "    y_train.append(\n",
    "        tf.convert_to_tensor(\n",
    "            np.reshape(tf.keras.utils.to_categorical(label_train[i], num_classes=2), (1, 2))                 \n",
    "                            )\n",
    "             )\n",
    "    \n",
    "y_train = tf.convert_to_tensor(np.vstack(y_train), dtype=tf.float32)"
   ]
  },
  {
   "cell_type": "code",
   "execution_count": 383,
   "metadata": {},
   "outputs": [],
   "source": [
    "def normalize(data, a, b):\n",
    "    # Reshape the data to work on each feature separately\n",
    "    reshaped_data = tf.reshape(data, (-1, data.shape[-1]))\n",
    "\n",
    "    # Calculate min and max values for each feature\n",
    "    min_vals = tf.reduce_min(reshaped_data, axis=0)\n",
    "    max_vals = tf.reduce_max(reshaped_data, axis=0)\n",
    "\n",
    "    # Normalize to range [a, b]\n",
    "    normalized_data = (b - a) * (reshaped_data - min_vals) / (max_vals - min_vals + 1e-8) + a\n",
    "    \n",
    "    # Reshape back to the original shape\n",
    "    normalized_data = tf.reshape(normalized_data, data.shape)\n",
    "\n",
    "    return normalized_data"
   ]
  },
  {
   "cell_type": "code",
   "execution_count": 384,
   "metadata": {},
   "outputs": [
    {
     "name": "stdout",
     "output_type": "stream",
     "text": [
      "tf.Tensor(\n",
      "[[[ 2.2730064   1.9139781   0.04375219 ... -0.35926533 -1.8570476\n",
      "   -0.09189367]\n",
      "  [ 2.2703376   1.9146361   0.03211737 ... -0.589519   -1.7660122\n",
      "   -0.35932684]\n",
      "  [ 2.2696757   1.9159012   0.03124142 ... -0.59516335 -1.7062588\n",
      "   -0.38510752]\n",
      "  ...\n",
      "  [ 2.2680364   1.9178681   0.02976227 ... -0.65992117 -1.5463638\n",
      "   -0.4972477 ]\n",
      "  [ 2.2659893   1.9140015   0.03169632 ... -0.64642096 -1.6871188\n",
      "   -0.43005705]\n",
      "  [ 2.265201    1.9144073   0.0311799  ... -0.6787896  -1.6726999\n",
      "   -0.4597721 ]]\n",
      "\n",
      " [[ 2.276997    1.9089537   0.04294157 ...  0.20918417 -2.0495734\n",
      "    0.40201235]\n",
      "  [ 2.2721572   1.9102283   0.04117918 ... -0.01706314 -1.9752052\n",
      "    0.19210434]\n",
      "  [ 2.2715077   1.9088416   0.04015303 ... -0.4237461  -1.7785192\n",
      "   -0.25230646]\n",
      "  ...\n",
      "  [ 2.2702203   1.9095564   0.03551626 ... -0.25455952 -1.912894\n",
      "   -0.02437878]\n",
      "  [ 2.2697253   1.9099126   0.03522825 ... -0.20770359 -1.8767216\n",
      "    0.02152252]\n",
      "  [ 2.2726622   1.9074769   0.03984976 ... -0.34041595 -1.7238531\n",
      "   -0.00679159]]\n",
      "\n",
      " [[ 2.2782817   1.9130759   0.04524517 ... -0.04585886 -0.9717927\n",
      "    0.54174805]\n",
      "  [ 2.2762966   1.9187016   0.04753208 ... -0.34898233 -0.51015186\n",
      "    0.7623997 ]\n",
      "  [ 2.2749672   1.9227757   0.0498023  ... -0.46081305 -0.18417883\n",
      "   -1.2686303 ]\n",
      "  ...\n",
      "  [ 2.2703462   1.9198799   0.02859879 ... -0.7478695  -0.622941\n",
      "   -1.0474036 ]\n",
      "  [ 2.2703533   1.9202371   0.02835894 ... -0.7511263  -0.6094227\n",
      "   -1.0565302 ]\n",
      "  [ 2.2693996   1.9200268   0.0284667  ... -0.8248048  -0.5924182\n",
      "   -1.0927668 ]]\n",
      "\n",
      " ...\n",
      "\n",
      " [[ 2.2799191   1.9077063   0.04461336 ...  0.31613922 -1.9456377\n",
      "    0.49440908]\n",
      "  [ 2.2793531   1.9081159   0.04429102 ...  0.29650116 -2.0326817\n",
      "    0.47969484]\n",
      "  [ 2.280211    1.910286    0.04533386 ...  0.26932335 -1.9970713\n",
      "    0.45312405]\n",
      "  ...\n",
      "  [ 2.2530494   1.9095144   0.02566957 ... -1.2466862  -1.5886071\n",
      "   -0.9587803 ]\n",
      "  [ 2.25735     1.9107184   0.02832031 ... -0.95293856 -1.5496242\n",
      "   -0.71660614]\n",
      "  [ 2.2662635   1.9111505   0.03338051 ... -0.36295652 -1.6311595\n",
      "    0.04663801]]\n",
      "\n",
      " [[ 2.2846045   1.9137526   0.04909182 ...  0.84322023 -1.5644641\n",
      "    0.9986992 ]\n",
      "  [ 2.2559047   1.9165454   0.02559996 ... -1.2342718  -1.9035347\n",
      "   -0.91709995]\n",
      "  [ 2.2475314   1.9021783   0.02191782 ... -1.7761357  -2.4244514\n",
      "   -1.4484823 ]\n",
      "  ...\n",
      "  [ 2.2743955   1.9093204   0.04156256 ...  0.12470913 -2.3496892\n",
      "    0.3902812 ]\n",
      "  [ 2.2472239   1.9012041   0.02159691 ... -1.9248941  -2.499438\n",
      "   -1.5915234 ]\n",
      "  [ 2.2475314   1.9021783   0.02191782 ... -1.7761357  -2.4244514\n",
      "   -1.4484823 ]]\n",
      "\n",
      " [[ 2.268117    1.9147334   0.03181791 ... -0.36191034 -1.4734287\n",
      "    0.1470108 ]\n",
      "  [ 2.2648268   1.9145637   0.03094959 ... -0.70363903 -1.5025184\n",
      "   -0.54525137]\n",
      "  [ 2.2657852   1.9144759   0.03135014 ... -0.7053957  -1.5258183\n",
      "   -0.53625107]\n",
      "  ...\n",
      "  [ 2.268117    1.9147334   0.03181791 ... -0.36191034 -1.4734287\n",
      "    0.1470108 ]\n",
      "  [ 2.268117    1.9147334   0.03181791 ... -0.36191034 -1.4734287\n",
      "    0.1470108 ]\n",
      "  [ 2.2648268   1.9145637   0.03094959 ... -0.70363903 -1.5025184\n",
      "   -0.54525137]]], shape=(222, 1294, 12), dtype=float32)\n",
      "tf.Tensor(\n",
      "[[0. 1.]\n",
      " [0. 1.]\n",
      " [0. 1.]\n",
      " [0. 1.]\n",
      " [0. 1.]\n",
      " [0. 1.]\n",
      " [0. 1.]\n",
      " [0. 1.]\n",
      " [0. 1.]\n",
      " [0. 1.]\n",
      " [0. 1.]\n",
      " [0. 1.]\n",
      " [0. 1.]\n",
      " [0. 1.]\n",
      " [0. 1.]\n",
      " [0. 1.]\n",
      " [0. 1.]\n",
      " [0. 1.]\n",
      " [0. 1.]\n",
      " [0. 1.]\n",
      " [0. 1.]\n",
      " [0. 1.]\n",
      " [0. 1.]\n",
      " [0. 1.]\n",
      " [0. 1.]\n",
      " [0. 1.]\n",
      " [0. 1.]\n",
      " [0. 1.]\n",
      " [0. 1.]\n",
      " [0. 1.]\n",
      " [0. 1.]\n",
      " [0. 1.]\n",
      " [0. 1.]\n",
      " [0. 1.]\n",
      " [0. 1.]\n",
      " [0. 1.]\n",
      " [0. 1.]\n",
      " [0. 1.]\n",
      " [0. 1.]\n",
      " [0. 1.]\n",
      " [0. 1.]\n",
      " [0. 1.]\n",
      " [0. 1.]\n",
      " [0. 1.]\n",
      " [0. 1.]\n",
      " [0. 1.]\n",
      " [0. 1.]\n",
      " [0. 1.]\n",
      " [0. 1.]\n",
      " [0. 1.]\n",
      " [0. 1.]\n",
      " [0. 1.]\n",
      " [0. 1.]\n",
      " [0. 1.]\n",
      " [0. 1.]\n",
      " [0. 1.]\n",
      " [0. 1.]\n",
      " [0. 1.]\n",
      " [0. 1.]\n",
      " [0. 1.]\n",
      " [0. 1.]\n",
      " [0. 1.]\n",
      " [0. 1.]\n",
      " [0. 1.]\n",
      " [0. 1.]\n",
      " [0. 1.]\n",
      " [0. 1.]\n",
      " [0. 1.]\n",
      " [0. 1.]\n",
      " [0. 1.]\n",
      " [0. 1.]\n",
      " [0. 1.]\n",
      " [0. 1.]\n",
      " [0. 1.]\n",
      " [0. 1.]\n",
      " [0. 1.]\n",
      " [0. 1.]\n",
      " [0. 1.]\n",
      " [0. 1.]\n",
      " [0. 1.]\n",
      " [0. 1.]\n",
      " [0. 1.]\n",
      " [0. 1.]\n",
      " [0. 1.]\n",
      " [0. 1.]\n",
      " [0. 1.]\n",
      " [0. 1.]\n",
      " [0. 1.]\n",
      " [0. 1.]\n",
      " [0. 1.]\n",
      " [0. 1.]\n",
      " [0. 1.]\n",
      " [0. 1.]\n",
      " [0. 1.]\n",
      " [0. 1.]\n",
      " [0. 1.]\n",
      " [0. 1.]\n",
      " [0. 1.]\n",
      " [0. 1.]\n",
      " [0. 1.]\n",
      " [0. 1.]\n",
      " [0. 1.]\n",
      " [0. 1.]\n",
      " [0. 1.]\n",
      " [0. 1.]\n",
      " [0. 1.]\n",
      " [0. 1.]\n",
      " [0. 1.]\n",
      " [0. 1.]\n",
      " [0. 1.]\n",
      " [0. 1.]\n",
      " [1. 0.]\n",
      " [0. 1.]\n",
      " [0. 1.]\n",
      " [1. 0.]\n",
      " [0. 1.]\n",
      " [1. 0.]\n",
      " [1. 0.]\n",
      " [0. 1.]\n",
      " [0. 1.]\n",
      " [0. 1.]\n",
      " [0. 1.]\n",
      " [0. 1.]\n",
      " [1. 0.]\n",
      " [0. 1.]\n",
      " [0. 1.]\n",
      " [1. 0.]\n",
      " [1. 0.]\n",
      " [1. 0.]\n",
      " [0. 1.]\n",
      " [0. 1.]\n",
      " [1. 0.]\n",
      " [1. 0.]\n",
      " [0. 1.]\n",
      " [1. 0.]\n",
      " [0. 1.]\n",
      " [1. 0.]\n",
      " [1. 0.]\n",
      " [0. 1.]\n",
      " [1. 0.]\n",
      " [0. 1.]\n",
      " [0. 1.]\n",
      " [0. 1.]\n",
      " [1. 0.]\n",
      " [1. 0.]\n",
      " [1. 0.]\n",
      " [0. 1.]\n",
      " [0. 1.]\n",
      " [0. 1.]\n",
      " [0. 1.]\n",
      " [1. 0.]\n",
      " [1. 0.]\n",
      " [0. 1.]\n",
      " [0. 1.]\n",
      " [0. 1.]\n",
      " [1. 0.]\n",
      " [1. 0.]\n",
      " [0. 1.]\n",
      " [0. 1.]\n",
      " [1. 0.]\n",
      " [1. 0.]\n",
      " [0. 1.]\n",
      " [1. 0.]\n",
      " [0. 1.]\n",
      " [1. 0.]\n",
      " [1. 0.]\n",
      " [0. 1.]\n",
      " [0. 1.]\n",
      " [1. 0.]\n",
      " [1. 0.]\n",
      " [0. 1.]\n",
      " [1. 0.]\n",
      " [0. 1.]\n",
      " [0. 1.]\n",
      " [1. 0.]\n",
      " [1. 0.]\n",
      " [1. 0.]\n",
      " [0. 1.]\n",
      " [0. 1.]\n",
      " [0. 1.]\n",
      " [1. 0.]\n",
      " [0. 1.]\n",
      " [1. 0.]\n",
      " [0. 1.]\n",
      " [1. 0.]\n",
      " [0. 1.]\n",
      " [0. 1.]\n",
      " [1. 0.]\n",
      " [1. 0.]\n",
      " [0. 1.]\n",
      " [1. 0.]\n",
      " [0. 1.]\n",
      " [0. 1.]\n",
      " [0. 1.]\n",
      " [0. 1.]\n",
      " [1. 0.]\n",
      " [0. 1.]\n",
      " [1. 0.]\n",
      " [1. 0.]\n",
      " [0. 1.]\n",
      " [0. 1.]\n",
      " [0. 1.]\n",
      " [0. 1.]\n",
      " [0. 1.]\n",
      " [0. 1.]\n",
      " [0. 1.]\n",
      " [0. 1.]\n",
      " [0. 1.]\n",
      " [1. 0.]\n",
      " [1. 0.]\n",
      " [0. 1.]\n",
      " [0. 1.]\n",
      " [0. 1.]\n",
      " [1. 0.]\n",
      " [0. 1.]\n",
      " [0. 1.]\n",
      " [0. 1.]\n",
      " [0. 1.]\n",
      " [0. 1.]\n",
      " [0. 1.]\n",
      " [0. 1.]\n",
      " [0. 1.]], shape=(222, 2), dtype=float32)\n"
     ]
    }
   ],
   "source": [
    "x_train = []\n",
    "\n",
    "for i in range(len(left_gaze_train)):\n",
    "    x_train.append(tf.convert_to_tensor([\n",
    "                                            np.hstack(\n",
    "                                                        (left_gaze_train[i], right_gaze_train[i], left_head_train[i], right_head_train[i])\n",
    "                                                     )\n",
    "                                            ], dtype=tf.float32))\n",
    "\n",
    "\n",
    "\n",
    "x_train = tf.convert_to_tensor(np.vstack(x_train), dtype=tf.float32)\n",
    "\n",
    "x_train = normalize(x_train, -5, 5)\n",
    "\n",
    "print(x_train)\n",
    "\n",
    "print(y_train)"
   ]
  },
  {
   "cell_type": "markdown",
   "metadata": {},
   "source": [
    "Train the model"
   ]
  },
  {
   "cell_type": "code",
   "execution_count": 385,
   "metadata": {},
   "outputs": [
    {
     "name": "stdout",
     "output_type": "stream",
     "text": [
      "Epoch 1/200\n"
     ]
    },
    {
     "name": "stderr",
     "output_type": "stream",
     "text": [
      "e:\\anaconda3\\lib\\site-packages\\keras\\optimizers\\optimizer_v2\\adam.py:114: UserWarning: The `lr` argument is deprecated, use `learning_rate` instead.\n",
      "  super().__init__(name, **kwargs)\n"
     ]
    },
    {
     "name": "stdout",
     "output_type": "stream",
     "text": [
      "4/4 [==============================] - 4s 260ms/step - loss: 1.1084 - accuracy: 0.5135\n",
      "Epoch 2/200\n",
      "4/4 [==============================] - 1s 257ms/step - loss: 0.6475 - accuracy: 0.8018\n",
      "Epoch 3/200\n",
      "4/4 [==============================] - 1s 259ms/step - loss: 0.6135 - accuracy: 0.8018\n",
      "Epoch 4/200\n",
      "4/4 [==============================] - 1s 259ms/step - loss: 0.5879 - accuracy: 0.8018\n",
      "Epoch 5/200\n",
      "4/4 [==============================] - 1s 278ms/step - loss: 0.5559 - accuracy: 0.8018\n",
      "Epoch 6/200\n",
      "4/4 [==============================] - 1s 264ms/step - loss: 0.5464 - accuracy: 0.8018\n",
      "Epoch 7/200\n",
      "4/4 [==============================] - 1s 314ms/step - loss: 0.5326 - accuracy: 0.8018\n",
      "Epoch 8/200\n",
      "4/4 [==============================] - 1s 291ms/step - loss: 0.5167 - accuracy: 0.8018\n",
      "Epoch 9/200\n",
      "4/4 [==============================] - 1s 287ms/step - loss: 0.5003 - accuracy: 0.8018\n",
      "Epoch 10/200\n",
      "4/4 [==============================] - 1s 285ms/step - loss: 0.5121 - accuracy: 0.8018\n",
      "Epoch 11/200\n",
      "4/4 [==============================] - 1s 275ms/step - loss: 0.5072 - accuracy: 0.8018\n",
      "Epoch 12/200\n",
      "4/4 [==============================] - 1s 282ms/step - loss: 0.5351 - accuracy: 0.8018\n"
     ]
    }
   ],
   "source": [
    "model = init_model()\n",
    "callbacks = [EarlyStopping(monitor='loss', patience=3), History()]\n",
    "# callbacks = [History()]\n",
    "history = model.fit(x_train, y_train, epochs=200, batch_size=64, callbacks=callbacks)"
   ]
  },
  {
   "cell_type": "code",
   "execution_count": 386,
   "metadata": {},
   "outputs": [
    {
     "name": "stdout",
     "output_type": "stream",
     "text": [
      "Model: \"sequential_18\"\n",
      "_________________________________________________________________\n",
      " Layer (type)                Output Shape              Param #   \n",
      "=================================================================\n",
      " conv1d_91 (Conv1D)          (None, 324, 96)           12768     \n",
      "                                                                 \n",
      " average_pooling1d_54 (Avera  (None, 162, 96)          0         \n",
      " gePooling1D)                                                    \n",
      "                                                                 \n",
      " conv1d_92 (Conv1D)          (None, 162, 256)          123136    \n",
      "                                                                 \n",
      " average_pooling1d_55 (Avera  (None, 80, 256)          0         \n",
      " gePooling1D)                                                    \n",
      "                                                                 \n",
      " conv1d_93 (Conv1D)          (None, 80, 384)           295296    \n",
      "                                                                 \n",
      " conv1d_94 (Conv1D)          (None, 80, 384)           442752    \n",
      "                                                                 \n",
      " conv1d_95 (Conv1D)          (None, 80, 256)           295168    \n",
      "                                                                 \n",
      " average_pooling1d_56 (Avera  (None, 39, 256)          0         \n",
      " gePooling1D)                                                    \n",
      "                                                                 \n",
      " lstm_18 (LSTM)              (None, 256)               525312    \n",
      "                                                                 \n",
      " flatten_18 (Flatten)        (None, 256)               0         \n",
      "                                                                 \n",
      " dense_54 (Dense)            (None, 8)                 2056      \n",
      "                                                                 \n",
      " dropout_36 (Dropout)        (None, 8)                 0         \n",
      "                                                                 \n",
      " dense_55 (Dense)            (None, 8)                 72        \n",
      "                                                                 \n",
      " dropout_37 (Dropout)        (None, 8)                 0         \n",
      "                                                                 \n",
      " dense_56 (Dense)            (None, 2)                 18        \n",
      "                                                                 \n",
      "=================================================================\n",
      "Total params: 1,696,578\n",
      "Trainable params: 1,696,578\n",
      "Non-trainable params: 0\n",
      "_________________________________________________________________\n"
     ]
    }
   ],
   "source": [
    "model.summary()"
   ]
  },
  {
   "cell_type": "markdown",
   "metadata": {},
   "source": [
    "Predict test set"
   ]
  },
  {
   "cell_type": "code",
   "execution_count": 387,
   "metadata": {},
   "outputs": [],
   "source": [
    "right_gaze_test = test[\"Right Gaze\"]\n",
    "left_gaze_test  = test[\"Left Gaze\"]\n",
    "right_head_test = test[\"Right HeadPose\"]\n",
    "left_head_test  = test[\"Left HeadPose\"]\n",
    "\n",
    "label_test = test['Label']\n",
    "\n",
    "right_gaze_test, left_gaze_test, right_head_test, left_head_test = parseData(right_gaze_test), parseData(left_gaze_test), parseData(right_head_test), parseData(left_head_test)"
   ]
  },
  {
   "cell_type": "code",
   "execution_count": 388,
   "metadata": {},
   "outputs": [],
   "source": [
    "left_head_test  = padData(left_head_test,  max_length)\n",
    "right_head_test = padData(right_head_test, max_length)\n",
    "left_gaze_test  = padData(left_gaze_test,  max_length)\n",
    "right_gaze_test = padData(right_gaze_test, max_length)"
   ]
  },
  {
   "cell_type": "code",
   "execution_count": 389,
   "metadata": {},
   "outputs": [
    {
     "name": "stdout",
     "output_type": "stream",
     "text": [
      "tf.Tensor(\n",
      "[[[ 51.537  30.285  59.777 ...  53.407   8.105  54.019]\n",
      "  [ 40.51   37.984  55.533 ...  48.782   6.237  49.179]\n",
      "  [ 26.477  32.743  42.108 ...  41.713  14.326  44.104]\n",
      "  ...\n",
      "  [  9.333  36.422  37.598 ...  32.341  15.118  35.7  ]\n",
      "  [ 32.112  34.174  46.894 ...  47.997  12.341  49.559]\n",
      "  [ 25.442  29.643  39.064 ...  41.91    9.913  43.066]]\n",
      "\n",
      " [[ 29.547  18.415  34.815 ...  44.61    5.529  44.951]\n",
      "  [ 28.973  18.207  34.219 ...  43.922   4.782  44.182]\n",
      "  [ 43.92   15.941  46.724 ...  48.461   1.124  48.474]\n",
      "  ...\n",
      "  [ 39.393   9.628  40.552 ...  41.659  -5.382  42.005]\n",
      "  [ 35.149  10.188  36.595 ...  47.753  -4.01   47.921]\n",
      "  [ 38.596   9.017  39.635 ...  49.893  -5.698  50.217]]\n",
      "\n",
      " [[-16.954  73.426 -75.358 ... -26.907  60.171 -65.913]\n",
      "  [-22.978  82.974 -86.096 ... -32.98   67.892 -75.478]\n",
      "  [-39.21   73.834 -83.599 ... -38.416  60.714 -71.847]\n",
      "  ...\n",
      "  [-30.736  50.905 -59.464 ... -21.113  18.457 -28.043]\n",
      "  [-56.668  55.566 -79.366 ... -48.625  30.22  -57.251]\n",
      "  [-43.283  75.013 -86.605 ... -38.629  52.051 -64.819]]\n",
      "\n",
      " ...\n",
      "\n",
      " [[-75.886  52.804 -92.45  ... -59.278  56.768 -82.076]\n",
      "  [-28.489  18.923 -34.201 ... -62.39   31.75  -70.004]\n",
      "  [-67.832  60.076 -90.611 ... -48.008  53.002 -71.512]\n",
      "  ...\n",
      "  [ 95.666  37.97  102.926 ...  76.421  16.969  78.283]\n",
      "  [ 98.496  37.782 105.494 ...  79.116  19.372  81.453]\n",
      "  [ 99.198  35.229 105.268 ...  78.935  17.407  80.831]]\n",
      "\n",
      " [[ 22.699  20.077  30.304 ...  16.915   1.273  16.963]\n",
      "  [ 25.617  26.691  36.996 ...  21.827   4.13   22.214]\n",
      "  [ 15.032  49.133  51.381 ...  18.456  13.119  22.644]\n",
      "  ...\n",
      "  [ 35.706  40.1    53.692 ...  29.415  13.214  32.246]\n",
      "  [ 35.487  40.901  54.15  ...  26.772  14.649  30.518]\n",
      "  [ 29.134  54.965  62.209 ...  25.383  14.763  29.364]]\n",
      "\n",
      " [[-31.794  32.968 -45.802 ...  50.764  18.04   53.874]\n",
      "  [ 52.965  32.011  61.887 ...  51.487  17.892  54.507]\n",
      "  [ 51.108  32.866  60.764 ...  48.697  18.769  52.189]\n",
      "  ...\n",
      "  [ 69.239  37.188  78.594 ...  67.27   21.967  70.766]\n",
      "  [ 68.114  33.358  75.843 ...  65.813  21.131  69.122]\n",
      "  [ 88.397  17.359  90.085 ...  85.485   9.684  86.031]]], shape=(107, 1294, 12), dtype=float32)\n"
     ]
    }
   ],
   "source": [
    "x_test = []\n",
    "\n",
    "for i in range(len(left_gaze_test)):\n",
    "    x_test.append(tf.convert_to_tensor([\n",
    "                                            np.hstack(\n",
    "                                                        (left_gaze_test[i], right_gaze_test[i], left_head_test[i], right_head_test[i])\n",
    "                                                     )\n",
    "                                            ], dtype=tf.float32))\n",
    "\n",
    "\n",
    "\n",
    "x_test = tf.convert_to_tensor(np.vstack(x_test), dtype=tf.float32)\n",
    "\n",
    "print(x_test)"
   ]
  },
  {
   "cell_type": "code",
   "execution_count": 390,
   "metadata": {},
   "outputs": [
    {
     "name": "stdout",
     "output_type": "stream",
     "text": [
      "4/4 [==============================] - 1s 43ms/step\n",
      "[1 1 1 1 1 1 1 1 1 1 1 1 1 1 1 1 1 1 1 1 1 1 1 1 1 1 1 1 1 1 1 1 1 1 1 1 1\n",
      " 1 1 1 1 1 1 1 1 1 1 1 1 1 1 1 1 1 1 1 1 1 1 1 1 1 1 1 1 1 1 1 1 1 1 1 1 1\n",
      " 1 1 1 1 1 1 1 1 1 1 1 1 1 1 1 1 1 1 1 1 1 1 1 1 1 1 1 1 1 1 1 1 1]\n",
      "[1 1 1 1 1 1 1 1 1 1 1 1 1 1 1 1 1 1 1 1 1 1 1 1 1 0 0 1 1 1 1 0 0 1 0 1 0\n",
      " 0 0 1 1 0 0 1 0 1 1 0 1 1 1 0 1 1 1 1 1 1 1 1 0 0 1 0 0 1 1 0 1 0 1 1 1 1\n",
      " 1 0 1 1 1 1 1 0 0 0 0 0 1 1 1 1 0 1 1 0 1 1 0 0 1 1 1 0 1 0 1 0 0]\n",
      "Accuracy on test set:  0.6915887850467289\n"
     ]
    }
   ],
   "source": [
    "predictions = model.predict(x_test)\n",
    "\n",
    "label_predictions = []\n",
    "\n",
    "# convert from category to label\n",
    "for prediction in predictions:\n",
    "    if prediction[0] > prediction[1]:\n",
    "        label_predictions.append(0)\n",
    "    else: label_predictions.append(1)\n",
    "    \n",
    "label_predictions = np.array(label_predictions)\n",
    "label_test = np.array(label_test)\n",
    "\n",
    "print(label_predictions)\n",
    "print(label_test)\n",
    "\n",
    "# calc acc\n",
    "true_count = 0\n",
    "for idx, label in enumerate(label_predictions):\n",
    "    if label == label_test[idx]:\n",
    "        true_count += 1\n",
    "        \n",
    "print(\"Accuracy on test set: \", true_count/(len(label_test)))"
   ]
  },
  {
   "cell_type": "code",
   "execution_count": 391,
   "metadata": {},
   "outputs": [
    {
     "name": "stdout",
     "output_type": "stream",
     "text": [
      "dict_keys(['loss', 'accuracy'])\n"
     ]
    }
   ],
   "source": [
    "print(history.history.keys())"
   ]
  },
  {
   "cell_type": "code",
   "execution_count": 392,
   "metadata": {},
   "outputs": [],
   "source": [
    "import os\n",
    "os.environ['KMP_DUPLICATE_LIB_OK'] = 'TRUE'"
   ]
  },
  {
   "cell_type": "markdown",
   "metadata": {},
   "source": [
    "plot the loss and acc from training process"
   ]
  },
  {
   "cell_type": "code",
   "execution_count": 393,
   "metadata": {},
   "outputs": [
    {
     "data": {
      "image/png": "[encoded data removed]",
      "text/plain": [
       "<Figure size 640x480 with 1 Axes>"
      ]
     },
     "metadata": {},
     "output_type": "display_data"
    },
    {
     "data": {
      "image/png": "[encoded data removed]",
      "text/plain": [
       "<Figure size 640x480 with 1 Axes>"
      ]
     },
     "metadata": {},
     "output_type": "display_data"
    }
   ],
   "source": [
    "from matplotlib import pyplot as plt\n",
    "# Plot accuracy\n",
    "plt.plot(history.history['accuracy'])\n",
    "plt.title('Model Accuracy')\n",
    "plt.xlabel('Epoch')\n",
    "plt.ylabel('Accuracy')\n",
    "plt.show()\n",
    "\n",
    "# Plot loss\n",
    "plt.plot(history.history['loss'])\n",
    "plt.title('Model Loss')\n",
    "plt.xlabel('Epoch')\n",
    "plt.ylabel('Loss')\n",
    "plt.show()\n"
   ]
  },
  {
   "cell_type": "code",
   "execution_count": 394,
   "metadata": {},
   "outputs": [],
   "source": [
    "model.save('GP043.keras')"
   ]
  }
 ],
 "metadata": {
  "kernelspec": {
   "display_name": "tf",
   "language": "python",
   "name": "python3"
  },
  "language_info": {
   "codemirror_mode": {
    "name": "ipython",
    "version": 3
   },
   "file_extension": ".py",
   "mimetype": "text/x-python",
   "name": "python",
   "nbconvert_exporter": "python",
   "pygments_lexer": "ipython3",
   "version": "3.10.9"
  }
 },
 "nbformat": 4,
 "nbformat_minor": 2
}
