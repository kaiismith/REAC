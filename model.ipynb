{
 "cells": [
  {
   "cell_type": "code",
   "execution_count": 1,
   "metadata": {},
   "outputs": [],
   "source": [
    "import pandas as pd\n",
    "import numpy  as np"
   ]
  },
  {
   "cell_type": "markdown",
   "metadata": {},
   "source": [
    "import data file"
   ]
  },
  {
   "cell_type": "code",
   "execution_count": 2,
   "metadata": {},
   "outputs": [
    {
     "data": {
      "text/html": [
       "<div>\n",
       "<style scoped>\n",
       "    .dataframe tbody tr th:only-of-type {\n",
       "        vertical-align: middle;\n",
       "    }\n",
       "\n",
       "    .dataframe tbody tr th {\n",
       "        vertical-align: top;\n",
       "    }\n",
       "\n",
       "    .dataframe thead th {\n",
       "        text-align: right;\n",
       "    }\n",
       "</style>\n",
       "<table border=\"1\" class=\"dataframe\">\n",
       "  <thead>\n",
       "    <tr style=\"text-align: right;\">\n",
       "      <th></th>\n",
       "      <th>Label</th>\n",
       "    </tr>\n",
       "  </thead>\n",
       "  <tbody>\n",
       "    <tr>\n",
       "      <th>count</th>\n",
       "      <td>329.000000</td>\n",
       "    </tr>\n",
       "    <tr>\n",
       "      <th>mean</th>\n",
       "      <td>0.589666</td>\n",
       "    </tr>\n",
       "    <tr>\n",
       "      <th>std</th>\n",
       "      <td>0.492644</td>\n",
       "    </tr>\n",
       "    <tr>\n",
       "      <th>min</th>\n",
       "      <td>0.000000</td>\n",
       "    </tr>\n",
       "    <tr>\n",
       "      <th>25%</th>\n",
       "      <td>0.000000</td>\n",
       "    </tr>\n",
       "    <tr>\n",
       "      <th>50%</th>\n",
       "      <td>1.000000</td>\n",
       "    </tr>\n",
       "    <tr>\n",
       "      <th>75%</th>\n",
       "      <td>1.000000</td>\n",
       "    </tr>\n",
       "    <tr>\n",
       "      <th>max</th>\n",
       "      <td>1.000000</td>\n",
       "    </tr>\n",
       "  </tbody>\n",
       "</table>\n",
       "</div>"
      ],
      "text/plain": [
       "            Label\n",
       "count  329.000000\n",
       "mean     0.589666\n",
       "std      0.492644\n",
       "min      0.000000\n",
       "25%      0.000000\n",
       "50%      1.000000\n",
       "75%      1.000000\n",
       "max      1.000000"
      ]
     },
     "execution_count": 2,
     "metadata": {},
     "output_type": "execute_result"
    }
   ],
   "source": [
    "df = pd.read_csv('data_new.csv')\n",
    "df.describe()"
   ]
  },
  {
   "cell_type": "markdown",
   "metadata": {},
   "source": [
    "split data"
   ]
  },
  {
   "cell_type": "code",
   "execution_count": 3,
   "metadata": {},
   "outputs": [
    {
     "name": "stdout",
     "output_type": "stream",
     "text": [
      "Non-cheat:  135\n",
      "Cheat:  194\n",
      "(222, 107)\n"
     ]
    }
   ],
   "source": [
    "print(\"Non-cheat: \", len(df[df['Label']==0]))\n",
    "print(\"Cheat: \", len(df[df['Label']==1]))\n",
    "\n",
    "# diff = abs(len(df[df['Label']==0]) - len(df[df['Label']==1]))\n",
    "\n",
    "grouped = df.groupby(df.Label)\n",
    "df1 = grouped.get_group(1)\n",
    "df2 = grouped.get_group(0)\n",
    "\n",
    "df2_1 = df.iloc[:135,:]\n",
    "df2_2 = df.iloc[135:194,:]\n",
    "\n",
    "df1_train = df1.iloc[:111,:]\n",
    "df2_train = df2_1.iloc[:111,:]\n",
    "\n",
    "df1_test = df1.iloc[111:135,:]\n",
    "df2_test = df2_1.iloc[111:135,:]\n",
    "\n",
    "train = pd.concat([df1_train, df2_train])\n",
    "test  = pd.concat([df1_test, df2_test, df2_2])\n",
    "\n",
    "print((len(train), len(test)))"
   ]
  },
  {
   "cell_type": "markdown",
   "metadata": {},
   "source": [
    "parse data from string to numpy array"
   ]
  },
  {
   "cell_type": "code",
   "execution_count": 4,
   "metadata": {},
   "outputs": [],
   "source": [
    "def parseData(series):\n",
    "    final_series = []\n",
    "    for ser in series:\n",
    "        temp = []\n",
    "        for x in \"[],\":\n",
    "            ser = ser.replace(x, \"\")\n",
    "        new_ser  = np.fromstring(ser, dtype=float, sep=\" \")\n",
    "        for i in range(0, len(new_ser), 3):\n",
    "            chunk = [new_ser[i], new_ser[i + 1], new_ser[i + 2]]\n",
    "            temp.append(chunk)\n",
    "        final_series.append(temp)\n",
    "    return np.array(final_series, dtype=object)"
   ]
  },
  {
   "cell_type": "markdown",
   "metadata": {},
   "source": [
    "get the longest sequence of vector in dataset"
   ]
  },
  {
   "cell_type": "code",
   "execution_count": 5,
   "metadata": {},
   "outputs": [
    {
     "data": {
      "text/plain": [
       "1294"
      ]
     },
     "execution_count": 5,
     "metadata": {},
     "output_type": "execute_result"
    }
   ],
   "source": [
    "max_length = 0\n",
    "for lgaze in parseData(df['Left Gaze']):\n",
    "    if len(lgaze) > max_length:\n",
    "        max_length = len(lgaze)\n",
    "        \n",
    "max_length"
   ]
  },
  {
   "cell_type": "markdown",
   "metadata": {},
   "source": [
    "pad the dataset to the longest sequence size"
   ]
  },
  {
   "cell_type": "code",
   "execution_count": 6,
   "metadata": {},
   "outputs": [],
   "source": [
    "import math\n",
    "\n",
    "def padData(series, length):\n",
    "    for idx, ser in enumerate(series):\n",
    "        times = math.floor(length / len(ser))\n",
    "        add = length % len(ser)\n",
    "        \n",
    "        temp = ser[::-1]\n",
    "        for _ in range(1, times):\n",
    "            series[idx] = np.append(series[idx], temp, axis=0)\n",
    "            temp = temp[::-1]\n",
    "        if add != 0:\n",
    "            series[idx] = np.append(series[idx], temp[0:add], axis=0)\n",
    "    return series"
   ]
  },
  {
   "cell_type": "markdown",
   "metadata": {},
   "source": [
    "(AlexNet_1D)Conv1D -> AveragePooling1D -> Conv1D -> AveragePooling1D -> Conv1D -> Conv1D -> Conv1D -> AveragePooling1D -> LSTM -> Dense -> Dropout -> Dense"
   ]
  },
  {
   "cell_type": "code",
   "execution_count": 7,
   "metadata": {},
   "outputs": [],
   "source": [
    "from tensorflow.keras.models import Sequential\n",
    "from tensorflow.keras.layers import Conv1D, Flatten, Dense, AveragePooling1D, MaxPooling1D, LSTM, Dropout\n",
    "from tensorflow.keras import optimizers\n",
    "from tensorflow.keras.callbacks import EarlyStopping, History\n",
    "\n",
    "import tensorflow as tf\n",
    "\n",
    "def init_model():\n",
    "    model = Sequential()\n",
    "    model.add(Conv1D(filters=12, kernel_size=3, padding=\"same\", activation='relu', input_shape=(max_length, 12)))\n",
    "    model.add(AveragePooling1D(pool_size=2))\n",
    "    model.add(Conv1D(filters=12, kernel_size=3, padding=\"same\", activation='relu', input_shape=(max_length, 12)))\n",
    "    model.add(AveragePooling1D(pool_size=2))\n",
    "    model.add(Conv1D(filters=12, kernel_size=3, padding=\"same\", activation='relu', input_shape=(max_length, 12)))\n",
    "    model.add(Conv1D(filters=12, kernel_size=3, padding=\"same\", activation='relu', input_shape=(max_length, 12)))\n",
    "    model.add(Conv1D(filters=12, kernel_size=3, padding=\"same\", activation='relu', input_shape=(max_length, 12)))\n",
    "    model.add(AveragePooling1D(pool_size=2))\n",
    "    \n",
    "    model.add(LSTM(12))\n",
    "    \n",
    "    adam = optimizers.legacy.Adam(lr=0.001, beta_1=0, beta_2=0, epsilon=None, decay=0.0)\n",
    "    \n",
    "    model.add(Flatten())\n",
    "    model.add(Dense(2, activation = 'softmax')) # We have only 2 classes: Non-cheat & Cheat\n",
    "    model.add(Dropout(0.5))\n",
    "    model.add(Dense(2, activation = 'softmax'))\n",
    "    model.compile(optimizer= adam, loss='categorical_crossentropy',\n",
    "                  metrics=['accuracy'])\n",
    "    \n",
    "    return model\n"
   ]
  },
  {
   "cell_type": "code",
   "execution_count": 8,
   "metadata": {},
   "outputs": [],
   "source": [
    "right_gaze_train = train[\"Right Gaze\"]\n",
    "left_gaze_train  = train[\"Left Gaze\"]\n",
    "right_head_train = train[\"Right HeadPose\"]\n",
    "left_head_train  = train[\"Left HeadPose\"]\n",
    "\n",
    "label_train = train['Label']\n",
    "\n",
    "right_gaze_train, left_gaze_train, right_head_train, left_head_train = parseData(right_gaze_train), parseData(left_gaze_train), parseData(right_head_train), parseData(left_head_train)"
   ]
  },
  {
   "cell_type": "markdown",
   "metadata": {},
   "source": [
    "initialize new data frame"
   ]
  },
  {
   "cell_type": "code",
   "execution_count": 9,
   "metadata": {},
   "outputs": [],
   "source": [
    "left_head_train  = padData(left_head_train,  max_length)\n",
    "right_head_train = padData(right_head_train, max_length)\n",
    "left_gaze_train  = padData(left_gaze_train,  max_length)\n",
    "right_gaze_train = padData(right_gaze_train, max_length)"
   ]
  },
  {
   "cell_type": "code",
   "execution_count": 10,
   "metadata": {},
   "outputs": [],
   "source": [
    "label_train = np.array(label_train)"
   ]
  },
  {
   "cell_type": "code",
   "execution_count": 11,
   "metadata": {},
   "outputs": [],
   "source": [
    "y_train = []\n",
    "for i in range(len(label_train)):\n",
    "    y_train.append(\n",
    "        tf.convert_to_tensor(\n",
    "            np.reshape(tf.keras.utils.to_categorical(label_train[i], num_classes=2), (1, 2))                 \n",
    "                            )\n",
    "             )\n",
    "    \n",
    "y_train = tf.convert_to_tensor(np.vstack(y_train), dtype=tf.float32)"
   ]
  },
  {
   "cell_type": "code",
   "execution_count": 12,
   "metadata": {},
   "outputs": [
    {
     "name": "stdout",
     "output_type": "stream",
     "text": [
      "tf.Tensor(\n",
      "[[[  8.705  28.278  29.588 ...   1.558   2.732   3.145]\n",
      "  [ -0.833  30.56  -30.571 ... -10.108   5.971 -11.741]\n",
      "  [ -3.198  34.952 -35.098 ... -10.394   8.097 -13.176]\n",
      "  ...\n",
      "  [ -9.057  41.776 -42.746 ... -13.675  13.786 -19.418]\n",
      "  [-16.372  28.36  -32.746 ... -12.991   8.778 -15.678]\n",
      "  [-19.187  29.768 -35.416 ... -14.631   9.291 -17.332]]\n",
      "\n",
      " [[ 22.966  10.843  25.397 ...  30.359  -4.118  30.637]\n",
      "  [  5.671  15.266  16.285 ...  18.896  -1.472  18.953]\n",
      "  [  3.35   10.455  10.978 ...  -1.709   5.526  -5.784]\n",
      "  ...\n",
      "  [ -1.252  12.933 -12.994 ...   6.863   0.745   6.903]\n",
      "  [ -3.019  14.169 -14.487 ...   9.237   2.032   9.458]\n",
      "  [  7.474   5.718   9.41  ...   2.513   7.471   7.882]]\n",
      "\n",
      " [[ 27.556  25.147  37.306 ...  17.437  34.229  38.415]\n",
      "  [ 20.462  44.667  49.131 ...   2.079  50.654  50.697]\n",
      "  [ 15.712  58.805  60.868 ...  -3.587  62.252 -62.355]\n",
      "  ...\n",
      "  [ -0.803  48.756 -48.762 ... -18.131  46.641 -50.041]\n",
      "  [ -0.776  49.995 -50.001 ... -18.296  47.122 -50.549]\n",
      "  [ -4.184  49.268 -49.446 ... -22.029  47.727 -52.566]]\n",
      "\n",
      " ...\n",
      "\n",
      " [[ 33.411   6.513  34.04  ...  35.778  -0.42   35.78 ]\n",
      "  [ 31.386   7.936  32.373 ...  34.783  -3.517  34.961]\n",
      "  [ 34.453  15.464  37.764 ...  33.406  -2.25   33.482]\n",
      "  ...\n",
      "  [-62.616  12.79  -63.909 ... -43.404  12.283 -45.108]\n",
      "  [-47.247  16.967 -50.201 ... -28.521  13.67  -31.628]\n",
      "  [-15.391  18.464 -24.038 ...   1.371  10.769  10.856]]\n",
      "\n",
      " [[ 50.155  27.494  57.196 ...  62.483  13.142  63.85 ]\n",
      "  [-52.413  37.186 -64.265 ... -42.775   1.078 -42.788]\n",
      "  [-82.336 -12.668 -83.305 ... -70.229 -17.456 -72.366]\n",
      "  ...\n",
      "  [ 13.669  12.116  18.266 ...  26.079 -14.796  29.984]\n",
      "  [-83.433 -16.047 -84.962 ... -77.766 -20.124 -80.328]\n",
      "  [-82.336 -12.668 -83.305 ... -70.229 -17.456 -72.366]]\n",
      "\n",
      " [[ -8.767  30.898 -32.117 ...   1.424  16.381  16.443]\n",
      "  [-20.525  30.309 -36.605 ... -15.89   15.346 -22.09 ]\n",
      "  [-17.102  30.004 -34.536 ... -15.979  14.517 -21.589]\n",
      "  ...\n",
      "  [ -8.767  30.898 -32.117 ...   1.424  16.381  16.443]\n",
      "  [ -8.767  30.898 -32.117 ...   1.424  16.381  16.443]\n",
      "  [-20.525  30.309 -36.605 ... -15.89   15.346 -22.09 ]]], shape=(222, 1294, 12), dtype=float32)\n",
      "tf.Tensor(\n",
      "[[0. 1.]\n",
      " [0. 1.]\n",
      " [0. 1.]\n",
      " [0. 1.]\n",
      " [0. 1.]\n",
      " [0. 1.]\n",
      " [0. 1.]\n",
      " [0. 1.]\n",
      " [0. 1.]\n",
      " [0. 1.]\n",
      " [0. 1.]\n",
      " [0. 1.]\n",
      " [0. 1.]\n",
      " [0. 1.]\n",
      " [0. 1.]\n",
      " [0. 1.]\n",
      " [0. 1.]\n",
      " [0. 1.]\n",
      " [0. 1.]\n",
      " [0. 1.]\n",
      " [0. 1.]\n",
      " [0. 1.]\n",
      " [0. 1.]\n",
      " [0. 1.]\n",
      " [0. 1.]\n",
      " [0. 1.]\n",
      " [0. 1.]\n",
      " [0. 1.]\n",
      " [0. 1.]\n",
      " [0. 1.]\n",
      " [0. 1.]\n",
      " [0. 1.]\n",
      " [0. 1.]\n",
      " [0. 1.]\n",
      " [0. 1.]\n",
      " [0. 1.]\n",
      " [0. 1.]\n",
      " [0. 1.]\n",
      " [0. 1.]\n",
      " [0. 1.]\n",
      " [0. 1.]\n",
      " [0. 1.]\n",
      " [0. 1.]\n",
      " [0. 1.]\n",
      " [0. 1.]\n",
      " [0. 1.]\n",
      " [0. 1.]\n",
      " [0. 1.]\n",
      " [0. 1.]\n",
      " [0. 1.]\n",
      " [0. 1.]\n",
      " [0. 1.]\n",
      " [0. 1.]\n",
      " [0. 1.]\n",
      " [0. 1.]\n",
      " [0. 1.]\n",
      " [0. 1.]\n",
      " [0. 1.]\n",
      " [0. 1.]\n",
      " [0. 1.]\n",
      " [0. 1.]\n",
      " [0. 1.]\n",
      " [0. 1.]\n",
      " [0. 1.]\n",
      " [0. 1.]\n",
      " [0. 1.]\n",
      " [0. 1.]\n",
      " [0. 1.]\n",
      " [0. 1.]\n",
      " [0. 1.]\n",
      " [0. 1.]\n",
      " [0. 1.]\n",
      " [0. 1.]\n",
      " [0. 1.]\n",
      " [0. 1.]\n",
      " [0. 1.]\n",
      " [0. 1.]\n",
      " [0. 1.]\n",
      " [0. 1.]\n",
      " [0. 1.]\n",
      " [0. 1.]\n",
      " [0. 1.]\n",
      " [0. 1.]\n",
      " [0. 1.]\n",
      " [0. 1.]\n",
      " [0. 1.]\n",
      " [0. 1.]\n",
      " [0. 1.]\n",
      " [0. 1.]\n",
      " [0. 1.]\n",
      " [0. 1.]\n",
      " [0. 1.]\n",
      " [0. 1.]\n",
      " [0. 1.]\n",
      " [0. 1.]\n",
      " [0. 1.]\n",
      " [0. 1.]\n",
      " [0. 1.]\n",
      " [0. 1.]\n",
      " [0. 1.]\n",
      " [0. 1.]\n",
      " [0. 1.]\n",
      " [0. 1.]\n",
      " [0. 1.]\n",
      " [0. 1.]\n",
      " [0. 1.]\n",
      " [0. 1.]\n",
      " [0. 1.]\n",
      " [0. 1.]\n",
      " [0. 1.]\n",
      " [0. 1.]\n",
      " [1. 0.]\n",
      " [0. 1.]\n",
      " [0. 1.]\n",
      " [1. 0.]\n",
      " [0. 1.]\n",
      " [1. 0.]\n",
      " [1. 0.]\n",
      " [0. 1.]\n",
      " [0. 1.]\n",
      " [0. 1.]\n",
      " [0. 1.]\n",
      " [0. 1.]\n",
      " [1. 0.]\n",
      " [0. 1.]\n",
      " [0. 1.]\n",
      " [1. 0.]\n",
      " [1. 0.]\n",
      " [1. 0.]\n",
      " [0. 1.]\n",
      " [0. 1.]\n",
      " [1. 0.]\n",
      " [1. 0.]\n",
      " [0. 1.]\n",
      " [1. 0.]\n",
      " [0. 1.]\n",
      " [1. 0.]\n",
      " [1. 0.]\n",
      " [0. 1.]\n",
      " [1. 0.]\n",
      " [0. 1.]\n",
      " [0. 1.]\n",
      " [0. 1.]\n",
      " [1. 0.]\n",
      " [1. 0.]\n",
      " [1. 0.]\n",
      " [0. 1.]\n",
      " [0. 1.]\n",
      " [0. 1.]\n",
      " [0. 1.]\n",
      " [1. 0.]\n",
      " [1. 0.]\n",
      " [0. 1.]\n",
      " [0. 1.]\n",
      " [0. 1.]\n",
      " [1. 0.]\n",
      " [1. 0.]\n",
      " [0. 1.]\n",
      " [0. 1.]\n",
      " [1. 0.]\n",
      " [1. 0.]\n",
      " [0. 1.]\n",
      " [1. 0.]\n",
      " [0. 1.]\n",
      " [1. 0.]\n",
      " [1. 0.]\n",
      " [0. 1.]\n",
      " [0. 1.]\n",
      " [1. 0.]\n",
      " [1. 0.]\n",
      " [0. 1.]\n",
      " [1. 0.]\n",
      " [0. 1.]\n",
      " [0. 1.]\n",
      " [1. 0.]\n",
      " [1. 0.]\n",
      " [1. 0.]\n",
      " [0. 1.]\n",
      " [0. 1.]\n",
      " [0. 1.]\n",
      " [1. 0.]\n",
      " [0. 1.]\n",
      " [1. 0.]\n",
      " [0. 1.]\n",
      " [1. 0.]\n",
      " [0. 1.]\n",
      " [0. 1.]\n",
      " [1. 0.]\n",
      " [1. 0.]\n",
      " [0. 1.]\n",
      " [1. 0.]\n",
      " [0. 1.]\n",
      " [0. 1.]\n",
      " [0. 1.]\n",
      " [0. 1.]\n",
      " [1. 0.]\n",
      " [0. 1.]\n",
      " [1. 0.]\n",
      " [1. 0.]\n",
      " [0. 1.]\n",
      " [0. 1.]\n",
      " [0. 1.]\n",
      " [0. 1.]\n",
      " [0. 1.]\n",
      " [0. 1.]\n",
      " [0. 1.]\n",
      " [0. 1.]\n",
      " [0. 1.]\n",
      " [1. 0.]\n",
      " [1. 0.]\n",
      " [0. 1.]\n",
      " [0. 1.]\n",
      " [0. 1.]\n",
      " [1. 0.]\n",
      " [0. 1.]\n",
      " [0. 1.]\n",
      " [0. 1.]\n",
      " [0. 1.]\n",
      " [0. 1.]\n",
      " [0. 1.]\n",
      " [0. 1.]\n",
      " [0. 1.]], shape=(222, 2), dtype=float32)\n"
     ]
    }
   ],
   "source": [
    "x_train = []\n",
    "\n",
    "for i in range(len(left_gaze_train)):\n",
    "    x_train.append(tf.convert_to_tensor([\n",
    "                                            np.hstack(\n",
    "                                                        (left_gaze_train[i], right_gaze_train[i], left_head_train[i], right_head_train[i])\n",
    "                                                     )\n",
    "                                            ], dtype=tf.float32))\n",
    "\n",
    "\n",
    "\n",
    "x_train = tf.convert_to_tensor(np.vstack(x_train), dtype=tf.float32)\n",
    "\n",
    "print(x_train)\n",
    "\n",
    "print(y_train)"
   ]
  },
  {
   "cell_type": "markdown",
   "metadata": {},
   "source": [
    "Train the model"
   ]
  },
  {
   "cell_type": "code",
   "execution_count": 13,
   "metadata": {
    "scrolled": false
   },
   "outputs": [
    {
     "name": "stdout",
     "output_type": "stream",
     "text": [
      "Epoch 1/100\n"
     ]
    },
    {
     "name": "stderr",
     "output_type": "stream",
     "text": [
      "C:\\conda\\Lib\\site-packages\\keras\\src\\optimizers\\legacy\\adam.py:118: UserWarning: The `lr` argument is deprecated, use `learning_rate` instead.\n",
      "  super().__init__(name, **kwargs)\n"
     ]
    },
    {
     "name": "stdout",
     "output_type": "stream",
     "text": [
      "2/2 [==============================] - 2s 73ms/step - loss: 0.9008 - accuracy: 0.2207\n",
      "Epoch 2/100\n",
      "2/2 [==============================] - 0s 76ms/step - loss: 0.8409 - accuracy: 0.3739\n",
      "Epoch 3/100\n",
      "2/2 [==============================] - 0s 70ms/step - loss: 0.8094 - accuracy: 0.3559\n",
      "Epoch 4/100\n",
      "2/2 [==============================] - 0s 76ms/step - loss: 0.7686 - accuracy: 0.3874\n",
      "Epoch 5/100\n",
      "2/2 [==============================] - 0s 77ms/step - loss: 0.7701 - accuracy: 0.3468\n",
      "Epoch 6/100\n",
      "2/2 [==============================] - 0s 74ms/step - loss: 0.7608 - accuracy: 0.4459\n",
      "Epoch 7/100\n",
      "2/2 [==============================] - 0s 74ms/step - loss: 0.7474 - accuracy: 0.4550\n",
      "Epoch 8/100\n",
      "2/2 [==============================] - 0s 74ms/step - loss: 0.7253 - accuracy: 0.5405\n",
      "Epoch 9/100\n",
      "2/2 [==============================] - 0s 73ms/step - loss: 0.7199 - accuracy: 0.5225\n",
      "Epoch 10/100\n",
      "2/2 [==============================] - 0s 77ms/step - loss: 0.7123 - accuracy: 0.5135\n",
      "Epoch 11/100\n",
      "2/2 [==============================] - 0s 70ms/step - loss: 0.7053 - accuracy: 0.4910\n",
      "Epoch 12/100\n",
      "2/2 [==============================] - 0s 73ms/step - loss: 0.6934 - accuracy: 0.5315\n",
      "Epoch 13/100\n",
      "2/2 [==============================] - 0s 78ms/step - loss: 0.6901 - accuracy: 0.5270\n",
      "Epoch 14/100\n",
      "2/2 [==============================] - 0s 76ms/step - loss: 0.6846 - accuracy: 0.6396\n",
      "Epoch 15/100\n",
      "2/2 [==============================] - 0s 69ms/step - loss: 0.6792 - accuracy: 0.6802\n",
      "Epoch 16/100\n",
      "2/2 [==============================] - 0s 70ms/step - loss: 0.6751 - accuracy: 0.7432\n",
      "Epoch 17/100\n",
      "2/2 [==============================] - 0s 70ms/step - loss: 0.6732 - accuracy: 0.7883\n",
      "Epoch 18/100\n",
      "2/2 [==============================] - 0s 69ms/step - loss: 0.6711 - accuracy: 0.7928\n",
      "Epoch 19/100\n",
      "2/2 [==============================] - 0s 68ms/step - loss: 0.6689 - accuracy: 0.8018\n",
      "Epoch 20/100\n",
      "2/2 [==============================] - 0s 69ms/step - loss: 0.6651 - accuracy: 0.8018\n",
      "Epoch 21/100\n",
      "2/2 [==============================] - 0s 68ms/step - loss: 0.6611 - accuracy: 0.8018\n",
      "Epoch 22/100\n",
      "2/2 [==============================] - 0s 68ms/step - loss: 0.6590 - accuracy: 0.8018\n",
      "Epoch 23/100\n",
      "2/2 [==============================] - 0s 67ms/step - loss: 0.6613 - accuracy: 0.7703\n",
      "Epoch 24/100\n",
      "2/2 [==============================] - 0s 76ms/step - loss: 0.6584 - accuracy: 0.7838\n",
      "Epoch 25/100\n",
      "2/2 [==============================] - 0s 74ms/step - loss: 0.6493 - accuracy: 0.8018\n",
      "Epoch 26/100\n",
      "2/2 [==============================] - 0s 76ms/step - loss: 0.6485 - accuracy: 0.8018\n",
      "Epoch 27/100\n",
      "2/2 [==============================] - 0s 76ms/step - loss: 0.6494 - accuracy: 0.8018\n",
      "Epoch 28/100\n",
      "2/2 [==============================] - 0s 70ms/step - loss: 0.6452 - accuracy: 0.8018\n",
      "Epoch 29/100\n",
      "2/2 [==============================] - 0s 69ms/step - loss: 0.6452 - accuracy: 0.8018\n",
      "Epoch 30/100\n",
      "2/2 [==============================] - 0s 79ms/step - loss: 0.6410 - accuracy: 0.8018\n",
      "Epoch 31/100\n",
      "2/2 [==============================] - 0s 72ms/step - loss: 0.6358 - accuracy: 0.8018\n",
      "Epoch 32/100\n",
      "2/2 [==============================] - 0s 74ms/step - loss: 0.6389 - accuracy: 0.8018\n",
      "Epoch 33/100\n",
      "2/2 [==============================] - 0s 72ms/step - loss: 0.6323 - accuracy: 0.8018\n",
      "Epoch 34/100\n",
      "2/2 [==============================] - 0s 69ms/step - loss: 0.6286 - accuracy: 0.8018\n",
      "Epoch 35/100\n",
      "2/2 [==============================] - 0s 79ms/step - loss: 0.6332 - accuracy: 0.8018\n",
      "Epoch 36/100\n",
      "2/2 [==============================] - 0s 74ms/step - loss: 0.6336 - accuracy: 0.8018\n",
      "Epoch 37/100\n",
      "2/2 [==============================] - 0s 68ms/step - loss: 0.6260 - accuracy: 0.8018\n",
      "Epoch 38/100\n",
      "2/2 [==============================] - 0s 69ms/step - loss: 0.6258 - accuracy: 0.8018\n",
      "Epoch 39/100\n",
      "2/2 [==============================] - 0s 68ms/step - loss: 0.6302 - accuracy: 0.8018\n",
      "Epoch 40/100\n",
      "2/2 [==============================] - 0s 78ms/step - loss: 0.6239 - accuracy: 0.8018\n",
      "Epoch 41/100\n",
      "2/2 [==============================] - 0s 71ms/step - loss: 0.6271 - accuracy: 0.8018\n",
      "Epoch 42/100\n",
      "2/2 [==============================] - 0s 69ms/step - loss: 0.6205 - accuracy: 0.8018\n",
      "Epoch 43/100\n",
      "2/2 [==============================] - 0s 69ms/step - loss: 0.6206 - accuracy: 0.8018\n",
      "Epoch 44/100\n",
      "2/2 [==============================] - 0s 71ms/step - loss: 0.6101 - accuracy: 0.8018\n",
      "Epoch 45/100\n",
      "2/2 [==============================] - 0s 69ms/step - loss: 0.6102 - accuracy: 0.8018\n",
      "Epoch 46/100\n",
      "2/2 [==============================] - 0s 71ms/step - loss: 0.6065 - accuracy: 0.8018\n",
      "Epoch 47/100\n",
      "2/2 [==============================] - 0s 75ms/step - loss: 0.6136 - accuracy: 0.8018\n",
      "Epoch 48/100\n",
      "2/2 [==============================] - 0s 70ms/step - loss: 0.6069 - accuracy: 0.8018\n",
      "Epoch 49/100\n",
      "2/2 [==============================] - 0s 69ms/step - loss: 0.6031 - accuracy: 0.8018\n",
      "Epoch 50/100\n",
      "2/2 [==============================] - 0s 71ms/step - loss: 0.6024 - accuracy: 0.8018\n",
      "Epoch 51/100\n",
      "2/2 [==============================] - 0s 68ms/step - loss: 0.6048 - accuracy: 0.8018\n",
      "Epoch 52/100\n",
      "2/2 [==============================] - 0s 68ms/step - loss: 0.5978 - accuracy: 0.8018\n",
      "Epoch 53/100\n",
      "2/2 [==============================] - 0s 68ms/step - loss: 0.5982 - accuracy: 0.8018\n",
      "Epoch 54/100\n",
      "2/2 [==============================] - 0s 68ms/step - loss: 0.5953 - accuracy: 0.8018\n",
      "Epoch 55/100\n",
      "2/2 [==============================] - 0s 70ms/step - loss: 0.6025 - accuracy: 0.8018\n",
      "Epoch 56/100\n",
      "2/2 [==============================] - 0s 76ms/step - loss: 0.5890 - accuracy: 0.8018\n",
      "Epoch 57/100\n",
      "2/2 [==============================] - 0s 72ms/step - loss: 0.6039 - accuracy: 0.8018\n",
      "Epoch 58/100\n",
      "2/2 [==============================] - 0s 70ms/step - loss: 0.5953 - accuracy: 0.8018\n",
      "Epoch 59/100\n",
      "2/2 [==============================] - 0s 75ms/step - loss: 0.5990 - accuracy: 0.8018\n"
     ]
    }
   ],
   "source": [
    "model = init_model()\n",
    "callbacks = [EarlyStopping(monitor='loss', patience=3), History()]\n",
    "history = model.fit(x_train, y_train, epochs=100, batch_size=128, callbacks=callbacks)"
   ]
  },
  {
   "cell_type": "code",
   "execution_count": 14,
   "metadata": {},
   "outputs": [
    {
     "name": "stdout",
     "output_type": "stream",
     "text": [
      "(None, 1294, 12)\n",
      "(None, 647, 12)\n",
      "(None, 647, 12)\n",
      "(None, 323, 12)\n",
      "(None, 323, 12)\n",
      "(None, 323, 12)\n",
      "(None, 323, 12)\n",
      "(None, 161, 12)\n",
      "(None, 12)\n",
      "(None, 12)\n",
      "(None, 2)\n",
      "(None, 2)\n",
      "(None, 2)\n"
     ]
    }
   ],
   "source": [
    "for layer in model.layers:\n",
    "    print(layer.output_shape)"
   ]
  },
  {
   "cell_type": "markdown",
   "metadata": {},
   "source": [
    "Predict test set"
   ]
  },
  {
   "cell_type": "code",
   "execution_count": 15,
   "metadata": {},
   "outputs": [],
   "source": [
    "right_gaze_test = test[\"Right Gaze\"]\n",
    "left_gaze_test  = test[\"Left Gaze\"]\n",
    "right_head_test = test[\"Right HeadPose\"]\n",
    "left_head_test  = test[\"Left HeadPose\"]\n",
    "\n",
    "label_test = test['Label']\n",
    "\n",
    "right_gaze_test, left_gaze_test, right_head_test, left_head_test = parseData(right_gaze_test), parseData(left_gaze_test), parseData(right_head_test), parseData(left_head_test)"
   ]
  },
  {
   "cell_type": "code",
   "execution_count": 16,
   "metadata": {},
   "outputs": [],
   "source": [
    "left_head_test  = padData(left_head_test,  max_length)\n",
    "right_head_test = padData(right_head_test, max_length)\n",
    "left_gaze_test  = padData(left_gaze_test,  max_length)\n",
    "right_gaze_test = padData(right_gaze_test, max_length)"
   ]
  },
  {
   "cell_type": "code",
   "execution_count": 17,
   "metadata": {},
   "outputs": [
    {
     "name": "stdout",
     "output_type": "stream",
     "text": [
      "tf.Tensor(\n",
      "[[[ 51.537  30.285  59.777 ...  53.407   8.105  54.019]\n",
      "  [ 40.51   37.984  55.533 ...  48.782   6.237  49.179]\n",
      "  [ 26.477  32.743  42.108 ...  41.713  14.326  44.104]\n",
      "  ...\n",
      "  [  9.333  36.422  37.598 ...  32.341  15.118  35.7  ]\n",
      "  [ 32.112  34.174  46.894 ...  47.997  12.341  49.559]\n",
      "  [ 25.442  29.643  39.064 ...  41.91    9.913  43.066]]\n",
      "\n",
      " [[ 29.547  18.415  34.815 ...  44.61    5.529  44.951]\n",
      "  [ 28.973  18.207  34.219 ...  43.922   4.782  44.182]\n",
      "  [ 43.92   15.941  46.724 ...  48.461   1.124  48.474]\n",
      "  ...\n",
      "  [ 39.393   9.628  40.552 ...  41.659  -5.382  42.005]\n",
      "  [ 35.149  10.188  36.595 ...  47.753  -4.01   47.921]\n",
      "  [ 38.596   9.017  39.635 ...  49.893  -5.698  50.217]]\n",
      "\n",
      " [[-16.954  73.426 -75.358 ... -26.907  60.171 -65.913]\n",
      "  [-22.978  82.974 -86.096 ... -32.98   67.892 -75.478]\n",
      "  [-39.21   73.834 -83.599 ... -38.416  60.714 -71.847]\n",
      "  ...\n",
      "  [-30.736  50.905 -59.464 ... -21.113  18.457 -28.043]\n",
      "  [-56.668  55.566 -79.366 ... -48.625  30.22  -57.251]\n",
      "  [-43.283  75.013 -86.605 ... -38.629  52.051 -64.819]]\n",
      "\n",
      " ...\n",
      "\n",
      " [[-75.886  52.804 -92.45  ... -59.278  56.768 -82.076]\n",
      "  [-28.489  18.923 -34.201 ... -62.39   31.75  -70.004]\n",
      "  [-67.832  60.076 -90.611 ... -48.008  53.002 -71.512]\n",
      "  ...\n",
      "  [ 95.666  37.97  102.926 ...  76.421  16.969  78.283]\n",
      "  [ 98.496  37.782 105.494 ...  79.116  19.372  81.453]\n",
      "  [ 99.198  35.229 105.268 ...  78.935  17.407  80.831]]\n",
      "\n",
      " [[ 22.699  20.077  30.304 ...  16.915   1.273  16.963]\n",
      "  [ 25.617  26.691  36.996 ...  21.827   4.13   22.214]\n",
      "  [ 15.032  49.133  51.381 ...  18.456  13.119  22.644]\n",
      "  ...\n",
      "  [ 35.706  40.1    53.692 ...  29.415  13.214  32.246]\n",
      "  [ 35.487  40.901  54.15  ...  26.772  14.649  30.518]\n",
      "  [ 29.134  54.965  62.209 ...  25.383  14.763  29.364]]\n",
      "\n",
      " [[-31.794  32.968 -45.802 ...  50.764  18.04   53.874]\n",
      "  [ 52.965  32.011  61.887 ...  51.487  17.892  54.507]\n",
      "  [ 51.108  32.866  60.764 ...  48.697  18.769  52.189]\n",
      "  ...\n",
      "  [ 69.239  37.188  78.594 ...  67.27   21.967  70.766]\n",
      "  [ 68.114  33.358  75.843 ...  65.813  21.131  69.122]\n",
      "  [ 88.397  17.359  90.085 ...  85.485   9.684  86.031]]], shape=(107, 1294, 12), dtype=float32)\n"
     ]
    }
   ],
   "source": [
    "x_test = []\n",
    "\n",
    "for i in range(len(left_gaze_test)):\n",
    "    x_test.append(tf.convert_to_tensor([\n",
    "                                            np.hstack(\n",
    "                                                        (left_gaze_test[i], right_gaze_test[i], left_head_test[i], right_head_test[i])\n",
    "                                                     )\n",
    "                                            ], dtype=tf.float32))\n",
    "\n",
    "\n",
    "\n",
    "x_test = tf.convert_to_tensor(np.vstack(x_test), dtype=tf.float32)\n",
    "\n",
    "print(x_test)"
   ]
  },
  {
   "cell_type": "code",
   "execution_count": 18,
   "metadata": {},
   "outputs": [
    {
     "name": "stdout",
     "output_type": "stream",
     "text": [
      "4/4 [==============================] - 1s 13ms/step\n",
      "[1 1 1 1 1 1 1 1 1 1 1 1 1 1 1 1 1 1 1 1 1 1 1 1 1 1 1 1 1 1 1 1 1 1 1 1 1\n",
      " 1 1 1 1 1 1 1 1 1 1 1 1 1 1 1 1 1 1 1 1 1 1 1 1 1 1 1 1 1 1 1 1 1 1 1 1 1\n",
      " 1 1 1 1 1 1 1 1 1 1 1 1 1 1 1 1 1 1 1 1 1 1 1 1 1 1 1 1 1 1 1 1 1]\n",
      "[1 1 1 1 1 1 1 1 1 1 1 1 1 1 1 1 1 1 1 1 1 1 1 1 1 0 0 1 1 1 1 0 0 1 0 1 0\n",
      " 0 0 1 1 0 0 1 0 1 1 0 1 1 1 0 1 1 1 1 1 1 1 1 0 0 1 0 0 1 1 0 1 0 1 1 1 1\n",
      " 1 0 1 1 1 1 1 0 0 0 0 0 1 1 1 1 0 1 1 0 1 1 0 0 1 1 1 0 1 0 1 0 0]\n",
      "Accuracy on test set:  0.6915887850467289\n"
     ]
    }
   ],
   "source": [
    "predictions = model.predict(x_test)\n",
    "\n",
    "label_predictions = []\n",
    "\n",
    "# convert from category to label\n",
    "for prediction in predictions:\n",
    "    if prediction[0] > prediction[1]:\n",
    "        label_predictions.append(0)\n",
    "    else: label_predictions.append(1)\n",
    "    \n",
    "label_predictions = np.array(label_predictions)\n",
    "label_test = np.array(label_test)\n",
    "\n",
    "print(label_predictions)\n",
    "print(label_test)\n",
    "\n",
    "# calc acc\n",
    "true_count = 0\n",
    "for idx, label in enumerate(label_predictions):\n",
    "    if label == label_test[idx]:\n",
    "        true_count += 1\n",
    "        \n",
    "print(\"Accuracy on test set: \", true_count/(len(label_test)))"
   ]
  },
  {
   "cell_type": "code",
   "execution_count": 19,
   "metadata": {},
   "outputs": [
    {
     "name": "stdout",
     "output_type": "stream",
     "text": [
      "dict_keys(['loss', 'accuracy'])\n"
     ]
    }
   ],
   "source": [
    "print(history.history.keys())"
   ]
  },
  {
   "cell_type": "code",
   "execution_count": 20,
   "metadata": {},
   "outputs": [],
   "source": [
    "import os\n",
    "os.environ['KMP_DUPLICATE_LIB_OK'] = 'TRUE'"
   ]
  },
  {
   "cell_type": "markdown",
   "metadata": {},
   "source": [
    "plot the loss and acc from training process"
   ]
  },
  {
   "cell_type": "code",
   "execution_count": 21,
   "metadata": {},
   "outputs": [
    {
     "data": {
      "image/png": "[encoded data removed]",
      "text/plain": [
       "<Figure size 640x480 with 1 Axes>"
      ]
     },
     "metadata": {},
     "output_type": "display_data"
    },
    {
     "data": {
      "image/png": "[encoded data removed]",
      "text/plain": [
       "<Figure size 640x480 with 1 Axes>"
      ]
     },
     "metadata": {},
     "output_type": "display_data"
    }
   ],
   "source": [
    "from matplotlib import pyplot as plt\n",
    "# Plot accuracy\n",
    "plt.plot(history.history['accuracy'])\n",
    "plt.title('Model Accuracy')\n",
    "plt.xlabel('Epoch')\n",
    "plt.ylabel('Accuracy')\n",
    "plt.show()\n",
    "\n",
    "# Plot loss\n",
    "plt.plot(history.history['loss'])\n",
    "plt.title('Model Loss')\n",
    "plt.xlabel('Epoch')\n",
    "plt.ylabel('Loss')\n",
    "plt.show()\n"
   ]
  }
 ],
 "metadata": {
  "kernelspec": {
   "display_name": "Python 3 (ipykernel)",
   "language": "python",
   "name": "python3"
  },
  "language_info": {
   "codemirror_mode": {
    "name": "ipython",
    "version": 3
   },
   "file_extension": ".py",
   "mimetype": "text/x-python",
   "name": "python",
   "nbconvert_exporter": "python",
   "pygments_lexer": "ipython3",
   "version": "3.11.5"
  }
 },
 "nbformat": 4,
 "nbformat_minor": 4
}
