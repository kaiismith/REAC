{
 "cells": [
  {
   "cell_type": "code",
   "execution_count": 1,
   "metadata": {
    "tags": []
   },
   "outputs": [],
   "source": [
    "import pandas as pd\n",
    "import numpy  as np"
   ]
  },
  {
   "cell_type": "markdown",
   "metadata": {},
   "source": [
    "import data file"
   ]
  },
  {
   "cell_type": "code",
   "execution_count": 2,
   "metadata": {
    "tags": []
   },
   "outputs": [
    {
     "data": {
      "text/html": [
       "<div>\n",
       "<style scoped>\n",
       "    .dataframe tbody tr th:only-of-type {\n",
       "        vertical-align: middle;\n",
       "    }\n",
       "\n",
       "    .dataframe tbody tr th {\n",
       "        vertical-align: top;\n",
       "    }\n",
       "\n",
       "    .dataframe thead th {\n",
       "        text-align: right;\n",
       "    }\n",
       "</style>\n",
       "<table border=\"1\" class=\"dataframe\">\n",
       "  <thead>\n",
       "    <tr style=\"text-align: right;\">\n",
       "      <th></th>\n",
       "      <th>Label</th>\n",
       "    </tr>\n",
       "  </thead>\n",
       "  <tbody>\n",
       "    <tr>\n",
       "      <th>count</th>\n",
       "      <td>329.000000</td>\n",
       "    </tr>\n",
       "    <tr>\n",
       "      <th>mean</th>\n",
       "      <td>0.589666</td>\n",
       "    </tr>\n",
       "    <tr>\n",
       "      <th>std</th>\n",
       "      <td>0.492644</td>\n",
       "    </tr>\n",
       "    <tr>\n",
       "      <th>min</th>\n",
       "      <td>0.000000</td>\n",
       "    </tr>\n",
       "    <tr>\n",
       "      <th>25%</th>\n",
       "      <td>0.000000</td>\n",
       "    </tr>\n",
       "    <tr>\n",
       "      <th>50%</th>\n",
       "      <td>1.000000</td>\n",
       "    </tr>\n",
       "    <tr>\n",
       "      <th>75%</th>\n",
       "      <td>1.000000</td>\n",
       "    </tr>\n",
       "    <tr>\n",
       "      <th>max</th>\n",
       "      <td>1.000000</td>\n",
       "    </tr>\n",
       "  </tbody>\n",
       "</table>\n",
       "</div>"
      ],
      "text/plain": [
       "            Label\n",
       "count  329.000000\n",
       "mean     0.589666\n",
       "std      0.492644\n",
       "min      0.000000\n",
       "25%      0.000000\n",
       "50%      1.000000\n",
       "75%      1.000000\n",
       "max      1.000000"
      ]
     },
     "execution_count": 2,
     "metadata": {},
     "output_type": "execute_result"
    }
   ],
   "source": [
    "df = pd.read_csv('data_new.csv')\n",
    "df.describe()"
   ]
  },
  {
   "cell_type": "markdown",
   "metadata": {},
   "source": [
    "split data"
   ]
  },
  {
   "cell_type": "code",
   "execution_count": 3,
   "metadata": {
    "tags": []
   },
   "outputs": [
    {
     "name": "stdout",
     "output_type": "stream",
     "text": [
      "Non-cheat:  135\n",
      "Cheat:  194\n",
      "(222, 107)\n"
     ]
    }
   ],
   "source": [
    "print(\"Non-cheat: \", len(df[df['Label']==0]))\n",
    "print(\"Cheat: \", len(df[df['Label']==1]))\n",
    "\n",
    "# diff = abs(len(df[df['Label']==0]) - len(df[df['Label']==1]))\n",
    "\n",
    "grouped = df.groupby(df.Label)\n",
    "df1 = grouped.get_group(1)\n",
    "df2 = grouped.get_group(0)\n",
    "\n",
    "df2_1 = df.iloc[:135,:]\n",
    "df2_2 = df.iloc[135:194,:]\n",
    "\n",
    "df1_train = df1.iloc[:111,:]\n",
    "df2_train = df2_1.iloc[:111,:]\n",
    "\n",
    "df1_test = df1.iloc[111:135,:]\n",
    "df2_test = df2_1.iloc[111:135,:]\n",
    "\n",
    "train = pd.concat([df1_train, df2_train])\n",
    "test  = pd.concat([df1_test, df2_test, df2_2])\n",
    "\n",
    "print((len(train), len(test)))"
   ]
  },
  {
   "cell_type": "markdown",
   "metadata": {},
   "source": [
    "parse data from string to numpy array"
   ]
  },
  {
   "cell_type": "code",
   "execution_count": 4,
   "metadata": {
    "tags": []
   },
   "outputs": [],
   "source": [
    "def parseData(series):\n",
    "    final_series = []\n",
    "    for ser in series:\n",
    "        temp = []\n",
    "        for x in \"[],\":\n",
    "            ser = ser.replace(x, \"\")\n",
    "        new_ser  = np.fromstring(ser, dtype=float, sep=\" \")\n",
    "        for i in range(0, len(new_ser), 3):\n",
    "            chunk = [new_ser[i], new_ser[i + 1], new_ser[i + 2]]\n",
    "            temp.append(chunk)\n",
    "        final_series.append(temp)\n",
    "    return np.array(final_series, dtype=object)"
   ]
  },
  {
   "cell_type": "markdown",
   "metadata": {},
   "source": [
    "get the longest sequence of vector in dataset"
   ]
  },
  {
   "cell_type": "code",
   "execution_count": 5,
   "metadata": {
    "tags": []
   },
   "outputs": [
    {
     "data": {
      "text/plain": [
       "1294"
      ]
     },
     "execution_count": 5,
     "metadata": {},
     "output_type": "execute_result"
    }
   ],
   "source": [
    "max_length = 0\n",
    "for lgaze in parseData(df['Left Gaze']):\n",
    "    if len(lgaze) > max_length:\n",
    "        max_length = len(lgaze)\n",
    "        \n",
    "max_length"
   ]
  },
  {
   "cell_type": "markdown",
   "metadata": {},
   "source": [
    "pad the dataset to the longest sequence size"
   ]
  },
  {
   "cell_type": "code",
   "execution_count": 6,
   "metadata": {
    "tags": []
   },
   "outputs": [],
   "source": [
    "import math\n",
    "\n",
    "def padData(series, length):\n",
    "    for idx, ser in enumerate(series):\n",
    "        times = math.floor(length / len(ser))\n",
    "        add = length % len(ser)\n",
    "        \n",
    "        temp = ser[::-1]\n",
    "        for _ in range(1, times):\n",
    "            series[idx] = np.append(series[idx], temp, axis=0)\n",
    "            temp = temp[::-1]\n",
    "        if add != 0:\n",
    "            series[idx] = np.append(series[idx], temp[0:add], axis=0)\n",
    "    return series"
   ]
  },
  {
   "cell_type": "markdown",
   "metadata": {},
   "source": [
    "(AlexNet_1D)Conv1D -> AveragePooling1D -> Conv1D -> AveragePooling1D -> Conv1D -> Conv1D -> Conv1D -> AveragePooling1D -> LSTM -> Dense -> Dropout -> Dense"
   ]
  },
  {
   "cell_type": "code",
   "execution_count": 95,
   "metadata": {
    "tags": []
   },
   "outputs": [],
   "source": [
    "from tensorflow.keras.models import Sequential\n",
    "from tensorflow.keras.layers import Conv1D, Flatten, Dense, AveragePooling1D, MaxPooling1D, LSTM, Dropout\n",
    "from tensorflow.keras import optimizers\n",
    "from tensorflow.keras.callbacks import EarlyStopping, History\n",
    "\n",
    "import tensorflow as tf\n",
    "\n",
    "def init_model():\n",
    "    model = Sequential()\n",
    "    model.add(Conv1D(filters=12, kernel_size=3,strides=2, padding=\"same\", activation='relu', input_shape=(max_length, 12)))\n",
    "    model.add(AveragePooling1D(pool_size=2, strides = 2))\n",
    "    model.add(Conv1D(filters=32, kernel_size=3,strides=1, padding=\"same\", activation='relu', input_shape=(max_length, 12)))\n",
    "    # model.add(Conv1D(filters=32, kernel_size=3, padding=\"same\", activation='relu'))\n",
    "    model.add(AveragePooling1D(pool_size=2, strides= 2))\n",
    "    # model.add(Conv1D(filters=12, kernel_size=3,strides=2, padding=\"same\", activation='relu', input_shape=(max_length, 12)))\n",
    "    # model.add(Conv1D(filters=12, kernel_size=3,strides=2, padding=\"same\", activation='relu', input_shape=(max_length, 12)))\n",
    "    # model.add(Conv1D(filters=12, kernel_size=3,strides=2, padding=\"same\", activation='relu', input_shape=(max_length, 12)))\n",
    "    model.add(Conv1D(filters=48, kernel_size=3,strides=1, padding=\"same\", activation='relu'))\n",
    "    model.add(Conv1D(filters=48, kernel_size=3,strides=1, padding=\"same\", activation='relu'))\n",
    "    model.add(Conv1D(filters=32, kernel_size=3,strides=1, padding=\"same\", activation='relu'))\n",
    "    model.add(AveragePooling1D(pool_size=2))\n",
    "    model.add(LSTM(12))\n",
    "    # adam = optimizers.legacy.Adam(lr=0.001, beta_1=0, beta_2=0, epsilon=None, decay=0.0)\n",
    "    adam = optimizers.legacy.Adam(lr=0.001, beta_1=0.1, beta_2=0.9, epsilon=None, decay=0.0)\n",
    "    \n",
    "    model.add(Flatten())\n",
    "    model.add(Dense(512, activation = 'softmax')) \n",
    "    model.add(Dropout(0.5))\n",
    "    model.add(Dense(512, activation = 'softmax')) \n",
    "    model.add(Dense(2, activation = 'softmax'))# We have only 2 classes: Non-cheat & Cheat\\n\",\n",
    "    model.compile(optimizer=adam, loss='categorical_crossentropy',\n",
    "                      metrics=['accuracy'])\n",
    "   \n",
    "    return model\n"
   ]
  },
  {
   "cell_type": "code",
   "execution_count": 73,
   "metadata": {
    "tags": []
   },
   "outputs": [],
   "source": [
    "right_gaze_train = train[\"Right Gaze\"]\n",
    "left_gaze_train  = train[\"Left Gaze\"]\n",
    "right_head_train = train[\"Right HeadPose\"]\n",
    "left_head_train  = train[\"Left HeadPose\"]\n",
    "label_train = train['Label']\n",
    "\n",
    "right_gaze_train, left_gaze_train, right_head_train, left_head_train = parseData(right_gaze_train), parseData(left_gaze_train), parseData(right_head_train), parseData(left_head_train)"
   ]
  },
  {
   "cell_type": "markdown",
   "metadata": {},
   "source": [
    "initialize new data frame"
   ]
  },
  {
   "cell_type": "code",
   "execution_count": 74,
   "metadata": {
    "tags": []
   },
   "outputs": [],
   "source": [
    "left_head_train  = padData(left_head_train,  max_length)\n",
    "right_head_train = padData(right_head_train, max_length)\n",
    "left_gaze_train  = padData(left_gaze_train,  max_length)\n",
    "right_gaze_train = padData(right_gaze_train, max_length)"
   ]
  },
  {
   "cell_type": "code",
   "execution_count": 75,
   "metadata": {
    "tags": []
   },
   "outputs": [],
   "source": [
    "label_train = np.array(label_train)"
   ]
  },
  {
   "cell_type": "code",
   "execution_count": 76,
   "metadata": {
    "tags": []
   },
   "outputs": [],
   "source": [
    "y_train = []\n",
    "for i in range(len(label_train)):\n",
    "    y_train.append(\n",
    "        tf.convert_to_tensor(\n",
    "            np.reshape(tf.keras.utils.to_categorical(label_train[i], num_classes=2), (1, 2))                 \n",
    "                            )\n",
    "             )\n",
    "    \n",
    "y_train = tf.convert_to_tensor(np.vstack(y_train), dtype=tf.float32)"
   ]
  },
  {
   "cell_type": "code",
   "execution_count": 78,
   "metadata": {
    "tags": []
   },
   "outputs": [],
   "source": [
    "x_train = []\n",
    "\n",
    "for i in range(len(left_gaze_train)):\n",
    "    x_train.append(tf.convert_to_tensor([\n",
    "                                            np.hstack(\n",
    "                                                        (left_gaze_train[i], right_gaze_train[i], left_head_train[i], right_head_train[i])\n",
    "                                                     )\n",
    "                                            ], dtype=tf.float32))\n",
    "\n",
    "\n",
    "\n",
    "x_train = tf.convert_to_tensor(np.vstack(x_train), dtype=tf.float32)\n",
    "\n",
    "# print(x_train)\n",
    "\n",
    "# print(y_train)"
   ]
  },
  {
   "cell_type": "markdown",
   "metadata": {},
   "source": [
    "Train the model"
   ]
  },
  {
   "cell_type": "code",
   "execution_count": 79,
   "metadata": {
    "tags": []
   },
   "outputs": [],
   "source": [
    "right_gaze_test = test[\"Right Gaze\"]\n",
    "left_gaze_test  = test[\"Left Gaze\"]\n",
    "right_head_test = test[\"Right HeadPose\"]\n",
    "left_head_test  = test[\"Left HeadPose\"]\n",
    "label_test = test['Label']\n",
    "label_test = np.array(label_test)\n",
    "\n",
    "right_gaze_test, left_gaze_test, right_head_test, left_head_test = parseData(right_gaze_test), parseData(left_gaze_test), parseData(right_head_test), parseData(left_head_test)"
   ]
  },
  {
   "cell_type": "code",
   "execution_count": 80,
   "metadata": {
    "tags": []
   },
   "outputs": [],
   "source": [
    "left_head_test  = padData(left_head_test,  max_length)\n",
    "right_head_test = padData(right_head_test, max_length)\n",
    "left_gaze_test  = padData(left_gaze_test,  max_length)\n",
    "right_gaze_test = padData(right_gaze_test, max_length)"
   ]
  },
  {
   "cell_type": "code",
   "execution_count": 81,
   "metadata": {
    "tags": []
   },
   "outputs": [
    {
     "name": "stdout",
     "output_type": "stream",
     "text": [
      "(107, 1294, 12) (107, 1)\n"
     ]
    }
   ],
   "source": [
    "x_test = []\n",
    "y_test = []\n",
    "for i in range(len(left_gaze_test)):\n",
    "    x_test.append(tf.convert_to_tensor([\n",
    "                                            np.hstack(\n",
    "                                                        (left_gaze_test[i], right_gaze_test[i], left_head_test[i], right_head_test[i])\n",
    "                                                     )\n",
    "                                            ], dtype=tf.float32))                                        \n",
    "for i in range(len(label_test)):\n",
    "    y_test.append(\n",
    "        tf.convert_to_tensor(np.reshape(tf.keras.utils.to_categorical(label_test[i], num_classes=2), (1, 2)))\n",
    "             )\n",
    "    \n",
    "x_test = tf.convert_to_tensor(np.vstack(x_test), dtype=tf.float32)\n",
    "y_test = tf.convert_to_tensor(np.vstack(label_test), dtype=tf.float32)\n",
    "print(x_test.shape, y_test.shape)"
   ]
  },
  {
   "cell_type": "code",
   "execution_count": 96,
   "metadata": {
    "tags": []
   },
   "outputs": [
    {
     "name": "stdout",
     "output_type": "stream",
     "text": [
      "Epoch 1/200\n"
     ]
    },
    {
     "name": "stderr",
     "output_type": "stream",
     "text": [
      "C:\\conda\\Lib\\site-packages\\keras\\src\\optimizers\\legacy\\adam.py:118: UserWarning: The `lr` argument is deprecated, use `learning_rate` instead.\n",
      "  super().__init__(name, **kwargs)\n"
     ]
    },
    {
     "name": "stdout",
     "output_type": "stream",
     "text": [
      "2/2 [==============================] - 4s 847ms/step - loss: 0.6916 - accuracy: 0.7940 - val_loss: 0.6887 - val_accuracy: 0.8696\n",
      "Epoch 2/200\n",
      "2/2 [==============================] - 0s 87ms/step - loss: 0.6891 - accuracy: 0.7940 - val_loss: 0.6856 - val_accuracy: 0.8696\n",
      "Epoch 3/200\n",
      "2/2 [==============================] - 0s 85ms/step - loss: 0.6868 - accuracy: 0.7940 - val_loss: 0.6828 - val_accuracy: 0.8696\n",
      "Epoch 4/200\n",
      "2/2 [==============================] - 0s 89ms/step - loss: 0.6845 - accuracy: 0.7940 - val_loss: 0.6798 - val_accuracy: 0.8696\n",
      "Epoch 5/200\n",
      "2/2 [==============================] - 0s 87ms/step - loss: 0.6822 - accuracy: 0.7940 - val_loss: 0.6769 - val_accuracy: 0.8696\n",
      "Epoch 6/200\n",
      "2/2 [==============================] - 0s 91ms/step - loss: 0.6799 - accuracy: 0.7940 - val_loss: 0.6741 - val_accuracy: 0.8696\n",
      "Epoch 7/200\n",
      "2/2 [==============================] - 0s 91ms/step - loss: 0.6777 - accuracy: 0.7940 - val_loss: 0.6714 - val_accuracy: 0.8696\n",
      "Epoch 8/200\n",
      "2/2 [==============================] - 0s 96ms/step - loss: 0.6756 - accuracy: 0.7940 - val_loss: 0.6686 - val_accuracy: 0.8696\n",
      "Epoch 9/200\n",
      "2/2 [==============================] - 0s 100ms/step - loss: 0.6733 - accuracy: 0.7940 - val_loss: 0.6657 - val_accuracy: 0.8696\n",
      "Epoch 10/200\n",
      "2/2 [==============================] - 0s 91ms/step - loss: 0.6711 - accuracy: 0.7940 - val_loss: 0.6629 - val_accuracy: 0.8696\n",
      "Epoch 11/200\n",
      "2/2 [==============================] - 0s 89ms/step - loss: 0.6690 - accuracy: 0.7940 - val_loss: 0.6603 - val_accuracy: 0.8696\n",
      "Epoch 12/200\n",
      "2/2 [==============================] - 0s 98ms/step - loss: 0.6668 - accuracy: 0.7940 - val_loss: 0.6575 - val_accuracy: 0.8696\n",
      "Epoch 13/200\n",
      "2/2 [==============================] - 0s 90ms/step - loss: 0.6646 - accuracy: 0.7940 - val_loss: 0.6546 - val_accuracy: 0.8696\n",
      "Epoch 14/200\n",
      "2/2 [==============================] - 0s 96ms/step - loss: 0.6624 - accuracy: 0.7940 - val_loss: 0.6519 - val_accuracy: 0.8696\n",
      "Epoch 15/200\n",
      "2/2 [==============================] - 0s 90ms/step - loss: 0.6603 - accuracy: 0.7940 - val_loss: 0.6492 - val_accuracy: 0.8696\n",
      "Epoch 16/200\n",
      "2/2 [==============================] - 0s 105ms/step - loss: 0.6582 - accuracy: 0.7940 - val_loss: 0.6465 - val_accuracy: 0.8696\n",
      "Epoch 17/200\n",
      "2/2 [==============================] - 0s 93ms/step - loss: 0.6561 - accuracy: 0.7940 - val_loss: 0.6439 - val_accuracy: 0.8696\n",
      "Epoch 18/200\n",
      "2/2 [==============================] - 0s 93ms/step - loss: 0.6541 - accuracy: 0.7940 - val_loss: 0.6413 - val_accuracy: 0.8696\n",
      "Epoch 19/200\n",
      "2/2 [==============================] - 0s 103ms/step - loss: 0.6521 - accuracy: 0.7940 - val_loss: 0.6387 - val_accuracy: 0.8696\n",
      "Epoch 20/200\n",
      "2/2 [==============================] - 0s 92ms/step - loss: 0.6502 - accuracy: 0.7940 - val_loss: 0.6363 - val_accuracy: 0.8696\n",
      "Epoch 21/200\n",
      "2/2 [==============================] - 0s 96ms/step - loss: 0.6483 - accuracy: 0.7940 - val_loss: 0.6337 - val_accuracy: 0.8696\n",
      "Epoch 22/200\n",
      "2/2 [==============================] - 0s 92ms/step - loss: 0.6463 - accuracy: 0.7940 - val_loss: 0.6313 - val_accuracy: 0.8696\n",
      "Epoch 23/200\n",
      "2/2 [==============================] - 0s 92ms/step - loss: 0.6444 - accuracy: 0.7940 - val_loss: 0.6287 - val_accuracy: 0.8696\n",
      "Epoch 24/200\n",
      "2/2 [==============================] - 0s 88ms/step - loss: 0.6425 - accuracy: 0.7940 - val_loss: 0.6262 - val_accuracy: 0.8696\n",
      "Epoch 25/200\n",
      "2/2 [==============================] - 0s 93ms/step - loss: 0.6405 - accuracy: 0.7940 - val_loss: 0.6236 - val_accuracy: 0.8696\n",
      "Epoch 26/200\n",
      "2/2 [==============================] - 0s 101ms/step - loss: 0.6386 - accuracy: 0.7940 - val_loss: 0.6212 - val_accuracy: 0.8696\n",
      "Epoch 27/200\n",
      "2/2 [==============================] - 0s 88ms/step - loss: 0.6367 - accuracy: 0.7940 - val_loss: 0.6187 - val_accuracy: 0.8696\n",
      "Epoch 28/200\n",
      "2/2 [==============================] - 0s 100ms/step - loss: 0.6348 - accuracy: 0.7940 - val_loss: 0.6163 - val_accuracy: 0.8696\n",
      "Epoch 29/200\n",
      "2/2 [==============================] - 0s 96ms/step - loss: 0.6330 - accuracy: 0.7940 - val_loss: 0.6138 - val_accuracy: 0.8696\n",
      "Epoch 30/200\n",
      "2/2 [==============================] - 0s 92ms/step - loss: 0.6311 - accuracy: 0.7940 - val_loss: 0.6114 - val_accuracy: 0.8696\n",
      "Epoch 31/200\n",
      "2/2 [==============================] - 0s 87ms/step - loss: 0.6293 - accuracy: 0.7940 - val_loss: 0.6089 - val_accuracy: 0.8696\n",
      "Epoch 32/200\n",
      "2/2 [==============================] - 0s 88ms/step - loss: 0.6273 - accuracy: 0.7940 - val_loss: 0.6063 - val_accuracy: 0.8696\n",
      "Epoch 33/200\n",
      "2/2 [==============================] - 0s 89ms/step - loss: 0.6255 - accuracy: 0.7940 - val_loss: 0.6040 - val_accuracy: 0.8696\n",
      "Epoch 34/200\n",
      "2/2 [==============================] - 0s 93ms/step - loss: 0.6237 - accuracy: 0.7940 - val_loss: 0.6016 - val_accuracy: 0.8696\n",
      "Epoch 35/200\n",
      "2/2 [==============================] - 0s 89ms/step - loss: 0.6219 - accuracy: 0.7940 - val_loss: 0.5993 - val_accuracy: 0.8696\n",
      "Epoch 36/200\n",
      "2/2 [==============================] - 0s 93ms/step - loss: 0.6202 - accuracy: 0.7940 - val_loss: 0.5969 - val_accuracy: 0.8696\n",
      "Epoch 37/200\n",
      "2/2 [==============================] - 0s 94ms/step - loss: 0.6184 - accuracy: 0.7940 - val_loss: 0.5946 - val_accuracy: 0.8696\n",
      "Epoch 38/200\n",
      "2/2 [==============================] - 0s 90ms/step - loss: 0.6167 - accuracy: 0.7940 - val_loss: 0.5922 - val_accuracy: 0.8696\n",
      "Epoch 39/200\n",
      "2/2 [==============================] - 0s 88ms/step - loss: 0.6149 - accuracy: 0.7940 - val_loss: 0.5899 - val_accuracy: 0.8696\n",
      "Epoch 40/200\n",
      "2/2 [==============================] - 0s 97ms/step - loss: 0.6132 - accuracy: 0.7940 - val_loss: 0.5876 - val_accuracy: 0.8696\n",
      "Epoch 41/200\n",
      "2/2 [==============================] - 0s 111ms/step - loss: 0.6115 - accuracy: 0.7940 - val_loss: 0.5854 - val_accuracy: 0.8696\n",
      "Epoch 42/200\n",
      "2/2 [==============================] - 0s 93ms/step - loss: 0.6098 - accuracy: 0.7940 - val_loss: 0.5831 - val_accuracy: 0.8696\n",
      "Epoch 43/200\n",
      "2/2 [==============================] - 0s 97ms/step - loss: 0.6082 - accuracy: 0.7940 - val_loss: 0.5809 - val_accuracy: 0.8696\n",
      "Epoch 44/200\n",
      "2/2 [==============================] - 0s 99ms/step - loss: 0.6065 - accuracy: 0.7940 - val_loss: 0.5785 - val_accuracy: 0.8696\n",
      "Epoch 45/200\n",
      "2/2 [==============================] - 0s 96ms/step - loss: 0.6048 - accuracy: 0.7940 - val_loss: 0.5763 - val_accuracy: 0.8696\n",
      "Epoch 46/200\n",
      "2/2 [==============================] - 0s 97ms/step - loss: 0.6032 - accuracy: 0.7940 - val_loss: 0.5742 - val_accuracy: 0.8696\n",
      "Epoch 47/200\n",
      "2/2 [==============================] - 0s 87ms/step - loss: 0.6016 - accuracy: 0.7940 - val_loss: 0.5720 - val_accuracy: 0.8696\n",
      "Epoch 48/200\n",
      "2/2 [==============================] - 0s 97ms/step - loss: 0.6000 - accuracy: 0.7940 - val_loss: 0.5697 - val_accuracy: 0.8696\n",
      "Epoch 49/200\n",
      "2/2 [==============================] - 0s 119ms/step - loss: 0.5984 - accuracy: 0.7940 - val_loss: 0.5676 - val_accuracy: 0.8696\n",
      "Epoch 50/200\n",
      "2/2 [==============================] - 0s 90ms/step - loss: 0.5969 - accuracy: 0.7940 - val_loss: 0.5656 - val_accuracy: 0.8696\n",
      "Epoch 51/200\n",
      "2/2 [==============================] - 0s 88ms/step - loss: 0.5955 - accuracy: 0.7940 - val_loss: 0.5636 - val_accuracy: 0.8696\n",
      "Epoch 52/200\n",
      "2/2 [==============================] - 0s 111ms/step - loss: 0.5940 - accuracy: 0.7940 - val_loss: 0.5614 - val_accuracy: 0.8696\n",
      "Epoch 53/200\n",
      "2/2 [==============================] - 0s 98ms/step - loss: 0.5924 - accuracy: 0.7940 - val_loss: 0.5593 - val_accuracy: 0.8696\n",
      "Epoch 54/200\n",
      "2/2 [==============================] - 0s 92ms/step - loss: 0.5909 - accuracy: 0.7940 - val_loss: 0.5573 - val_accuracy: 0.8696\n",
      "Epoch 55/200\n",
      "2/2 [==============================] - 0s 94ms/step - loss: 0.5895 - accuracy: 0.7940 - val_loss: 0.5553 - val_accuracy: 0.8696\n",
      "Epoch 56/200\n",
      "2/2 [==============================] - 0s 86ms/step - loss: 0.5881 - accuracy: 0.7940 - val_loss: 0.5533 - val_accuracy: 0.8696\n",
      "Epoch 57/200\n",
      "2/2 [==============================] - 0s 92ms/step - loss: 0.5867 - accuracy: 0.7940 - val_loss: 0.5513 - val_accuracy: 0.8696\n",
      "Epoch 58/200\n",
      "2/2 [==============================] - 0s 106ms/step - loss: 0.5853 - accuracy: 0.7940 - val_loss: 0.5494 - val_accuracy: 0.8696\n",
      "Epoch 59/200\n",
      "2/2 [==============================] - 0s 99ms/step - loss: 0.5839 - accuracy: 0.7940 - val_loss: 0.5474 - val_accuracy: 0.8696\n",
      "Epoch 60/200\n",
      "2/2 [==============================] - 0s 95ms/step - loss: 0.5825 - accuracy: 0.7940 - val_loss: 0.5454 - val_accuracy: 0.8696\n",
      "Epoch 61/200\n",
      "2/2 [==============================] - 0s 98ms/step - loss: 0.5811 - accuracy: 0.7940 - val_loss: 0.5435 - val_accuracy: 0.8696\n",
      "Epoch 62/200\n",
      "2/2 [==============================] - 0s 90ms/step - loss: 0.5798 - accuracy: 0.7940 - val_loss: 0.5415 - val_accuracy: 0.8696\n",
      "Epoch 63/200\n",
      "2/2 [==============================] - 0s 107ms/step - loss: 0.5784 - accuracy: 0.7940 - val_loss: 0.5396 - val_accuracy: 0.8696\n",
      "Epoch 64/200\n",
      "2/2 [==============================] - 0s 114ms/step - loss: 0.5770 - accuracy: 0.7940 - val_loss: 0.5375 - val_accuracy: 0.8696\n",
      "Epoch 65/200\n",
      "2/2 [==============================] - 0s 132ms/step - loss: 0.5756 - accuracy: 0.7940 - val_loss: 0.5355 - val_accuracy: 0.8696\n",
      "Epoch 66/200\n",
      "2/2 [==============================] - 0s 113ms/step - loss: 0.5743 - accuracy: 0.7940 - val_loss: 0.5337 - val_accuracy: 0.8696\n",
      "Epoch 67/200\n",
      "2/2 [==============================] - 0s 98ms/step - loss: 0.5730 - accuracy: 0.7940 - val_loss: 0.5318 - val_accuracy: 0.8696\n",
      "Epoch 68/200\n",
      "2/2 [==============================] - 0s 85ms/step - loss: 0.5717 - accuracy: 0.7940 - val_loss: 0.5299 - val_accuracy: 0.8696\n",
      "Epoch 69/200\n",
      "2/2 [==============================] - 0s 118ms/step - loss: 0.5704 - accuracy: 0.7940 - val_loss: 0.5282 - val_accuracy: 0.8696\n",
      "Epoch 70/200\n",
      "2/2 [==============================] - 0s 132ms/step - loss: 0.5692 - accuracy: 0.7940 - val_loss: 0.5264 - val_accuracy: 0.8696\n",
      "Epoch 71/200\n",
      "2/2 [==============================] - 0s 99ms/step - loss: 0.5680 - accuracy: 0.7940 - val_loss: 0.5245 - val_accuracy: 0.8696\n",
      "Epoch 72/200\n",
      "2/2 [==============================] - 0s 122ms/step - loss: 0.5667 - accuracy: 0.7940 - val_loss: 0.5227 - val_accuracy: 0.8696\n",
      "Epoch 73/200\n",
      "2/2 [==============================] - 0s 95ms/step - loss: 0.5655 - accuracy: 0.7940 - val_loss: 0.5209 - val_accuracy: 0.8696\n",
      "Epoch 74/200\n",
      "2/2 [==============================] - 0s 88ms/step - loss: 0.5643 - accuracy: 0.7940 - val_loss: 0.5190 - val_accuracy: 0.8696\n",
      "Epoch 75/200\n",
      "2/2 [==============================] - 0s 85ms/step - loss: 0.5630 - accuracy: 0.7940 - val_loss: 0.5172 - val_accuracy: 0.8696\n",
      "Epoch 76/200\n",
      "2/2 [==============================] - 0s 89ms/step - loss: 0.5619 - accuracy: 0.7940 - val_loss: 0.5156 - val_accuracy: 0.8696\n",
      "Epoch 77/200\n",
      "2/2 [==============================] - 0s 88ms/step - loss: 0.5609 - accuracy: 0.7940 - val_loss: 0.5141 - val_accuracy: 0.8696\n",
      "Epoch 78/200\n",
      "2/2 [==============================] - 0s 85ms/step - loss: 0.5598 - accuracy: 0.7940 - val_loss: 0.5125 - val_accuracy: 0.8696\n",
      "Epoch 79/200\n",
      "2/2 [==============================] - 0s 87ms/step - loss: 0.5587 - accuracy: 0.7940 - val_loss: 0.5107 - val_accuracy: 0.8696\n",
      "Epoch 80/200\n",
      "2/2 [==============================] - 0s 85ms/step - loss: 0.5575 - accuracy: 0.7940 - val_loss: 0.5090 - val_accuracy: 0.8696\n",
      "Epoch 81/200\n",
      "2/2 [==============================] - 0s 84ms/step - loss: 0.5565 - accuracy: 0.7940 - val_loss: 0.5074 - val_accuracy: 0.8696\n",
      "Epoch 82/200\n",
      "2/2 [==============================] - 0s 88ms/step - loss: 0.5554 - accuracy: 0.7940 - val_loss: 0.5058 - val_accuracy: 0.8696\n",
      "Epoch 83/200\n",
      "2/2 [==============================] - 0s 85ms/step - loss: 0.5544 - accuracy: 0.7940 - val_loss: 0.5043 - val_accuracy: 0.8696\n",
      "Epoch 84/200\n",
      "2/2 [==============================] - 0s 86ms/step - loss: 0.5535 - accuracy: 0.7940 - val_loss: 0.5029 - val_accuracy: 0.8696\n",
      "Epoch 85/200\n",
      "2/2 [==============================] - 0s 87ms/step - loss: 0.5525 - accuracy: 0.7940 - val_loss: 0.5013 - val_accuracy: 0.8696\n",
      "Epoch 86/200\n",
      "2/2 [==============================] - 0s 116ms/step - loss: 0.5516 - accuracy: 0.7940 - val_loss: 0.4998 - val_accuracy: 0.8696\n",
      "Epoch 87/200\n",
      "2/2 [==============================] - 0s 87ms/step - loss: 0.5506 - accuracy: 0.7940 - val_loss: 0.4982 - val_accuracy: 0.8696\n",
      "Epoch 88/200\n",
      "2/2 [==============================] - 0s 84ms/step - loss: 0.5496 - accuracy: 0.7940 - val_loss: 0.4967 - val_accuracy: 0.8696\n",
      "Epoch 89/200\n",
      "2/2 [==============================] - 0s 84ms/step - loss: 0.5486 - accuracy: 0.7940 - val_loss: 0.4952 - val_accuracy: 0.8696\n",
      "Epoch 90/200\n",
      "2/2 [==============================] - 0s 86ms/step - loss: 0.5477 - accuracy: 0.7940 - val_loss: 0.4936 - val_accuracy: 0.8696\n",
      "Epoch 91/200\n",
      "2/2 [==============================] - 0s 89ms/step - loss: 0.5467 - accuracy: 0.7940 - val_loss: 0.4921 - val_accuracy: 0.8696\n",
      "Epoch 92/200\n",
      "2/2 [==============================] - 0s 83ms/step - loss: 0.5458 - accuracy: 0.7940 - val_loss: 0.4907 - val_accuracy: 0.8696\n",
      "Epoch 93/200\n",
      "2/2 [==============================] - 0s 89ms/step - loss: 0.5448 - accuracy: 0.7940 - val_loss: 0.4891 - val_accuracy: 0.8696\n",
      "Epoch 94/200\n",
      "2/2 [==============================] - 0s 87ms/step - loss: 0.5439 - accuracy: 0.7940 - val_loss: 0.4876 - val_accuracy: 0.8696\n",
      "Epoch 95/200\n",
      "2/2 [==============================] - 0s 87ms/step - loss: 0.5430 - accuracy: 0.7940 - val_loss: 0.4861 - val_accuracy: 0.8696\n",
      "Epoch 96/200\n",
      "2/2 [==============================] - 0s 93ms/step - loss: 0.5421 - accuracy: 0.7940 - val_loss: 0.4846 - val_accuracy: 0.8696\n",
      "Epoch 97/200\n",
      "2/2 [==============================] - 0s 92ms/step - loss: 0.5412 - accuracy: 0.7940 - val_loss: 0.4832 - val_accuracy: 0.8696\n",
      "Epoch 98/200\n",
      "2/2 [==============================] - 0s 88ms/step - loss: 0.5403 - accuracy: 0.7940 - val_loss: 0.4817 - val_accuracy: 0.8696\n",
      "Epoch 99/200\n",
      "2/2 [==============================] - 0s 91ms/step - loss: 0.5394 - accuracy: 0.7940 - val_loss: 0.4804 - val_accuracy: 0.8696\n",
      "Epoch 100/200\n",
      "2/2 [==============================] - 0s 102ms/step - loss: 0.5387 - accuracy: 0.7940 - val_loss: 0.4790 - val_accuracy: 0.8696\n",
      "Epoch 101/200\n",
      "2/2 [==============================] - 0s 89ms/step - loss: 0.5379 - accuracy: 0.7940 - val_loss: 0.4777 - val_accuracy: 0.8696\n",
      "Epoch 102/200\n",
      "2/2 [==============================] - 0s 88ms/step - loss: 0.5371 - accuracy: 0.7940 - val_loss: 0.4763 - val_accuracy: 0.8696\n",
      "Epoch 103/200\n",
      "2/2 [==============================] - 0s 90ms/step - loss: 0.5363 - accuracy: 0.7940 - val_loss: 0.4750 - val_accuracy: 0.8696\n",
      "Epoch 104/200\n",
      "2/2 [==============================] - 0s 88ms/step - loss: 0.5354 - accuracy: 0.7940 - val_loss: 0.4736 - val_accuracy: 0.8696\n",
      "Epoch 105/200\n",
      "2/2 [==============================] - 0s 93ms/step - loss: 0.5347 - accuracy: 0.7940 - val_loss: 0.4723 - val_accuracy: 0.8696\n",
      "Epoch 106/200\n",
      "2/2 [==============================] - 0s 91ms/step - loss: 0.5339 - accuracy: 0.7940 - val_loss: 0.4708 - val_accuracy: 0.8696\n",
      "Epoch 107/200\n",
      "2/2 [==============================] - 0s 98ms/step - loss: 0.5331 - accuracy: 0.7940 - val_loss: 0.4695 - val_accuracy: 0.8696\n",
      "Epoch 108/200\n",
      "2/2 [==============================] - 0s 92ms/step - loss: 0.5324 - accuracy: 0.7940 - val_loss: 0.4682 - val_accuracy: 0.8696\n",
      "Epoch 109/200\n",
      "2/2 [==============================] - 0s 92ms/step - loss: 0.5316 - accuracy: 0.7940 - val_loss: 0.4668 - val_accuracy: 0.8696\n",
      "Epoch 110/200\n",
      "2/2 [==============================] - 0s 89ms/step - loss: 0.5309 - accuracy: 0.7940 - val_loss: 0.4657 - val_accuracy: 0.8696\n",
      "Epoch 111/200\n",
      "2/2 [==============================] - 0s 87ms/step - loss: 0.5303 - accuracy: 0.7940 - val_loss: 0.4646 - val_accuracy: 0.8696\n",
      "Epoch 112/200\n",
      "2/2 [==============================] - 0s 85ms/step - loss: 0.5297 - accuracy: 0.7940 - val_loss: 0.4633 - val_accuracy: 0.8696\n",
      "Epoch 113/200\n",
      "2/2 [==============================] - 0s 93ms/step - loss: 0.5289 - accuracy: 0.7940 - val_loss: 0.4620 - val_accuracy: 0.8696\n",
      "Epoch 114/200\n",
      "2/2 [==============================] - 0s 87ms/step - loss: 0.5283 - accuracy: 0.7940 - val_loss: 0.4609 - val_accuracy: 0.8696\n",
      "Epoch 115/200\n",
      "2/2 [==============================] - 0s 97ms/step - loss: 0.5276 - accuracy: 0.7940 - val_loss: 0.4597 - val_accuracy: 0.8696\n",
      "Epoch 116/200\n",
      "2/2 [==============================] - 0s 92ms/step - loss: 0.5270 - accuracy: 0.7940 - val_loss: 0.4585 - val_accuracy: 0.8696\n",
      "Epoch 117/200\n",
      "2/2 [==============================] - 0s 96ms/step - loss: 0.5264 - accuracy: 0.7940 - val_loss: 0.4573 - val_accuracy: 0.8696\n",
      "Epoch 118/200\n",
      "2/2 [==============================] - 0s 87ms/step - loss: 0.5258 - accuracy: 0.7940 - val_loss: 0.4562 - val_accuracy: 0.8696\n",
      "Epoch 119/200\n",
      "2/2 [==============================] - 0s 86ms/step - loss: 0.5252 - accuracy: 0.7940 - val_loss: 0.4552 - val_accuracy: 0.8696\n",
      "Epoch 120/200\n",
      "2/2 [==============================] - 0s 89ms/step - loss: 0.5247 - accuracy: 0.7940 - val_loss: 0.4541 - val_accuracy: 0.8696\n",
      "Epoch 121/200\n",
      "2/2 [==============================] - 0s 87ms/step - loss: 0.5241 - accuracy: 0.7940 - val_loss: 0.4529 - val_accuracy: 0.8696\n",
      "Epoch 122/200\n",
      "2/2 [==============================] - 0s 101ms/step - loss: 0.5235 - accuracy: 0.7940 - val_loss: 0.4518 - val_accuracy: 0.8696\n",
      "Epoch 123/200\n",
      "2/2 [==============================] - 0s 98ms/step - loss: 0.5230 - accuracy: 0.7940 - val_loss: 0.4509 - val_accuracy: 0.8696\n",
      "Epoch 124/200\n",
      "2/2 [==============================] - 0s 93ms/step - loss: 0.5226 - accuracy: 0.7940 - val_loss: 0.4501 - val_accuracy: 0.8696\n",
      "Epoch 125/200\n",
      "2/2 [==============================] - 0s 121ms/step - loss: 0.5221 - accuracy: 0.7940 - val_loss: 0.4490 - val_accuracy: 0.8696\n",
      "Epoch 126/200\n",
      "2/2 [==============================] - 0s 93ms/step - loss: 0.5216 - accuracy: 0.7940 - val_loss: 0.4480 - val_accuracy: 0.8696\n",
      "Epoch 127/200\n",
      "2/2 [==============================] - 0s 95ms/step - loss: 0.5211 - accuracy: 0.7940 - val_loss: 0.4469 - val_accuracy: 0.8696\n",
      "Epoch 128/200\n",
      "2/2 [==============================] - 0s 97ms/step - loss: 0.5206 - accuracy: 0.7940 - val_loss: 0.4458 - val_accuracy: 0.8696\n",
      "Epoch 129/200\n",
      "2/2 [==============================] - 0s 119ms/step - loss: 0.5201 - accuracy: 0.7940 - val_loss: 0.4449 - val_accuracy: 0.8696\n",
      "Epoch 130/200\n",
      "2/2 [==============================] - 0s 93ms/step - loss: 0.5197 - accuracy: 0.7940 - val_loss: 0.4440 - val_accuracy: 0.8696\n",
      "Epoch 131/200\n",
      "2/2 [==============================] - 0s 91ms/step - loss: 0.5193 - accuracy: 0.7940 - val_loss: 0.4431 - val_accuracy: 0.8696\n",
      "Epoch 132/200\n",
      "2/2 [==============================] - 0s 90ms/step - loss: 0.5189 - accuracy: 0.7940 - val_loss: 0.4421 - val_accuracy: 0.8696\n",
      "Epoch 133/200\n",
      "2/2 [==============================] - 0s 93ms/step - loss: 0.5184 - accuracy: 0.7940 - val_loss: 0.4411 - val_accuracy: 0.8696\n",
      "Epoch 134/200\n",
      "2/2 [==============================] - 0s 96ms/step - loss: 0.5179 - accuracy: 0.7940 - val_loss: 0.4401 - val_accuracy: 0.8696\n",
      "Epoch 135/200\n",
      "2/2 [==============================] - 0s 107ms/step - loss: 0.5176 - accuracy: 0.7940 - val_loss: 0.4395 - val_accuracy: 0.8696\n",
      "Epoch 136/200\n",
      "2/2 [==============================] - 0s 86ms/step - loss: 0.5173 - accuracy: 0.7940 - val_loss: 0.4388 - val_accuracy: 0.8696\n",
      "Epoch 137/200\n",
      "2/2 [==============================] - 0s 87ms/step - loss: 0.5170 - accuracy: 0.7940 - val_loss: 0.4379 - val_accuracy: 0.8696\n",
      "Epoch 138/200\n",
      "2/2 [==============================] - 0s 87ms/step - loss: 0.5166 - accuracy: 0.7940 - val_loss: 0.4370 - val_accuracy: 0.8696\n",
      "Epoch 139/200\n",
      "2/2 [==============================] - 0s 93ms/step - loss: 0.5162 - accuracy: 0.7940 - val_loss: 0.4364 - val_accuracy: 0.8696\n",
      "Epoch 140/200\n",
      "2/2 [==============================] - 0s 88ms/step - loss: 0.5159 - accuracy: 0.7940 - val_loss: 0.4356 - val_accuracy: 0.8696\n",
      "Epoch 141/200\n",
      "2/2 [==============================] - 0s 86ms/step - loss: 0.5157 - accuracy: 0.7940 - val_loss: 0.4347 - val_accuracy: 0.8696\n",
      "Epoch 142/200\n",
      "2/2 [==============================] - 0s 87ms/step - loss: 0.5153 - accuracy: 0.7940 - val_loss: 0.4338 - val_accuracy: 0.8696\n",
      "Epoch 143/200\n",
      "2/2 [==============================] - 0s 98ms/step - loss: 0.5149 - accuracy: 0.7940 - val_loss: 0.4330 - val_accuracy: 0.8696\n",
      "Epoch 144/200\n",
      "2/2 [==============================] - 0s 87ms/step - loss: 0.5146 - accuracy: 0.7940 - val_loss: 0.4321 - val_accuracy: 0.8696\n",
      "Epoch 145/200\n",
      "2/2 [==============================] - 0s 87ms/step - loss: 0.5143 - accuracy: 0.7940 - val_loss: 0.4313 - val_accuracy: 0.8696\n",
      "Epoch 146/200\n",
      "2/2 [==============================] - 0s 89ms/step - loss: 0.5140 - accuracy: 0.7940 - val_loss: 0.4305 - val_accuracy: 0.8696\n",
      "Epoch 147/200\n",
      "2/2 [==============================] - 0s 87ms/step - loss: 0.5137 - accuracy: 0.7940 - val_loss: 0.4298 - val_accuracy: 0.8696\n",
      "Epoch 148/200\n",
      "2/2 [==============================] - 0s 87ms/step - loss: 0.5134 - accuracy: 0.7940 - val_loss: 0.4290 - val_accuracy: 0.8696\n",
      "Epoch 149/200\n",
      "2/2 [==============================] - 0s 88ms/step - loss: 0.5131 - accuracy: 0.7940 - val_loss: 0.4281 - val_accuracy: 0.8696\n",
      "Epoch 150/200\n",
      "2/2 [==============================] - 0s 86ms/step - loss: 0.5128 - accuracy: 0.7940 - val_loss: 0.4274 - val_accuracy: 0.8696\n",
      "Epoch 151/200\n",
      "2/2 [==============================] - 0s 86ms/step - loss: 0.5125 - accuracy: 0.7940 - val_loss: 0.4266 - val_accuracy: 0.8696\n",
      "Epoch 152/200\n",
      "2/2 [==============================] - 0s 90ms/step - loss: 0.5122 - accuracy: 0.7940 - val_loss: 0.4258 - val_accuracy: 0.8696\n",
      "Epoch 153/200\n",
      "2/2 [==============================] - 0s 87ms/step - loss: 0.5121 - accuracy: 0.7940 - val_loss: 0.4254 - val_accuracy: 0.8696\n",
      "Epoch 154/200\n",
      "2/2 [==============================] - 0s 86ms/step - loss: 0.5119 - accuracy: 0.7940 - val_loss: 0.4247 - val_accuracy: 0.8696\n",
      "Epoch 155/200\n",
      "2/2 [==============================] - 0s 87ms/step - loss: 0.5116 - accuracy: 0.7940 - val_loss: 0.4240 - val_accuracy: 0.8696\n",
      "Epoch 156/200\n",
      "2/2 [==============================] - 0s 87ms/step - loss: 0.5114 - accuracy: 0.7940 - val_loss: 0.4233 - val_accuracy: 0.8696\n",
      "Epoch 157/200\n",
      "2/2 [==============================] - 0s 90ms/step - loss: 0.5112 - accuracy: 0.7940 - val_loss: 0.4227 - val_accuracy: 0.8696\n",
      "Epoch 158/200\n",
      "2/2 [==============================] - 0s 87ms/step - loss: 0.5111 - accuracy: 0.7940 - val_loss: 0.4220 - val_accuracy: 0.8696\n",
      "Epoch 159/200\n",
      "2/2 [==============================] - 0s 90ms/step - loss: 0.5108 - accuracy: 0.7940 - val_loss: 0.4213 - val_accuracy: 0.8696\n",
      "Epoch 160/200\n",
      "2/2 [==============================] - 0s 88ms/step - loss: 0.5106 - accuracy: 0.7940 - val_loss: 0.4207 - val_accuracy: 0.8696\n",
      "Epoch 161/200\n",
      "2/2 [==============================] - 0s 100ms/step - loss: 0.5105 - accuracy: 0.7940 - val_loss: 0.4202 - val_accuracy: 0.8696\n",
      "Epoch 162/200\n",
      "2/2 [==============================] - 0s 89ms/step - loss: 0.5103 - accuracy: 0.7940 - val_loss: 0.4197 - val_accuracy: 0.8696\n",
      "Epoch 163/200\n",
      "2/2 [==============================] - 0s 85ms/step - loss: 0.5101 - accuracy: 0.7940 - val_loss: 0.4193 - val_accuracy: 0.8696\n",
      "Epoch 164/200\n",
      "2/2 [==============================] - 0s 85ms/step - loss: 0.5101 - accuracy: 0.7940 - val_loss: 0.4187 - val_accuracy: 0.8696\n",
      "Epoch 165/200\n",
      "2/2 [==============================] - 0s 86ms/step - loss: 0.5100 - accuracy: 0.7940 - val_loss: 0.4183 - val_accuracy: 0.8696\n",
      "Epoch 166/200\n",
      "2/2 [==============================] - 0s 86ms/step - loss: 0.5098 - accuracy: 0.7940 - val_loss: 0.4179 - val_accuracy: 0.8696\n",
      "Epoch 167/200\n",
      "2/2 [==============================] - 0s 104ms/step - loss: 0.5097 - accuracy: 0.7940 - val_loss: 0.4175 - val_accuracy: 0.8696\n",
      "Epoch 168/200\n",
      "2/2 [==============================] - 0s 86ms/step - loss: 0.5096 - accuracy: 0.7940 - val_loss: 0.4171 - val_accuracy: 0.8696\n",
      "Epoch 169/200\n",
      "2/2 [==============================] - 0s 87ms/step - loss: 0.5095 - accuracy: 0.7940 - val_loss: 0.4165 - val_accuracy: 0.8696\n",
      "Epoch 170/200\n",
      "2/2 [==============================] - 0s 107ms/step - loss: 0.5095 - accuracy: 0.7940 - val_loss: 0.4161 - val_accuracy: 0.8696\n",
      "Epoch 171/200\n",
      "2/2 [==============================] - 0s 87ms/step - loss: 0.5092 - accuracy: 0.7940 - val_loss: 0.4155 - val_accuracy: 0.8696\n",
      "Epoch 172/200\n",
      "2/2 [==============================] - 0s 94ms/step - loss: 0.5092 - accuracy: 0.7940 - val_loss: 0.4149 - val_accuracy: 0.8696\n",
      "Epoch 173/200\n",
      "2/2 [==============================] - 0s 97ms/step - loss: 0.5091 - accuracy: 0.7940 - val_loss: 0.4145 - val_accuracy: 0.8696\n",
      "Epoch 174/200\n",
      "2/2 [==============================] - 0s 107ms/step - loss: 0.5090 - accuracy: 0.7940 - val_loss: 0.4140 - val_accuracy: 0.8696\n",
      "Epoch 175/200\n",
      "2/2 [==============================] - 0s 102ms/step - loss: 0.5089 - accuracy: 0.7940 - val_loss: 0.4136 - val_accuracy: 0.8696\n",
      "Epoch 176/200\n",
      "2/2 [==============================] - 0s 100ms/step - loss: 0.5088 - accuracy: 0.7940 - val_loss: 0.4130 - val_accuracy: 0.8696\n",
      "Epoch 177/200\n",
      "2/2 [==============================] - 0s 99ms/step - loss: 0.5086 - accuracy: 0.7940 - val_loss: 0.4126 - val_accuracy: 0.8696\n",
      "Epoch 178/200\n",
      "2/2 [==============================] - 0s 94ms/step - loss: 0.5086 - accuracy: 0.7940 - val_loss: 0.4123 - val_accuracy: 0.8696\n",
      "Epoch 179/200\n",
      "2/2 [==============================] - 0s 91ms/step - loss: 0.5085 - accuracy: 0.7940 - val_loss: 0.4121 - val_accuracy: 0.8696\n",
      "Epoch 180/200\n",
      "2/2 [==============================] - 0s 100ms/step - loss: 0.5085 - accuracy: 0.7940 - val_loss: 0.4118 - val_accuracy: 0.8696\n",
      "Epoch 181/200\n",
      "2/2 [==============================] - 0s 101ms/step - loss: 0.5083 - accuracy: 0.7940 - val_loss: 0.4114 - val_accuracy: 0.8696\n",
      "Epoch 182/200\n",
      "2/2 [==============================] - 0s 100ms/step - loss: 0.5084 - accuracy: 0.7940 - val_loss: 0.4112 - val_accuracy: 0.8696\n",
      "Epoch 183/200\n",
      "2/2 [==============================] - 0s 107ms/step - loss: 0.5084 - accuracy: 0.7940 - val_loss: 0.4108 - val_accuracy: 0.8696\n",
      "Epoch 184/200\n",
      "2/2 [==============================] - 0s 106ms/step - loss: 0.5082 - accuracy: 0.7940 - val_loss: 0.4105 - val_accuracy: 0.8696\n",
      "Epoch 185/200\n",
      "2/2 [==============================] - 0s 116ms/step - loss: 0.5082 - accuracy: 0.7940 - val_loss: 0.4103 - val_accuracy: 0.8696\n",
      "Epoch 186/200\n",
      "2/2 [==============================] - 0s 128ms/step - loss: 0.5081 - accuracy: 0.7940 - val_loss: 0.4100 - val_accuracy: 0.8696\n",
      "Epoch 187/200\n",
      "2/2 [==============================] - 0s 106ms/step - loss: 0.5080 - accuracy: 0.7940 - val_loss: 0.4097 - val_accuracy: 0.8696\n",
      "Epoch 188/200\n",
      "2/2 [==============================] - 0s 105ms/step - loss: 0.5080 - accuracy: 0.7940 - val_loss: 0.4097 - val_accuracy: 0.8696\n",
      "Epoch 189/200\n",
      "2/2 [==============================] - 0s 108ms/step - loss: 0.5080 - accuracy: 0.7940 - val_loss: 0.4096 - val_accuracy: 0.8696\n",
      "Epoch 190/200\n",
      "2/2 [==============================] - 0s 105ms/step - loss: 0.5079 - accuracy: 0.7940 - val_loss: 0.4095 - val_accuracy: 0.8696\n",
      "Epoch 191/200\n",
      "2/2 [==============================] - 0s 105ms/step - loss: 0.5081 - accuracy: 0.7940 - val_loss: 0.4089 - val_accuracy: 0.8696\n",
      "Epoch 192/200\n",
      "2/2 [==============================] - 0s 106ms/step - loss: 0.5078 - accuracy: 0.7940 - val_loss: 0.4088 - val_accuracy: 0.8696\n",
      "Epoch 193/200\n",
      "2/2 [==============================] - 0s 105ms/step - loss: 0.5078 - accuracy: 0.7940 - val_loss: 0.4084 - val_accuracy: 0.8696\n",
      "Epoch 194/200\n",
      "2/2 [==============================] - 0s 104ms/step - loss: 0.5078 - accuracy: 0.7940 - val_loss: 0.4085 - val_accuracy: 0.8696\n",
      "Epoch 195/200\n",
      "2/2 [==============================] - 0s 108ms/step - loss: 0.5076 - accuracy: 0.7940 - val_loss: 0.4084 - val_accuracy: 0.8696\n",
      "Epoch 196/200\n",
      "2/2 [==============================] - 0s 124ms/step - loss: 0.5075 - accuracy: 0.7940 - val_loss: 0.4084 - val_accuracy: 0.8696\n",
      "Epoch 197/200\n",
      "2/2 [==============================] - 0s 104ms/step - loss: 0.5076 - accuracy: 0.7940 - val_loss: 0.4087 - val_accuracy: 0.8696\n",
      "Epoch 198/200\n",
      "2/2 [==============================] - 0s 98ms/step - loss: 0.5077 - accuracy: 0.7940 - val_loss: 0.4082 - val_accuracy: 0.8696\n",
      "Epoch 199/200\n",
      "2/2 [==============================] - 0s 101ms/step - loss: 0.5075 - accuracy: 0.7940 - val_loss: 0.4077 - val_accuracy: 0.8696\n",
      "Epoch 200/200\n",
      "2/2 [==============================] - 0s 116ms/step - loss: 0.5073 - accuracy: 0.7940 - val_loss: 0.4077 - val_accuracy: 0.8696\n"
     ]
    }
   ],
   "source": [
    "model = init_model()\n",
    "callbacks = [EarlyStopping(monitor='loss', patience=3), History()]\n",
    "history = model.fit(x_train, y_train,validation_split=0.1, epochs=200, batch_size=128, callbacks=callbacks)"
   ]
  },
  {
   "cell_type": "code",
   "execution_count": 90,
   "metadata": {
    "tags": []
   },
   "outputs": [
    {
     "name": "stdout",
     "output_type": "stream",
     "text": [
      "(None, 1294, 12)\n",
      "(None, 647, 12)\n",
      "(None, 647, 12)\n",
      "(None, 647, 32)\n",
      "(None, 323, 32)\n",
      "(None, 323, 12)\n",
      "(None, 323, 12)\n",
      "(None, 323, 12)\n",
      "(None, 323, 48)\n",
      "(None, 323, 48)\n",
      "(None, 323, 32)\n",
      "(None, 161, 32)\n",
      "(None, 12)\n",
      "(None, 12)\n",
      "(None, 512)\n",
      "(None, 512)\n",
      "(None, 2)\n"
     ]
    }
   ],
   "source": [
    "for layer in model.layers:\n",
    "    print(layer.output_shape)"
   ]
  },
  {
   "cell_type": "markdown",
   "metadata": {},
   "source": [
    "Predict test set"
   ]
  },
  {
   "cell_type": "code",
   "execution_count": 97,
   "metadata": {
    "tags": []
   },
   "outputs": [
    {
     "name": "stdout",
     "output_type": "stream",
     "text": [
      "1/1 [==============================] - 1s 822ms/step - loss: 1.2427 - accuracy: 0.0000e+00\n",
      "[1.2427231073379517, 0.0]\n",
      "4/4 [==============================] - 1s 10ms/step\n",
      "[1 1 1 1 1 1 1 1 1 1 1 1 1 1 1 1 1 1 1 1 1 1 1 1 1 1 1 1 1 1 1 1 1 1 1 1 1\n",
      " 1 1 1 1 1 1 1 1 1 1 1 1 1 1 1 1 1 1 1 1 1 1 1 1 1 1 1 1 1 1 1 1 1 1 1 1 1\n",
      " 1 1 1 1 1 1 1 1 1 1 1 1 1 1 1 1 1 1 1 1 1 1 1 1 1 1 1 1 1 1 1 1 1]\n",
      "[1 1 1 1 1 1 1 1 1 1 1 1 1 1 1 1 1 1 1 1 1 1 1 1 1 0 0 1 1 1 1 0 0 1 0 1 0\n",
      " 0 0 1 1 0 0 1 0 1 1 0 1 1 1 0 1 1 1 1 1 1 1 1 0 0 1 0 0 1 1 0 1 0 1 1 1 1\n",
      " 1 0 1 1 1 1 1 0 0 0 0 0 1 1 1 1 0 1 1 0 1 1 0 0 1 1 1 0 1 0 1 0 0]\n",
      "Accuracy on test set:  0.6915887850467289\n"
     ]
    }
   ],
   "source": [
    "results = model.evaluate(x_test, y_test, batch_size=128)\n",
    "print(results)\n",
    "predictions = model.predict(x_test)\n",
    "\n",
    "label_predictions = []\n",
    "\n",
    "# convert from category to label\n",
    "for prediction in predictions:\n",
    "    if prediction[0] > prediction[1]:\n",
    "        label_predictions.append(0)\n",
    "    else: label_predictions.append(1)\n",
    "    \n",
    "label_predictions = np.array(label_predictions)\n",
    "label_test = np.array(label_test)\n",
    "\n",
    "print(label_predictions)\n",
    "print(label_test)\n",
    "\n",
    "# calc acc\n",
    "true_count = 0\n",
    "for idx, label in enumerate(label_predictions):\n",
    "    if label == label_test[idx]:\n",
    "        true_count += 1\n",
    "        \n",
    "print(\"Accuracy on test set: \", true_count/(len(label_test)))"
   ]
  },
  {
   "cell_type": "code",
   "execution_count": 92,
   "metadata": {
    "tags": []
   },
   "outputs": [
    {
     "name": "stdout",
     "output_type": "stream",
     "text": [
      "dict_keys(['loss', 'accuracy', 'val_loss', 'val_accuracy'])\n"
     ]
    }
   ],
   "source": [
    "print(history.history.keys())"
   ]
  },
  {
   "cell_type": "code",
   "execution_count": 86,
   "metadata": {
    "tags": []
   },
   "outputs": [],
   "source": [
    "import os\n",
    "os.environ['KMP_DUPLICATE_LIB_OK'] = 'TRUE'"
   ]
  },
  {
   "cell_type": "markdown",
   "metadata": {},
   "source": [
    "plot the loss and acc from training process"
   ]
  },
  {
   "cell_type": "code",
   "execution_count": 98,
   "metadata": {
    "tags": []
   },
   "outputs": [
    {
     "data": {
      "image/png": "[encoded data removed]",
      "text/plain": [
       "<Figure size 640x480 with 1 Axes>"
      ]
     },
     "metadata": {},
     "output_type": "display_data"
    },
    {
     "data": {
      "image/png": "[encoded data removed]",
      "text/plain": [
       "<Figure size 640x480 with 1 Axes>"
      ]
     },
     "metadata": {},
     "output_type": "display_data"
    }
   ],
   "source": [
    "from matplotlib import pyplot as plt\n",
    "# Plot accuracy\n",
    "plt.subplot(2,1,1)\n",
    "plt.plot(history.history['accuracy'])\n",
    "plt.plot(history.history['val_accuracy'])\n",
    "plt.title('Model Accuracy')\n",
    "plt.xlabel('Epoch')\n",
    "plt.ylabel('Accuracy')\n",
    "plt.legend(['train', 'test'], loc='upper left')\n",
    "plt.show()\n",
    "\n",
    "# Plot loss\n",
    "plt.subplot(2,1,2)\n",
    "plt.plot(history.history['loss'])\n",
    "plt.plot(history.history['val_loss'])\n",
    "plt.title('Model Loss')\n",
    "plt.xlabel('Epoch')\n",
    "plt.ylabel('Loss')\n",
    "plt.legend(['train', 'test'], loc='upper left')\n",
    "plt.show()"
   ]
  },
  {
   "cell_type": "code",
   "execution_count": null,
   "metadata": {},
   "outputs": [],
   "source": []
  }
 ],
 "metadata": {
  "kernelspec": {
   "display_name": "Python 3 (ipykernel)",
   "language": "python",
   "name": "python3"
  },
  "language_info": {
   "codemirror_mode": {
    "name": "ipython",
    "version": 3
   },
   "file_extension": ".py",
   "mimetype": "text/x-python",
   "name": "python",
   "nbconvert_exporter": "python",
   "pygments_lexer": "ipython3",
   "version": "3.11.5"
  }
 },
 "nbformat": 4,
 "nbformat_minor": 4
}
